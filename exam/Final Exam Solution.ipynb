{
 "cells": [
  {
   "cell_type": "markdown",
   "id": "8a0ee180",
   "metadata": {},
   "source": [
    "# Final Exam Solution\n",
    "\n",
    "## FINM 37500 - 2024\n",
    "\n",
    "### UChicago Financial Mathematics\n",
    "\n",
    "* Mark Hendricks\n",
    "* hendricks@uchicago.edu\n",
    "\n",
    "Thanks to\n",
    "* Younghun Lee\n",
    "* Jordan Sacks\n",
    "* Burak Sekerci"
   ]
  },
  {
   "cell_type": "markdown",
   "id": "b990fcc6",
   "metadata": {},
   "source": [
    "***"
   ]
  },
  {
   "cell_type": "markdown",
   "id": "3f8c621c",
   "metadata": {},
   "source": [
    "# Instructions"
   ]
  },
  {
   "cell_type": "markdown",
   "id": "a3c0a21f",
   "metadata": {},
   "source": [
    "## Please note the following:\n",
    "\n",
    "Points\n",
    "* You have **180 minutes** to complete the exam.\n",
    "* For every minute late you submit the exam, you will lose one point.\n",
    "Final Exam\n",
    "\n",
    "Submission\n",
    "* You will upload your solution to the Final Exam assignment on Canvas, where you downloaded this.\n",
    "* Your submission should be readable, (the graders can understand your answers,) and it should include all code used in your analysis in a file format that the code can be executed. (ie. .ipynb preferred, .pdf is unacceptable.)\n",
    "\n",
    "Rules\n",
    "* The exam is open-material, closed-communication.\n",
    "* You do not need to cite material from the course github repo--you are welcome to use the code posted there without citation, (only for this exam.)\n",
    "\n",
    "Advice\n",
    "* If you find any question to be unclear, state your interpretation and proceed. We will only answer questions of interpretation if there is a typo, error, etc.\n",
    "* The exam will be graded for partial credit.\n",
    "\n",
    "Answer Quality\n",
    "* For conceptual questions, note that we will grade your answer for its relevance to our course focus and discussion. \n",
    "* Making points that are irrelevant, out-of-context, or overly general will may not help and could hurt your score for the question.\n",
    "* This may be particularly relevant for answers which are copied from LLMs such as ChatGPT, but do not get at the heart of our contextual course learning."
   ]
  },
  {
   "cell_type": "markdown",
   "id": "d75ee35b",
   "metadata": {},
   "source": [
    "## Scoring\n",
    "\n",
    "| Problem | Points |\n",
    "|---------|--------|\n",
    "| 1       | 20     |\n",
    "| 2       | 25     |\n",
    "| 3       | 50     |\n",
    "| 4       | 55     |\n",
    "| **Total**   | **150**|\n",
    "\n",
    "#### Each numbered question is worth 5pts unless otherwise noted."
   ]
  },
  {
   "cell_type": "markdown",
   "id": "57ef0a4e",
   "metadata": {},
   "source": [
    "***"
   ]
  },
  {
   "cell_type": "markdown",
   "id": "0e0f593a",
   "metadata": {},
   "source": [
    "## Data\n",
    "\n",
    "**All data files are found in the class github repo, in the `data` folder.**\n",
    "\n",
    "This exam makes use of the following data files:\n",
    "* `exam_data_2024-03-05.xlsx`\n",
    "\n",
    "This file has sheets for...\n",
    "* curve data - discount factors and forward volatilities\n",
    "* BDT tree of rates (continuously compounded, as usual)\n",
    "* vol quotes (across strikes) on swaptions for a particular expiry and tenor\n",
    "* SABR parameters for a vol skew of the expiry and tenor associted with the vol quotes on the previous sheet.\n",
    "\n",
    "Note\n",
    "* the curve data is given at quarterly frequency\n",
    "* all rates reported in the curve data are quarterly compounded, which is conveneint for the study of quarterly products in this exam (whether caps, floors, swaps, etc.)"
   ]
  },
  {
   "cell_type": "markdown",
   "id": "48e281f2",
   "metadata": {},
   "source": [
    "### Load Data\n",
    "\n",
    "If useful, the following code loads the data:"
   ]
  },
  {
   "cell_type": "code",
   "execution_count": 1,
   "id": "445b65d0",
   "metadata": {},
   "outputs": [],
   "source": [
    "import numpy as np\n",
    "import pandas as pd"
   ]
  },
  {
   "cell_type": "code",
   "execution_count": 2,
   "id": "216b806e",
   "metadata": {},
   "outputs": [],
   "source": [
    "DATE = '2024-03-05'\n",
    "\n",
    "FILEIN = f'../data/exam_data_{DATE}.xlsx'\n",
    "\n",
    "sheet_curves = 'rate curves'\n",
    "sheet_tree = 'rate tree'\n",
    "sheet_volskew = 'bloomberg vcub'\n",
    "sheet_sabrparams = 'sabr params'\n",
    "\n",
    "curves = pd.read_excel(FILEIN, sheet_name=sheet_curves).set_index('tenor')\n",
    "\n",
    "ratetree = pd.read_excel(FILEIN, sheet_name=sheet_tree).set_index('state')\n",
    "ratetree.columns.name = 'time'\n",
    "\n",
    "volskew = pd.read_excel(FILEIN, sheet_name=sheet_volskew)\n",
    "\n",
    "sabrparams = pd.read_excel(FILEIN, sheet_name=sheet_sabrparams).set_index('parameter')"
   ]
  },
  {
   "cell_type": "markdown",
   "id": "1e10d094",
   "metadata": {},
   "source": [
    "***"
   ]
  },
  {
   "cell_type": "markdown",
   "id": "61b5f313",
   "metadata": {},
   "source": [
    "# 1. Models"
   ]
  },
  {
   "cell_type": "markdown",
   "id": "14acc332",
   "metadata": {},
   "source": [
    "## 1.1. (10pts)\n",
    "\n",
    "Be specific as to which type of data is used to estimate a binomial rate tree. Or, if the feature is assumed rather than estimated, make that clear.\n",
    "\n",
    "How do we estimate the rate tree's...\n",
    "* drift\n",
    "* distribution (Ho-Lee vs Black-Derman-Toy)\n",
    "* nodes\n",
    "* probabilities"
   ]
  },
  {
   "cell_type": "markdown",
   "id": "fe5f7372",
   "metadata": {},
   "source": [
    "## 1.2.\n",
    "\n",
    "Consider an interest-rate cap with only a single caplet. Which of the following could we use as an underlying binomial tree to price this cap?\n",
    "\n",
    "* interest-rate tree\n",
    "* bond tree\n",
    "* swap tree\n",
    "* floor tree"
   ]
  },
  {
   "cell_type": "markdown",
   "id": "48c9984e",
   "metadata": {},
   "source": [
    "## 1.3.\n",
    "\n",
    "True or False: SABR is used to have structure in modeling implied volatilities across strikes, tenors, and expirations."
   ]
  },
  {
   "cell_type": "markdown",
   "id": "a72ae9b3",
   "metadata": {},
   "source": [
    "***"
   ]
  },
  {
   "cell_type": "markdown",
   "id": "0ea9cddc",
   "metadata": {},
   "source": [
    "# **<span style=\"color:red\">Solution </span>**"
   ]
  },
  {
   "cell_type": "markdown",
   "id": "67c8aab4",
   "metadata": {},
   "source": [
    "## **<span style=\"color:red\">1.1 </span>**\n",
    "\n",
    "* drift - term structure of spot rates, or more specifically, discount factors.\n",
    "* distribution - assumption. We assumed log-normal (BDT) in the course but mentioned that we could easily substitute Ho-Lee.\n",
    "* nodes - fit these to implied-volatilities fit to caps. These vols set the nodes, given that probabilities were set without loss of generality.\n",
    "* probabilities - assumed to be .5, with nodes then restricted such that term structure and vols fit."
   ]
  },
  {
   "cell_type": "markdown",
   "id": "2c077578",
   "metadata": {},
   "source": [
    "## **<span style=\"color:red\">1.2 </span>**\n",
    "\n",
    "Any of these will work as a one-period underlying tree for the cap. Anything with differential values across the two interest rates will work, as seen in Homework 1."
   ]
  },
  {
   "cell_type": "markdown",
   "id": "412be39e",
   "metadata": {},
   "source": [
    "## **<span style=\"color:red\">1.3 </span>**\n",
    "\n",
    "False. SABR is used to model implied volatilities across strikes. The model implications are not used to understand volatilities across expirys or tenors--rather, SABR is fit to each expiry-tenor combination."
   ]
  },
  {
   "cell_type": "markdown",
   "id": "43531c5c",
   "metadata": {},
   "source": [
    "***"
   ]
  },
  {
   "cell_type": "markdown",
   "id": "88a7301b",
   "metadata": {},
   "source": [
    "# 2. Pricing with BDT and Black"
   ]
  },
  {
   "cell_type": "markdown",
   "id": "21f41922",
   "metadata": {},
   "source": [
    "Use `rate curves` for market data."
   ]
  },
  {
   "cell_type": "markdown",
   "id": "276a1233",
   "metadata": {},
   "source": [
    "## 2.1.\n",
    "\n",
    "Recall that a floor is a portfolio of floorlets which\n",
    "* depend on the realized interest rate one quarter before the expiration.\n",
    "* each have the same strike interest rate.\n",
    "\n",
    "Use Black's formula to price **just one floorlet**\n",
    "* expiring at `T=3`\n",
    "* struck at the `T=3` swap rate\n",
    "* notional of `100`"
   ]
  },
  {
   "cell_type": "markdown",
   "id": "dcf321b6",
   "metadata": {},
   "source": [
    "## 2.2.\n",
    "\n",
    "Use Black's formula to price the entire floor with expiration of `T=3`.\n",
    "\n",
    "The floor has floorlets at `quarterly` frequency, except the first quarter."
   ]
  },
  {
   "cell_type": "markdown",
   "id": "260d6c3c",
   "metadata": {},
   "source": [
    "## 2.3.\n",
    "\n",
    "Use `rate tree` for a BDT binomial tree fit to market data for your convenience.\n",
    "\n",
    "Use this binomial tree to price the floor described above.\n",
    "\n",
    "Display the binomial tree of prices."
   ]
  },
  {
   "cell_type": "markdown",
   "id": "a1e9aac3",
   "metadata": {},
   "source": [
    "## 2.4.\n",
    "\n",
    "What do you think is the most relevant reason for the difference in pricing between Black's formula and BDT?"
   ]
  },
  {
   "cell_type": "markdown",
   "id": "a6724b94",
   "metadata": {},
   "source": [
    "## 2.5.\n",
    "\n",
    "Use the BDT tree to price a swap...\n",
    "* `receiving-fixed` \n",
    "* swap rate of `3.65%`\n",
    "* tenor `T=3`\n",
    "* notional `N=100`.\n",
    "* frequency quarterly (`n=4`)\n",
    "\n",
    "Display the pricing tree."
   ]
  },
  {
   "cell_type": "markdown",
   "id": "34b30141",
   "metadata": {},
   "source": [
    "***"
   ]
  },
  {
   "cell_type": "markdown",
   "id": "b33f7f35",
   "metadata": {},
   "source": [
    "# **<span style=\"color:red\">Solution </span>**"
   ]
  },
  {
   "cell_type": "code",
   "execution_count": 3,
   "id": "7545ec57",
   "metadata": {},
   "outputs": [],
   "source": [
    "import warnings\n",
    "warnings.filterwarnings('ignore',category=FutureWarning)\n",
    "\n",
    "from datetime import date\n",
    "from datetime import datetime\n",
    "\n",
    "import sys\n",
    "sys.path.insert(0, '../cmds')\n",
    "from ficcvol import *\n",
    "from binomial import *\n",
    "from ratecurves import *\n",
    "from treasury_cmds import compound_rate\n",
    "from volskew import *"
   ]
  },
  {
   "cell_type": "code",
   "execution_count": 4,
   "id": "62f2b0f8",
   "metadata": {
    "scrolled": true
   },
   "outputs": [],
   "source": [
    "# import matplotlib.pyplot as plt\n",
    "# import seaborn as sns\n",
    "# %matplotlib inline\n",
    "# plt.rcParams['figure.figsize'] = (12,6)\n",
    "# plt.rcParams['font.size'] = 15\n",
    "# plt.rcParams['legend.fontsize'] = 13\n",
    "\n",
    "# import matplotlib.ticker as mtick\n",
    "# from matplotlib.ticker import (MultipleLocator,\n",
    "#                                FormatStrFormatter,\n",
    "#                                AutoMinorLocator)"
   ]
  },
  {
   "cell_type": "markdown",
   "id": "ecdac5e6",
   "metadata": {},
   "source": [
    "## **<span style=\"color:red\">2.1. </span>**"
   ]
  },
  {
   "cell_type": "markdown",
   "id": "3c827295",
   "metadata": {},
   "source": [
    "In using Black's formula for the caplet, be careful to use \n",
    "* $T-dt$ for the time-to-expiration, as the uncertainty of the floorlet is resolved one period early.\n",
    "* the **forward vol** as a given caplet is priced correctly with forward vol.\n",
    "\n",
    "#### Note\n",
    "Though the problem did not explicitly say the floorlet is quarterly (that is not said until `2.2`, it should be inferred given the curve data. Still, if one used a different frequency, that is fine. "
   ]
  },
  {
   "cell_type": "code",
   "execution_count": 5,
   "id": "c23d4471",
   "metadata": {},
   "outputs": [],
   "source": [
    "N = 100\n",
    "Tfloor = 3\n",
    "isPayer=False\n",
    "strikefloor = curves['swap rates'][Tfloor]\n",
    "freqfloor = 4\n",
    "\n",
    "fwdrate = curves.loc[Tfloor,'forwards']\n",
    "fwdvol = curves.loc[Tfloor,'fwd vols']\n",
    "\n",
    "Z = curves.loc[Tfloor,'discounts']"
   ]
  },
  {
   "cell_type": "code",
   "execution_count": 6,
   "id": "76d51c46",
   "metadata": {},
   "outputs": [
    {
     "data": {
      "text/plain": [
       "'Floorlet value at T=3 is $0.2749.'"
      ]
     },
     "metadata": {},
     "output_type": "display_data"
    }
   ],
   "source": [
    "floorlet_value = N * (1/freqfloor) * blacks_formula(Tfloor-1/freqfloor,fwdvol,strikefloor,fwdrate,Z,isCall=isPayer)\n",
    "display(f'Floorlet value at T={Tfloor} is ${floorlet_value:.4f}.')"
   ]
  },
  {
   "cell_type": "markdown",
   "id": "187fb0d7",
   "metadata": {},
   "source": [
    "## **<span style=\"color:red\">2.2. </span>**"
   ]
  },
  {
   "cell_type": "markdown",
   "id": "64b6c6f7",
   "metadata": {},
   "source": [
    "We use the same procedure as pricing the individual floorlet, but for all floorlets in the floor. Two considerations:\n",
    "\n",
    "1. There is no floorlet expiring at $T=0.25$.\n",
    "1. The **flat vol** at $T=3$ can be used in every floorlet to price the overall floor. Equivalently can use the forward vol at the expiration of each floorlet."
   ]
  },
  {
   "cell_type": "code",
   "execution_count": 7,
   "id": "a2261dd8",
   "metadata": {},
   "outputs": [],
   "source": [
    "maturities = np.arange(1/freqfloor,Tfloor+1/freqfloor,1/freqfloor)\n",
    "floorlets = pd.DataFrame(index=maturities,columns=['price'])\n",
    "\n",
    "for i,Tval in enumerate(floorlets.index):\n",
    "    if i==0:\n",
    "        floorlets.loc[Tval] = 0\n",
    "    else:\n",
    "        floorlets.loc[Tval] = N * (1/freqfloor) * blacks_formula(Tval-1/freqfloor,curves.loc[Tval,'fwd vols'],strikefloor,curves.loc[Tval,'forwards'],curves.loc[Tval,'discounts'],isCall=isPayer)                        "
   ]
  },
  {
   "cell_type": "code",
   "execution_count": 8,
   "id": "bf5629f3",
   "metadata": {},
   "outputs": [
    {
     "data": {
      "text/html": [
       "<style type=\"text/css\">\n",
       "</style>\n",
       "<table id=\"T_35195\">\n",
       "  <thead>\n",
       "    <tr>\n",
       "      <th class=\"blank level0\" >&nbsp;</th>\n",
       "      <th id=\"T_35195_level0_col0\" class=\"col_heading level0 col0\" >price</th>\n",
       "    </tr>\n",
       "  </thead>\n",
       "  <tbody>\n",
       "    <tr>\n",
       "      <th id=\"T_35195_level0_row0\" class=\"row_heading level0 row0\" >0.25</th>\n",
       "      <td id=\"T_35195_row0_col0\" class=\"data row0 col0\" >$0.000000</td>\n",
       "    </tr>\n",
       "    <tr>\n",
       "      <th id=\"T_35195_level0_row1\" class=\"row_heading level0 row1\" >0.50</th>\n",
       "      <td id=\"T_35195_row1_col0\" class=\"data row1 col0\" >$0.000028</td>\n",
       "    </tr>\n",
       "    <tr>\n",
       "      <th id=\"T_35195_level0_row2\" class=\"row_heading level0 row2\" >0.75</th>\n",
       "      <td id=\"T_35195_row2_col0\" class=\"data row2 col0\" >$0.006225</td>\n",
       "    </tr>\n",
       "    <tr>\n",
       "      <th id=\"T_35195_level0_row3\" class=\"row_heading level0 row3\" >1.00</th>\n",
       "      <td id=\"T_35195_row3_col0\" class=\"data row3 col0\" >$0.033980</td>\n",
       "    </tr>\n",
       "    <tr>\n",
       "      <th id=\"T_35195_level0_row4\" class=\"row_heading level0 row4\" >1.25</th>\n",
       "      <td id=\"T_35195_row4_col0\" class=\"data row4 col0\" >$0.141022</td>\n",
       "    </tr>\n",
       "    <tr>\n",
       "      <th id=\"T_35195_level0_row5\" class=\"row_heading level0 row5\" >1.50</th>\n",
       "      <td id=\"T_35195_row5_col0\" class=\"data row5 col0\" >$0.183306</td>\n",
       "    </tr>\n",
       "    <tr>\n",
       "      <th id=\"T_35195_level0_row6\" class=\"row_heading level0 row6\" >1.75</th>\n",
       "      <td id=\"T_35195_row6_col0\" class=\"data row6 col0\" >$0.216918</td>\n",
       "    </tr>\n",
       "    <tr>\n",
       "      <th id=\"T_35195_level0_row7\" class=\"row_heading level0 row7\" >2.00</th>\n",
       "      <td id=\"T_35195_row7_col0\" class=\"data row7 col0\" >$0.239634</td>\n",
       "    </tr>\n",
       "    <tr>\n",
       "      <th id=\"T_35195_level0_row8\" class=\"row_heading level0 row8\" >2.25</th>\n",
       "      <td id=\"T_35195_row8_col0\" class=\"data row8 col0\" >$0.272579</td>\n",
       "    </tr>\n",
       "    <tr>\n",
       "      <th id=\"T_35195_level0_row9\" class=\"row_heading level0 row9\" >2.50</th>\n",
       "      <td id=\"T_35195_row9_col0\" class=\"data row9 col0\" >$0.273936</td>\n",
       "    </tr>\n",
       "    <tr>\n",
       "      <th id=\"T_35195_level0_row10\" class=\"row_heading level0 row10\" >2.75</th>\n",
       "      <td id=\"T_35195_row10_col0\" class=\"data row10 col0\" >$0.272237</td>\n",
       "    </tr>\n",
       "    <tr>\n",
       "      <th id=\"T_35195_level0_row11\" class=\"row_heading level0 row11\" >3.00</th>\n",
       "      <td id=\"T_35195_row11_col0\" class=\"data row11 col0\" >$0.274916</td>\n",
       "    </tr>\n",
       "  </tbody>\n",
       "</table>\n"
      ],
      "text/plain": [
       "<pandas.io.formats.style.Styler at 0x157c31af0>"
      ]
     },
     "execution_count": 8,
     "metadata": {},
     "output_type": "execute_result"
    }
   ],
   "source": [
    "floorlets.style.format('${:.6f}').format_index('{:.2f}')"
   ]
  },
  {
   "cell_type": "code",
   "execution_count": 9,
   "id": "640a4efd",
   "metadata": {},
   "outputs": [
    {
     "data": {
      "text/html": [
       "<style type=\"text/css\">\n",
       "</style>\n",
       "<table id=\"T_a711b\">\n",
       "  <thead>\n",
       "    <tr>\n",
       "      <th class=\"blank level0\" >&nbsp;</th>\n",
       "      <th id=\"T_a711b_level0_col0\" class=\"col_heading level0 col0\" >floor</th>\n",
       "    </tr>\n",
       "  </thead>\n",
       "  <tbody>\n",
       "    <tr>\n",
       "      <th id=\"T_a711b_level0_row0\" class=\"row_heading level0 row0\" >price</th>\n",
       "      <td id=\"T_a711b_row0_col0\" class=\"data row0 col0\" >$1.9148</td>\n",
       "    </tr>\n",
       "  </tbody>\n",
       "</table>\n"
      ],
      "text/plain": [
       "<pandas.io.formats.style.Styler at 0x157e14ee0>"
      ]
     },
     "execution_count": 9,
     "metadata": {},
     "output_type": "execute_result"
    }
   ],
   "source": [
    "floor = floorlets.sum().to_frame().rename(columns={0:'floor'})\n",
    "floor.style.format('${:.4f}')"
   ]
  },
  {
   "cell_type": "markdown",
   "id": "61a82184",
   "metadata": {},
   "source": [
    "## **<span style=\"color:red\">2.3. </span>**"
   ]
  },
  {
   "cell_type": "code",
   "execution_count": 10,
   "id": "ad67b56f",
   "metadata": {},
   "outputs": [],
   "source": [
    "freqcurve = 4\n",
    "dt = 1/freqcurve\n",
    "compound = freqfloor\n",
    "tsteps = int(Tfloor/dt)"
   ]
  },
  {
   "cell_type": "code",
   "execution_count": 11,
   "id": "a1601d7b",
   "metadata": {},
   "outputs": [],
   "source": [
    "refratetree = compound * (np.exp(ratetree / compound)-1)\n",
    "\n",
    "if isPayer:\n",
    "    payoff = lambda r: N * dt * np.maximum(r-strikefloor,0)\n",
    "else:\n",
    "    payoff = lambda r: N * dt * np.maximum(strikefloor-r,0)\n",
    "\n",
    "cftree = payoff(refratetree.iloc[:tsteps,:tsteps])\n",
    "### no caplet until second step, so ensure 0 until then\n",
    "cftree.loc[0,0] = 0\n",
    "\n",
    "#format_bintree(refratetree.iloc[:tsteps,:tsteps],style='{:.2%}')\n",
    "#format_bintree(cftree)"
   ]
  },
  {
   "cell_type": "code",
   "execution_count": 12,
   "id": "d23fa701",
   "metadata": {},
   "outputs": [
    {
     "data": {
      "text/html": [
       "<style type=\"text/css\">\n",
       "</style>\n",
       "<table id=\"T_7a62a\">\n",
       "  <thead>\n",
       "    <tr>\n",
       "      <th class=\"index_name level0\" >time</th>\n",
       "      <th id=\"T_7a62a_level0_col0\" class=\"col_heading level0 col0\" >0.00</th>\n",
       "      <th id=\"T_7a62a_level0_col1\" class=\"col_heading level0 col1\" >0.25</th>\n",
       "      <th id=\"T_7a62a_level0_col2\" class=\"col_heading level0 col2\" >0.50</th>\n",
       "      <th id=\"T_7a62a_level0_col3\" class=\"col_heading level0 col3\" >0.75</th>\n",
       "      <th id=\"T_7a62a_level0_col4\" class=\"col_heading level0 col4\" >1.00</th>\n",
       "      <th id=\"T_7a62a_level0_col5\" class=\"col_heading level0 col5\" >1.25</th>\n",
       "      <th id=\"T_7a62a_level0_col6\" class=\"col_heading level0 col6\" >1.50</th>\n",
       "      <th id=\"T_7a62a_level0_col7\" class=\"col_heading level0 col7\" >1.75</th>\n",
       "      <th id=\"T_7a62a_level0_col8\" class=\"col_heading level0 col8\" >2.00</th>\n",
       "      <th id=\"T_7a62a_level0_col9\" class=\"col_heading level0 col9\" >2.25</th>\n",
       "      <th id=\"T_7a62a_level0_col10\" class=\"col_heading level0 col10\" >2.50</th>\n",
       "      <th id=\"T_7a62a_level0_col11\" class=\"col_heading level0 col11\" >2.75</th>\n",
       "    </tr>\n",
       "    <tr>\n",
       "      <th class=\"index_name level0\" >state</th>\n",
       "      <th class=\"blank col0\" >&nbsp;</th>\n",
       "      <th class=\"blank col1\" >&nbsp;</th>\n",
       "      <th class=\"blank col2\" >&nbsp;</th>\n",
       "      <th class=\"blank col3\" >&nbsp;</th>\n",
       "      <th class=\"blank col4\" >&nbsp;</th>\n",
       "      <th class=\"blank col5\" >&nbsp;</th>\n",
       "      <th class=\"blank col6\" >&nbsp;</th>\n",
       "      <th class=\"blank col7\" >&nbsp;</th>\n",
       "      <th class=\"blank col8\" >&nbsp;</th>\n",
       "      <th class=\"blank col9\" >&nbsp;</th>\n",
       "      <th class=\"blank col10\" >&nbsp;</th>\n",
       "      <th class=\"blank col11\" >&nbsp;</th>\n",
       "    </tr>\n",
       "  </thead>\n",
       "  <tbody>\n",
       "    <tr>\n",
       "      <th id=\"T_7a62a_level0_row0\" class=\"row_heading level0 row0\" >0</th>\n",
       "      <td id=\"T_7a62a_row0_col0\" class=\"data row0 col0\" >1.60</td>\n",
       "      <td id=\"T_7a62a_row0_col1\" class=\"data row0 col1\" >1.02</td>\n",
       "      <td id=\"T_7a62a_row0_col2\" class=\"data row0 col2\" >0.58</td>\n",
       "      <td id=\"T_7a62a_row0_col3\" class=\"data row0 col3\" >0.27</td>\n",
       "      <td id=\"T_7a62a_row0_col4\" class=\"data row0 col4\" >0.10</td>\n",
       "      <td id=\"T_7a62a_row0_col5\" class=\"data row0 col5\" >0.03</td>\n",
       "      <td id=\"T_7a62a_row0_col6\" class=\"data row0 col6\" >0.00</td>\n",
       "      <td id=\"T_7a62a_row0_col7\" class=\"data row0 col7\" >0.00</td>\n",
       "      <td id=\"T_7a62a_row0_col8\" class=\"data row0 col8\" >0.00</td>\n",
       "      <td id=\"T_7a62a_row0_col9\" class=\"data row0 col9\" >0.00</td>\n",
       "      <td id=\"T_7a62a_row0_col10\" class=\"data row0 col10\" >0.00</td>\n",
       "      <td id=\"T_7a62a_row0_col11\" class=\"data row0 col11\" >0.00</td>\n",
       "    </tr>\n",
       "    <tr>\n",
       "      <th id=\"T_7a62a_level0_row1\" class=\"row_heading level0 row1\" >1</th>\n",
       "      <td id=\"T_7a62a_row1_col0\" class=\"data row1 col0\" ></td>\n",
       "      <td id=\"T_7a62a_row1_col1\" class=\"data row1 col1\" >2.21</td>\n",
       "      <td id=\"T_7a62a_row1_col2\" class=\"data row1 col2\" >1.49</td>\n",
       "      <td id=\"T_7a62a_row1_col3\" class=\"data row1 col3\" >0.90</td>\n",
       "      <td id=\"T_7a62a_row1_col4\" class=\"data row1 col4\" >0.46</td>\n",
       "      <td id=\"T_7a62a_row1_col5\" class=\"data row1 col5\" >0.18</td>\n",
       "      <td id=\"T_7a62a_row1_col6\" class=\"data row1 col6\" >0.05</td>\n",
       "      <td id=\"T_7a62a_row1_col7\" class=\"data row1 col7\" >0.01</td>\n",
       "      <td id=\"T_7a62a_row1_col8\" class=\"data row1 col8\" >0.00</td>\n",
       "      <td id=\"T_7a62a_row1_col9\" class=\"data row1 col9\" >0.00</td>\n",
       "      <td id=\"T_7a62a_row1_col10\" class=\"data row1 col10\" >0.00</td>\n",
       "      <td id=\"T_7a62a_row1_col11\" class=\"data row1 col11\" >0.00</td>\n",
       "    </tr>\n",
       "    <tr>\n",
       "      <th id=\"T_7a62a_level0_row2\" class=\"row_heading level0 row2\" >2</th>\n",
       "      <td id=\"T_7a62a_row2_col0\" class=\"data row2 col0\" ></td>\n",
       "      <td id=\"T_7a62a_row2_col1\" class=\"data row2 col1\" ></td>\n",
       "      <td id=\"T_7a62a_row2_col2\" class=\"data row2 col2\" >2.99</td>\n",
       "      <td id=\"T_7a62a_row2_col3\" class=\"data row2 col3\" >2.13</td>\n",
       "      <td id=\"T_7a62a_row2_col4\" class=\"data row2 col4\" >1.36</td>\n",
       "      <td id=\"T_7a62a_row2_col5\" class=\"data row2 col5\" >0.74</td>\n",
       "      <td id=\"T_7a62a_row2_col6\" class=\"data row2 col6\" >0.32</td>\n",
       "      <td id=\"T_7a62a_row2_col7\" class=\"data row2 col7\" >0.10</td>\n",
       "      <td id=\"T_7a62a_row2_col8\" class=\"data row2 col8\" >0.01</td>\n",
       "      <td id=\"T_7a62a_row2_col9\" class=\"data row2 col9\" >0.00</td>\n",
       "      <td id=\"T_7a62a_row2_col10\" class=\"data row2 col10\" >0.00</td>\n",
       "      <td id=\"T_7a62a_row2_col11\" class=\"data row2 col11\" >0.00</td>\n",
       "    </tr>\n",
       "    <tr>\n",
       "      <th id=\"T_7a62a_level0_row3\" class=\"row_heading level0 row3\" >3</th>\n",
       "      <td id=\"T_7a62a_row3_col0\" class=\"data row3 col0\" ></td>\n",
       "      <td id=\"T_7a62a_row3_col1\" class=\"data row3 col1\" ></td>\n",
       "      <td id=\"T_7a62a_row3_col2\" class=\"data row3 col2\" ></td>\n",
       "      <td id=\"T_7a62a_row3_col3\" class=\"data row3 col3\" >3.88</td>\n",
       "      <td id=\"T_7a62a_row3_col4\" class=\"data row3 col4\" >2.94</td>\n",
       "      <td id=\"T_7a62a_row3_col5\" class=\"data row3 col5\" >2.00</td>\n",
       "      <td id=\"T_7a62a_row3_col6\" class=\"data row3 col6\" >1.17</td>\n",
       "      <td id=\"T_7a62a_row3_col7\" class=\"data row3 col7\" >0.55</td>\n",
       "      <td id=\"T_7a62a_row3_col8\" class=\"data row3 col8\" >0.18</td>\n",
       "      <td id=\"T_7a62a_row3_col9\" class=\"data row3 col9\" >0.02</td>\n",
       "      <td id=\"T_7a62a_row3_col10\" class=\"data row3 col10\" >0.00</td>\n",
       "      <td id=\"T_7a62a_row3_col11\" class=\"data row3 col11\" >0.00</td>\n",
       "    </tr>\n",
       "    <tr>\n",
       "      <th id=\"T_7a62a_level0_row4\" class=\"row_heading level0 row4\" >4</th>\n",
       "      <td id=\"T_7a62a_row4_col0\" class=\"data row4 col0\" ></td>\n",
       "      <td id=\"T_7a62a_row4_col1\" class=\"data row4 col1\" ></td>\n",
       "      <td id=\"T_7a62a_row4_col2\" class=\"data row4 col2\" ></td>\n",
       "      <td id=\"T_7a62a_row4_col3\" class=\"data row4 col3\" ></td>\n",
       "      <td id=\"T_7a62a_row4_col4\" class=\"data row4 col4\" >4.51</td>\n",
       "      <td id=\"T_7a62a_row4_col5\" class=\"data row4 col5\" >3.51</td>\n",
       "      <td id=\"T_7a62a_row4_col6\" class=\"data row4 col6\" >2.55</td>\n",
       "      <td id=\"T_7a62a_row4_col7\" class=\"data row4 col7\" >1.68</td>\n",
       "      <td id=\"T_7a62a_row4_col8\" class=\"data row4 col8\" >0.93</td>\n",
       "      <td id=\"T_7a62a_row4_col9\" class=\"data row4 col9\" >0.34</td>\n",
       "      <td id=\"T_7a62a_row4_col10\" class=\"data row4 col10\" >0.05</td>\n",
       "      <td id=\"T_7a62a_row4_col11\" class=\"data row4 col11\" >0.00</td>\n",
       "    </tr>\n",
       "    <tr>\n",
       "      <th id=\"T_7a62a_level0_row5\" class=\"row_heading level0 row5\" >5</th>\n",
       "      <td id=\"T_7a62a_row5_col0\" class=\"data row5 col0\" ></td>\n",
       "      <td id=\"T_7a62a_row5_col1\" class=\"data row5 col1\" ></td>\n",
       "      <td id=\"T_7a62a_row5_col2\" class=\"data row5 col2\" ></td>\n",
       "      <td id=\"T_7a62a_row5_col3\" class=\"data row5 col3\" ></td>\n",
       "      <td id=\"T_7a62a_row5_col4\" class=\"data row5 col4\" ></td>\n",
       "      <td id=\"T_7a62a_row5_col5\" class=\"data row5 col5\" >4.67</td>\n",
       "      <td id=\"T_7a62a_row5_col6\" class=\"data row5 col6\" >3.68</td>\n",
       "      <td id=\"T_7a62a_row5_col7\" class=\"data row5 col7\" >2.75</td>\n",
       "      <td id=\"T_7a62a_row5_col8\" class=\"data row5 col8\" >1.89</td>\n",
       "      <td id=\"T_7a62a_row5_col9\" class=\"data row5 col9\" >1.11</td>\n",
       "      <td id=\"T_7a62a_row5_col10\" class=\"data row5 col10\" >0.50</td>\n",
       "      <td id=\"T_7a62a_row5_col11\" class=\"data row5 col11\" >0.10</td>\n",
       "    </tr>\n",
       "    <tr>\n",
       "      <th id=\"T_7a62a_level0_row6\" class=\"row_heading level0 row6\" >6</th>\n",
       "      <td id=\"T_7a62a_row6_col0\" class=\"data row6 col0\" ></td>\n",
       "      <td id=\"T_7a62a_row6_col1\" class=\"data row6 col1\" ></td>\n",
       "      <td id=\"T_7a62a_row6_col2\" class=\"data row6 col2\" ></td>\n",
       "      <td id=\"T_7a62a_row6_col3\" class=\"data row6 col3\" ></td>\n",
       "      <td id=\"T_7a62a_row6_col4\" class=\"data row6 col4\" ></td>\n",
       "      <td id=\"T_7a62a_row6_col5\" class=\"data row6 col5\" ></td>\n",
       "      <td id=\"T_7a62a_row6_col6\" class=\"data row6 col6\" >4.48</td>\n",
       "      <td id=\"T_7a62a_row6_col7\" class=\"data row6 col7\" >3.52</td>\n",
       "      <td id=\"T_7a62a_row6_col8\" class=\"data row6 col8\" >2.61</td>\n",
       "      <td id=\"T_7a62a_row6_col9\" class=\"data row6 col9\" >1.75</td>\n",
       "      <td id=\"T_7a62a_row6_col10\" class=\"data row6 col10\" >1.00</td>\n",
       "      <td id=\"T_7a62a_row6_col11\" class=\"data row6 col11\" >0.40</td>\n",
       "    </tr>\n",
       "    <tr>\n",
       "      <th id=\"T_7a62a_level0_row7\" class=\"row_heading level0 row7\" >7</th>\n",
       "      <td id=\"T_7a62a_row7_col0\" class=\"data row7 col0\" ></td>\n",
       "      <td id=\"T_7a62a_row7_col1\" class=\"data row7 col1\" ></td>\n",
       "      <td id=\"T_7a62a_row7_col2\" class=\"data row7 col2\" ></td>\n",
       "      <td id=\"T_7a62a_row7_col3\" class=\"data row7 col3\" ></td>\n",
       "      <td id=\"T_7a62a_row7_col4\" class=\"data row7 col4\" ></td>\n",
       "      <td id=\"T_7a62a_row7_col5\" class=\"data row7 col5\" ></td>\n",
       "      <td id=\"T_7a62a_row7_col6\" class=\"data row7 col6\" ></td>\n",
       "      <td id=\"T_7a62a_row7_col7\" class=\"data row7 col7\" >4.04</td>\n",
       "      <td id=\"T_7a62a_row7_col8\" class=\"data row7 col8\" >3.09</td>\n",
       "      <td id=\"T_7a62a_row7_col9\" class=\"data row7 col9\" >2.18</td>\n",
       "      <td id=\"T_7a62a_row7_col10\" class=\"data row7 col10\" >1.34</td>\n",
       "      <td id=\"T_7a62a_row7_col11\" class=\"data row7 col11\" >0.61</td>\n",
       "    </tr>\n",
       "    <tr>\n",
       "      <th id=\"T_7a62a_level0_row8\" class=\"row_heading level0 row8\" >8</th>\n",
       "      <td id=\"T_7a62a_row8_col0\" class=\"data row8 col0\" ></td>\n",
       "      <td id=\"T_7a62a_row8_col1\" class=\"data row8 col1\" ></td>\n",
       "      <td id=\"T_7a62a_row8_col2\" class=\"data row8 col2\" ></td>\n",
       "      <td id=\"T_7a62a_row8_col3\" class=\"data row8 col3\" ></td>\n",
       "      <td id=\"T_7a62a_row8_col4\" class=\"data row8 col4\" ></td>\n",
       "      <td id=\"T_7a62a_row8_col5\" class=\"data row8 col5\" ></td>\n",
       "      <td id=\"T_7a62a_row8_col6\" class=\"data row8 col6\" ></td>\n",
       "      <td id=\"T_7a62a_row8_col7\" class=\"data row8 col7\" ></td>\n",
       "      <td id=\"T_7a62a_row8_col8\" class=\"data row8 col8\" >3.42</td>\n",
       "      <td id=\"T_7a62a_row8_col9\" class=\"data row8 col9\" >2.47</td>\n",
       "      <td id=\"T_7a62a_row8_col10\" class=\"data row8 col10\" >1.57</td>\n",
       "      <td id=\"T_7a62a_row8_col11\" class=\"data row8 col11\" >0.74</td>\n",
       "    </tr>\n",
       "    <tr>\n",
       "      <th id=\"T_7a62a_level0_row9\" class=\"row_heading level0 row9\" >9</th>\n",
       "      <td id=\"T_7a62a_row9_col0\" class=\"data row9 col0\" ></td>\n",
       "      <td id=\"T_7a62a_row9_col1\" class=\"data row9 col1\" ></td>\n",
       "      <td id=\"T_7a62a_row9_col2\" class=\"data row9 col2\" ></td>\n",
       "      <td id=\"T_7a62a_row9_col3\" class=\"data row9 col3\" ></td>\n",
       "      <td id=\"T_7a62a_row9_col4\" class=\"data row9 col4\" ></td>\n",
       "      <td id=\"T_7a62a_row9_col5\" class=\"data row9 col5\" ></td>\n",
       "      <td id=\"T_7a62a_row9_col6\" class=\"data row9 col6\" ></td>\n",
       "      <td id=\"T_7a62a_row9_col7\" class=\"data row9 col7\" ></td>\n",
       "      <td id=\"T_7a62a_row9_col8\" class=\"data row9 col8\" ></td>\n",
       "      <td id=\"T_7a62a_row9_col9\" class=\"data row9 col9\" >2.66</td>\n",
       "      <td id=\"T_7a62a_row9_col10\" class=\"data row9 col10\" >1.73</td>\n",
       "      <td id=\"T_7a62a_row9_col11\" class=\"data row9 col11\" >0.83</td>\n",
       "    </tr>\n",
       "    <tr>\n",
       "      <th id=\"T_7a62a_level0_row10\" class=\"row_heading level0 row10\" >10</th>\n",
       "      <td id=\"T_7a62a_row10_col0\" class=\"data row10 col0\" ></td>\n",
       "      <td id=\"T_7a62a_row10_col1\" class=\"data row10 col1\" ></td>\n",
       "      <td id=\"T_7a62a_row10_col2\" class=\"data row10 col2\" ></td>\n",
       "      <td id=\"T_7a62a_row10_col3\" class=\"data row10 col3\" ></td>\n",
       "      <td id=\"T_7a62a_row10_col4\" class=\"data row10 col4\" ></td>\n",
       "      <td id=\"T_7a62a_row10_col5\" class=\"data row10 col5\" ></td>\n",
       "      <td id=\"T_7a62a_row10_col6\" class=\"data row10 col6\" ></td>\n",
       "      <td id=\"T_7a62a_row10_col7\" class=\"data row10 col7\" ></td>\n",
       "      <td id=\"T_7a62a_row10_col8\" class=\"data row10 col8\" ></td>\n",
       "      <td id=\"T_7a62a_row10_col9\" class=\"data row10 col9\" ></td>\n",
       "      <td id=\"T_7a62a_row10_col10\" class=\"data row10 col10\" >1.83</td>\n",
       "      <td id=\"T_7a62a_row10_col11\" class=\"data row10 col11\" >0.89</td>\n",
       "    </tr>\n",
       "    <tr>\n",
       "      <th id=\"T_7a62a_level0_row11\" class=\"row_heading level0 row11\" >11</th>\n",
       "      <td id=\"T_7a62a_row11_col0\" class=\"data row11 col0\" ></td>\n",
       "      <td id=\"T_7a62a_row11_col1\" class=\"data row11 col1\" ></td>\n",
       "      <td id=\"T_7a62a_row11_col2\" class=\"data row11 col2\" ></td>\n",
       "      <td id=\"T_7a62a_row11_col3\" class=\"data row11 col3\" ></td>\n",
       "      <td id=\"T_7a62a_row11_col4\" class=\"data row11 col4\" ></td>\n",
       "      <td id=\"T_7a62a_row11_col5\" class=\"data row11 col5\" ></td>\n",
       "      <td id=\"T_7a62a_row11_col6\" class=\"data row11 col6\" ></td>\n",
       "      <td id=\"T_7a62a_row11_col7\" class=\"data row11 col7\" ></td>\n",
       "      <td id=\"T_7a62a_row11_col8\" class=\"data row11 col8\" ></td>\n",
       "      <td id=\"T_7a62a_row11_col9\" class=\"data row11 col9\" ></td>\n",
       "      <td id=\"T_7a62a_row11_col10\" class=\"data row11 col10\" ></td>\n",
       "      <td id=\"T_7a62a_row11_col11\" class=\"data row11 col11\" >0.94</td>\n",
       "    </tr>\n",
       "  </tbody>\n",
       "</table>\n"
      ],
      "text/plain": [
       "<pandas.io.formats.style.Styler at 0x157de2e50>"
      ]
     },
     "execution_count": 12,
     "metadata": {},
     "output_type": "execute_result"
    }
   ],
   "source": [
    "floortree = bintree_pricing(payoff=payoff, ratetree=ratetree.iloc[:tsteps,:tsteps], undertree= refratetree.iloc[:tsteps,:tsteps], cftree=cftree, timing='deferred')\n",
    "format_bintree(floortree,style='{:.2f}')"
   ]
  },
  {
   "cell_type": "markdown",
   "id": "4386a5ba",
   "metadata": {},
   "source": [
    "## **<span style=\"color:red\">2.4. </span>**"
   ]
  },
  {
   "cell_type": "markdown",
   "id": "82592224",
   "metadata": {},
   "source": [
    "There are multiple reasons the prices differ. Answers here should focus on the biggest differences.\n",
    "\n",
    "* The tree discretization: the dynamic of the quarterly floorlet is modeled in a single step in the tree.\n",
    "* Related to the point above, the volatility operates differently in the tree than in Black's formula.\n",
    "\n",
    "Other answers could be reasonable here."
   ]
  },
  {
   "cell_type": "markdown",
   "id": "b79fb2b5",
   "metadata": {},
   "source": [
    "## **<span style=\"color:red\">2.5. </span>**"
   ]
  },
  {
   "cell_type": "markdown",
   "id": "59e10aeb",
   "metadata": {},
   "source": [
    "We can reuse...\n",
    "\n",
    "* rate tree (continuously compounded) for discounting\n",
    "* reference rate tree (quarterly compounded) for cashflows\n",
    "* notional"
   ]
  },
  {
   "cell_type": "code",
   "execution_count": 13,
   "id": "ce111b37",
   "metadata": {},
   "outputs": [],
   "source": [
    "strikeswap = .0365\n",
    "isPayer = False\n",
    "\n",
    "if isPayer:\n",
    "    payoff = lambda r: N * dt * (r-strikeswap)\n",
    "else:\n",
    "    payoff = lambda r: N * dt * (strikeswap-r)\n",
    "\n",
    "cftree = payoff(refratetree.iloc[:tsteps,:tsteps])"
   ]
  },
  {
   "cell_type": "code",
   "execution_count": 14,
   "id": "7c5def4f",
   "metadata": {},
   "outputs": [
    {
     "data": {
      "text/html": [
       "<style type=\"text/css\">\n",
       "</style>\n",
       "<table id=\"T_f940c\">\n",
       "  <thead>\n",
       "    <tr>\n",
       "      <th class=\"index_name level0\" >time</th>\n",
       "      <th id=\"T_f940c_level0_col0\" class=\"col_heading level0 col0\" >0.00</th>\n",
       "      <th id=\"T_f940c_level0_col1\" class=\"col_heading level0 col1\" >0.25</th>\n",
       "      <th id=\"T_f940c_level0_col2\" class=\"col_heading level0 col2\" >0.50</th>\n",
       "      <th id=\"T_f940c_level0_col3\" class=\"col_heading level0 col3\" >0.75</th>\n",
       "      <th id=\"T_f940c_level0_col4\" class=\"col_heading level0 col4\" >1.00</th>\n",
       "      <th id=\"T_f940c_level0_col5\" class=\"col_heading level0 col5\" >1.25</th>\n",
       "      <th id=\"T_f940c_level0_col6\" class=\"col_heading level0 col6\" >1.50</th>\n",
       "      <th id=\"T_f940c_level0_col7\" class=\"col_heading level0 col7\" >1.75</th>\n",
       "      <th id=\"T_f940c_level0_col8\" class=\"col_heading level0 col8\" >2.00</th>\n",
       "      <th id=\"T_f940c_level0_col9\" class=\"col_heading level0 col9\" >2.25</th>\n",
       "      <th id=\"T_f940c_level0_col10\" class=\"col_heading level0 col10\" >2.50</th>\n",
       "      <th id=\"T_f940c_level0_col11\" class=\"col_heading level0 col11\" >2.75</th>\n",
       "    </tr>\n",
       "    <tr>\n",
       "      <th class=\"index_name level0\" >state</th>\n",
       "      <th class=\"blank col0\" >&nbsp;</th>\n",
       "      <th class=\"blank col1\" >&nbsp;</th>\n",
       "      <th class=\"blank col2\" >&nbsp;</th>\n",
       "      <th class=\"blank col3\" >&nbsp;</th>\n",
       "      <th class=\"blank col4\" >&nbsp;</th>\n",
       "      <th class=\"blank col5\" >&nbsp;</th>\n",
       "      <th class=\"blank col6\" >&nbsp;</th>\n",
       "      <th class=\"blank col7\" >&nbsp;</th>\n",
       "      <th class=\"blank col8\" >&nbsp;</th>\n",
       "      <th class=\"blank col9\" >&nbsp;</th>\n",
       "      <th class=\"blank col10\" >&nbsp;</th>\n",
       "      <th class=\"blank col11\" >&nbsp;</th>\n",
       "    </tr>\n",
       "  </thead>\n",
       "  <tbody>\n",
       "    <tr>\n",
       "      <th id=\"T_f940c_level0_row0\" class=\"row_heading level0 row0\" >0</th>\n",
       "      <td id=\"T_f940c_row0_col0\" class=\"data row0 col0\" >-1.26</td>\n",
       "      <td id=\"T_f940c_row0_col1\" class=\"data row0 col1\" >-2.13</td>\n",
       "      <td id=\"T_f940c_row0_col2\" class=\"data row0 col2\" >-2.92</td>\n",
       "      <td id=\"T_f940c_row0_col3\" class=\"data row0 col3\" >-3.63</td>\n",
       "      <td id=\"T_f940c_row0_col4\" class=\"data row0 col4\" >-4.25</td>\n",
       "      <td id=\"T_f940c_row0_col5\" class=\"data row0 col5\" >-4.82</td>\n",
       "      <td id=\"T_f940c_row0_col6\" class=\"data row0 col6\" >-5.22</td>\n",
       "      <td id=\"T_f940c_row0_col7\" class=\"data row0 col7\" >-5.38</td>\n",
       "      <td id=\"T_f940c_row0_col8\" class=\"data row0 col8\" >-5.23</td>\n",
       "      <td id=\"T_f940c_row0_col9\" class=\"data row0 col9\" >-4.80</td>\n",
       "      <td id=\"T_f940c_row0_col10\" class=\"data row0 col10\" >-3.88</td>\n",
       "      <td id=\"T_f940c_row0_col11\" class=\"data row0 col11\" >-2.32</td>\n",
       "    </tr>\n",
       "    <tr>\n",
       "      <th id=\"T_f940c_level0_row1\" class=\"row_heading level0 row1\" >1</th>\n",
       "      <td id=\"T_f940c_row1_col0\" class=\"data row1 col0\" ></td>\n",
       "      <td id=\"T_f940c_row1_col1\" class=\"data row1 col1\" >0.36</td>\n",
       "      <td id=\"T_f940c_row1_col2\" class=\"data row1 col2\" >-0.51</td>\n",
       "      <td id=\"T_f940c_row1_col3\" class=\"data row1 col3\" >-1.32</td>\n",
       "      <td id=\"T_f940c_row1_col4\" class=\"data row1 col4\" >-2.07</td>\n",
       "      <td id=\"T_f940c_row1_col5\" class=\"data row1 col5\" >-2.81</td>\n",
       "      <td id=\"T_f940c_row1_col6\" class=\"data row1 col6\" >-3.40</td>\n",
       "      <td id=\"T_f940c_row1_col7\" class=\"data row1 col7\" >-3.79</td>\n",
       "      <td id=\"T_f940c_row1_col8\" class=\"data row1 col8\" >-3.89</td>\n",
       "      <td id=\"T_f940c_row1_col9\" class=\"data row1 col9\" >-3.73</td>\n",
       "      <td id=\"T_f940c_row1_col10\" class=\"data row1 col10\" >-3.10</td>\n",
       "      <td id=\"T_f940c_row1_col11\" class=\"data row1 col11\" >-1.90</td>\n",
       "    </tr>\n",
       "    <tr>\n",
       "      <th id=\"T_f940c_level0_row2\" class=\"row_heading level0 row2\" >2</th>\n",
       "      <td id=\"T_f940c_row2_col0\" class=\"data row2 col0\" ></td>\n",
       "      <td id=\"T_f940c_row2_col1\" class=\"data row2 col1\" ></td>\n",
       "      <td id=\"T_f940c_row2_col2\" class=\"data row2 col2\" >1.76</td>\n",
       "      <td id=\"T_f940c_row2_col3\" class=\"data row2 col3\" >0.89</td>\n",
       "      <td id=\"T_f940c_row2_col4\" class=\"data row2 col4\" >0.06</td>\n",
       "      <td id=\"T_f940c_row2_col5\" class=\"data row2 col5\" >-0.78</td>\n",
       "      <td id=\"T_f940c_row2_col6\" class=\"data row2 col6\" >-1.52</td>\n",
       "      <td id=\"T_f940c_row2_col7\" class=\"data row2 col7\" >-2.10</td>\n",
       "      <td id=\"T_f940c_row2_col8\" class=\"data row2 col8\" >-2.45</td>\n",
       "      <td id=\"T_f940c_row2_col9\" class=\"data row2 col9\" >-2.57</td>\n",
       "      <td id=\"T_f940c_row2_col10\" class=\"data row2 col10\" >-2.28</td>\n",
       "      <td id=\"T_f940c_row2_col11\" class=\"data row2 col11\" >-1.45</td>\n",
       "    </tr>\n",
       "    <tr>\n",
       "      <th id=\"T_f940c_level0_row3\" class=\"row_heading level0 row3\" >3</th>\n",
       "      <td id=\"T_f940c_row3_col0\" class=\"data row3 col0\" ></td>\n",
       "      <td id=\"T_f940c_row3_col1\" class=\"data row3 col1\" ></td>\n",
       "      <td id=\"T_f940c_row3_col2\" class=\"data row3 col2\" ></td>\n",
       "      <td id=\"T_f940c_row3_col3\" class=\"data row3 col3\" >2.86</td>\n",
       "      <td id=\"T_f940c_row3_col4\" class=\"data row3 col4\" >2.00</td>\n",
       "      <td id=\"T_f940c_row3_col5\" class=\"data row3 col5\" >1.11</td>\n",
       "      <td id=\"T_f940c_row3_col6\" class=\"data row3 col6\" >0.29</td>\n",
       "      <td id=\"T_f940c_row3_col7\" class=\"data row3 col7\" >-0.42</td>\n",
       "      <td id=\"T_f940c_row3_col8\" class=\"data row3 col8\" >-0.97</td>\n",
       "      <td id=\"T_f940c_row3_col9\" class=\"data row3 col9\" >-1.35</td>\n",
       "      <td id=\"T_f940c_row3_col10\" class=\"data row3 col10\" >-1.40</td>\n",
       "      <td id=\"T_f940c_row3_col11\" class=\"data row3 col11\" >-1.00</td>\n",
       "    </tr>\n",
       "    <tr>\n",
       "      <th id=\"T_f940c_level0_row4\" class=\"row_heading level0 row4\" >4</th>\n",
       "      <td id=\"T_f940c_row4_col0\" class=\"data row4 col0\" ></td>\n",
       "      <td id=\"T_f940c_row4_col1\" class=\"data row4 col1\" ></td>\n",
       "      <td id=\"T_f940c_row4_col2\" class=\"data row4 col2\" ></td>\n",
       "      <td id=\"T_f940c_row4_col3\" class=\"data row4 col3\" ></td>\n",
       "      <td id=\"T_f940c_row4_col4\" class=\"data row4 col4\" >3.63</td>\n",
       "      <td id=\"T_f940c_row4_col5\" class=\"data row4 col5\" >2.73</td>\n",
       "      <td id=\"T_f940c_row4_col6\" class=\"data row4 col6\" >1.87</td>\n",
       "      <td id=\"T_f940c_row4_col7\" class=\"data row4 col7\" >1.09</td>\n",
       "      <td id=\"T_f940c_row4_col8\" class=\"data row4 col8\" >0.43</td>\n",
       "      <td id=\"T_f940c_row4_col9\" class=\"data row4 col9\" >-0.12</td>\n",
       "      <td id=\"T_f940c_row4_col10\" class=\"data row4 col10\" >-0.44</td>\n",
       "      <td id=\"T_f940c_row4_col11\" class=\"data row4 col11\" >-0.43</td>\n",
       "    </tr>\n",
       "    <tr>\n",
       "      <th id=\"T_f940c_level0_row5\" class=\"row_heading level0 row5\" >5</th>\n",
       "      <td id=\"T_f940c_row5_col0\" class=\"data row5 col0\" ></td>\n",
       "      <td id=\"T_f940c_row5_col1\" class=\"data row5 col1\" ></td>\n",
       "      <td id=\"T_f940c_row5_col2\" class=\"data row5 col2\" ></td>\n",
       "      <td id=\"T_f940c_row5_col3\" class=\"data row5 col3\" ></td>\n",
       "      <td id=\"T_f940c_row5_col4\" class=\"data row5 col4\" ></td>\n",
       "      <td id=\"T_f940c_row5_col5\" class=\"data row5 col5\" >3.89</td>\n",
       "      <td id=\"T_f940c_row5_col6\" class=\"data row5 col6\" >3.02</td>\n",
       "      <td id=\"T_f940c_row5_col7\" class=\"data row5 col7\" >2.19</td>\n",
       "      <td id=\"T_f940c_row5_col8\" class=\"data row5 col8\" >1.45</td>\n",
       "      <td id=\"T_f940c_row5_col9\" class=\"data row5 col9\" >0.78</td>\n",
       "      <td id=\"T_f940c_row5_col10\" class=\"data row5 col10\" >0.27</td>\n",
       "      <td id=\"T_f940c_row5_col11\" class=\"data row5 col11\" >-0.01</td>\n",
       "    </tr>\n",
       "    <tr>\n",
       "      <th id=\"T_f940c_level0_row6\" class=\"row_heading level0 row6\" >6</th>\n",
       "      <td id=\"T_f940c_row6_col0\" class=\"data row6 col0\" ></td>\n",
       "      <td id=\"T_f940c_row6_col1\" class=\"data row6 col1\" ></td>\n",
       "      <td id=\"T_f940c_row6_col2\" class=\"data row6 col2\" ></td>\n",
       "      <td id=\"T_f940c_row6_col3\" class=\"data row6 col3\" ></td>\n",
       "      <td id=\"T_f940c_row6_col4\" class=\"data row6 col4\" ></td>\n",
       "      <td id=\"T_f940c_row6_col5\" class=\"data row6 col5\" ></td>\n",
       "      <td id=\"T_f940c_row6_col6\" class=\"data row6 col6\" >3.81</td>\n",
       "      <td id=\"T_f940c_row6_col7\" class=\"data row6 col7\" >2.96</td>\n",
       "      <td id=\"T_f940c_row6_col8\" class=\"data row6 col8\" >2.16</td>\n",
       "      <td id=\"T_f940c_row6_col9\" class=\"data row6 col9\" >1.41</td>\n",
       "      <td id=\"T_f940c_row6_col10\" class=\"data row6 col10\" >0.78</td>\n",
       "      <td id=\"T_f940c_row6_col11\" class=\"data row6 col11\" >0.29</td>\n",
       "    </tr>\n",
       "    <tr>\n",
       "      <th id=\"T_f940c_level0_row7\" class=\"row_heading level0 row7\" >7</th>\n",
       "      <td id=\"T_f940c_row7_col0\" class=\"data row7 col0\" ></td>\n",
       "      <td id=\"T_f940c_row7_col1\" class=\"data row7 col1\" ></td>\n",
       "      <td id=\"T_f940c_row7_col2\" class=\"data row7 col2\" ></td>\n",
       "      <td id=\"T_f940c_row7_col3\" class=\"data row7 col3\" ></td>\n",
       "      <td id=\"T_f940c_row7_col4\" class=\"data row7 col4\" ></td>\n",
       "      <td id=\"T_f940c_row7_col5\" class=\"data row7 col5\" ></td>\n",
       "      <td id=\"T_f940c_row7_col6\" class=\"data row7 col6\" ></td>\n",
       "      <td id=\"T_f940c_row7_col7\" class=\"data row7 col7\" >3.48</td>\n",
       "      <td id=\"T_f940c_row7_col8\" class=\"data row7 col8\" >2.64</td>\n",
       "      <td id=\"T_f940c_row7_col9\" class=\"data row7 col9\" >1.85</td>\n",
       "      <td id=\"T_f940c_row7_col10\" class=\"data row7 col10\" >1.12</td>\n",
       "      <td id=\"T_f940c_row7_col11\" class=\"data row7 col11\" >0.49</td>\n",
       "    </tr>\n",
       "    <tr>\n",
       "      <th id=\"T_f940c_level0_row8\" class=\"row_heading level0 row8\" >8</th>\n",
       "      <td id=\"T_f940c_row8_col0\" class=\"data row8 col0\" ></td>\n",
       "      <td id=\"T_f940c_row8_col1\" class=\"data row8 col1\" ></td>\n",
       "      <td id=\"T_f940c_row8_col2\" class=\"data row8 col2\" ></td>\n",
       "      <td id=\"T_f940c_row8_col3\" class=\"data row8 col3\" ></td>\n",
       "      <td id=\"T_f940c_row8_col4\" class=\"data row8 col4\" ></td>\n",
       "      <td id=\"T_f940c_row8_col5\" class=\"data row8 col5\" ></td>\n",
       "      <td id=\"T_f940c_row8_col6\" class=\"data row8 col6\" ></td>\n",
       "      <td id=\"T_f940c_row8_col7\" class=\"data row8 col7\" ></td>\n",
       "      <td id=\"T_f940c_row8_col8\" class=\"data row8 col8\" >2.97</td>\n",
       "      <td id=\"T_f940c_row8_col9\" class=\"data row8 col9\" >2.13</td>\n",
       "      <td id=\"T_f940c_row8_col10\" class=\"data row8 col10\" >1.35</td>\n",
       "      <td id=\"T_f940c_row8_col11\" class=\"data row8 col11\" >0.63</td>\n",
       "    </tr>\n",
       "    <tr>\n",
       "      <th id=\"T_f940c_level0_row9\" class=\"row_heading level0 row9\" >9</th>\n",
       "      <td id=\"T_f940c_row9_col0\" class=\"data row9 col0\" ></td>\n",
       "      <td id=\"T_f940c_row9_col1\" class=\"data row9 col1\" ></td>\n",
       "      <td id=\"T_f940c_row9_col2\" class=\"data row9 col2\" ></td>\n",
       "      <td id=\"T_f940c_row9_col3\" class=\"data row9 col3\" ></td>\n",
       "      <td id=\"T_f940c_row9_col4\" class=\"data row9 col4\" ></td>\n",
       "      <td id=\"T_f940c_row9_col5\" class=\"data row9 col5\" ></td>\n",
       "      <td id=\"T_f940c_row9_col6\" class=\"data row9 col6\" ></td>\n",
       "      <td id=\"T_f940c_row9_col7\" class=\"data row9 col7\" ></td>\n",
       "      <td id=\"T_f940c_row9_col8\" class=\"data row9 col8\" ></td>\n",
       "      <td id=\"T_f940c_row9_col9\" class=\"data row9 col9\" >2.33</td>\n",
       "      <td id=\"T_f940c_row9_col10\" class=\"data row9 col10\" >1.50</td>\n",
       "      <td id=\"T_f940c_row9_col11\" class=\"data row9 col11\" >0.72</td>\n",
       "    </tr>\n",
       "    <tr>\n",
       "      <th id=\"T_f940c_level0_row10\" class=\"row_heading level0 row10\" >10</th>\n",
       "      <td id=\"T_f940c_row10_col0\" class=\"data row10 col0\" ></td>\n",
       "      <td id=\"T_f940c_row10_col1\" class=\"data row10 col1\" ></td>\n",
       "      <td id=\"T_f940c_row10_col2\" class=\"data row10 col2\" ></td>\n",
       "      <td id=\"T_f940c_row10_col3\" class=\"data row10 col3\" ></td>\n",
       "      <td id=\"T_f940c_row10_col4\" class=\"data row10 col4\" ></td>\n",
       "      <td id=\"T_f940c_row10_col5\" class=\"data row10 col5\" ></td>\n",
       "      <td id=\"T_f940c_row10_col6\" class=\"data row10 col6\" ></td>\n",
       "      <td id=\"T_f940c_row10_col7\" class=\"data row10 col7\" ></td>\n",
       "      <td id=\"T_f940c_row10_col8\" class=\"data row10 col8\" ></td>\n",
       "      <td id=\"T_f940c_row10_col9\" class=\"data row10 col9\" ></td>\n",
       "      <td id=\"T_f940c_row10_col10\" class=\"data row10 col10\" >1.60</td>\n",
       "      <td id=\"T_f940c_row10_col11\" class=\"data row10 col11\" >0.78</td>\n",
       "    </tr>\n",
       "    <tr>\n",
       "      <th id=\"T_f940c_level0_row11\" class=\"row_heading level0 row11\" >11</th>\n",
       "      <td id=\"T_f940c_row11_col0\" class=\"data row11 col0\" ></td>\n",
       "      <td id=\"T_f940c_row11_col1\" class=\"data row11 col1\" ></td>\n",
       "      <td id=\"T_f940c_row11_col2\" class=\"data row11 col2\" ></td>\n",
       "      <td id=\"T_f940c_row11_col3\" class=\"data row11 col3\" ></td>\n",
       "      <td id=\"T_f940c_row11_col4\" class=\"data row11 col4\" ></td>\n",
       "      <td id=\"T_f940c_row11_col5\" class=\"data row11 col5\" ></td>\n",
       "      <td id=\"T_f940c_row11_col6\" class=\"data row11 col6\" ></td>\n",
       "      <td id=\"T_f940c_row11_col7\" class=\"data row11 col7\" ></td>\n",
       "      <td id=\"T_f940c_row11_col8\" class=\"data row11 col8\" ></td>\n",
       "      <td id=\"T_f940c_row11_col9\" class=\"data row11 col9\" ></td>\n",
       "      <td id=\"T_f940c_row11_col10\" class=\"data row11 col10\" ></td>\n",
       "      <td id=\"T_f940c_row11_col11\" class=\"data row11 col11\" >0.82</td>\n",
       "    </tr>\n",
       "  </tbody>\n",
       "</table>\n"
      ],
      "text/plain": [
       "<pandas.io.formats.style.Styler at 0x157de75e0>"
      ]
     },
     "execution_count": 14,
     "metadata": {},
     "output_type": "execute_result"
    }
   ],
   "source": [
    "swaptree = bintree_pricing(payoff=payoff, ratetree=ratetree.iloc[:tsteps,:tsteps], undertree= refratetree.iloc[:tsteps,:tsteps], cftree=cftree, timing='deferred')\n",
    "format_bintree(swaptree,style='{:.2f}')"
   ]
  },
  {
   "cell_type": "markdown",
   "id": "010ad272",
   "metadata": {},
   "source": [
    "***"
   ]
  },
  {
   "cell_type": "markdown",
   "id": "0d232777",
   "metadata": {},
   "source": [
    "# 3. Callable Bond"
   ]
  },
  {
   "cell_type": "markdown",
   "id": "55f771f5",
   "metadata": {},
   "source": [
    "#### Note:\n",
    "Continue with the rate curves and BDT model provided in `rate curves` and `rate tree` in the provided spreadsheet."
   ]
  },
  {
   "cell_type": "markdown",
   "id": "81b07056",
   "metadata": {},
   "source": [
    "## 3.1.\n",
    "\n",
    "Consider a bond with:\n",
    "* `T=3`\n",
    "* face value of `N=100`\n",
    "* coupons at `quarterly` frequency\n",
    "* annualized coupon rate of `cpn=6%`.\n",
    "\n",
    "Use your BDT tree to price this bond and display the pricing tree."
   ]
  },
  {
   "cell_type": "markdown",
   "id": "d0bba6eb",
   "metadata": {},
   "source": [
    "## 3.2. (7pts)\n",
    "\n",
    "Suppose the bond is callable by the issuer.\n",
    "\n",
    "* `European` style\n",
    "* expiration of `Topt=1.5`\n",
    "* (clean) `strike=100`\n",
    "\n",
    "What is the value of the issuer's call option?\n",
    "\n",
    "*Note that there is no difference between clean or dirty strike given that the bond pays coupons quarterly, and we are looking at quarterly steps in the tree.*"
   ]
  },
  {
   "cell_type": "markdown",
   "id": "fd8460e0",
   "metadata": {},
   "source": [
    "## 3.3. (3pts)\n",
    "\n",
    "What is the value of the callable bond?"
   ]
  },
  {
   "cell_type": "markdown",
   "id": "a0a8f5d8",
   "metadata": {},
   "source": [
    "## 3.4.\n",
    "\n",
    "We found that the Freddie Mac callable bonds often have negative option-adjusted spreads (OAS). \n",
    "\n",
    "Why was this? Do you expect that the european callable bond would be less prone to this phenomenon?"
   ]
  },
  {
   "cell_type": "markdown",
   "id": "189adafa",
   "metadata": {},
   "source": [
    "## 3.5.\n",
    "\n",
    "We found that the Freddie Mac american callable bond never priced above 100.\n",
    "\n",
    "Does this bond ever price above 100? Explain why this is possible when it was not for the Freddie Mac callable."
   ]
  },
  {
   "cell_type": "markdown",
   "id": "efcfabee",
   "metadata": {},
   "source": [
    "## 3.6.\n",
    "\n",
    "Price the callable bond without using binomial trees.\n",
    "\n",
    "* Use standard closed-form pricing for the vanilla bond, given the rate curve data.\n",
    "* Use Black's formula to price the callable option.\n",
    "\n",
    "Report this newly modeled price.\n",
    "\n",
    "*Note: In Black's formula, use the flat volatility for the option term.*"
   ]
  },
  {
   "cell_type": "markdown",
   "id": "09779ec6",
   "metadata": {},
   "source": [
    "## 3.7.\n",
    "\n",
    "Which assumptions of Black's formula do we prefer to Black-Scholes for this problem?"
   ]
  },
  {
   "cell_type": "markdown",
   "id": "209d08e5",
   "metadata": {},
   "source": [
    "## 3.8.\n",
    "\n",
    "Which aspects of the calculation in `3.6` differ because we are using Black's formula, not Black-Scholes? \n",
    "\n",
    "*Note: Unlike `3.7`, we're asking about the differences of implementing the calculation, not the differences in the assumptions of the models."
   ]
  },
  {
   "cell_type": "markdown",
   "id": "e02aa5ad",
   "metadata": {},
   "source": [
    "## 3.9. \n",
    "\n",
    "Suppose that we buy the callable bond, but we want to hedge against it being called by the issuer. That is to say, we want to retain upside exposure to rates decreasing while otherwise keeping the nature of the position the same.\n",
    "\n",
    "Explain specifically how you would use caps, floors, or swaptions to achieve this. \n",
    "\n",
    "No need to calculate the value; rather, just describe the specific product you would go long (or short) and how it would transform your exposure."
   ]
  },
  {
   "cell_type": "markdown",
   "id": "a4cf0f38",
   "metadata": {},
   "source": [
    "## 3.10.\n",
    "\n",
    "How would your answer to `3.9` change if it were a callable bond with **american** exercise by the issuer?"
   ]
  },
  {
   "cell_type": "markdown",
   "id": "02f6030a",
   "metadata": {},
   "source": [
    "***"
   ]
  },
  {
   "cell_type": "markdown",
   "id": "15aa8749",
   "metadata": {},
   "source": [
    "# **<span style=\"color:red\">Solution </span>**"
   ]
  },
  {
   "cell_type": "markdown",
   "id": "1e805443",
   "metadata": {},
   "source": [
    "## **<span style=\"color:red\">3.1 </span>**"
   ]
  },
  {
   "cell_type": "code",
   "execution_count": 15,
   "id": "ec49dcd3",
   "metadata": {},
   "outputs": [],
   "source": [
    "T=3\n",
    "FACE=100\n",
    "cpn_freq = 4\n",
    "cpn = .06"
   ]
  },
  {
   "cell_type": "code",
   "execution_count": 16,
   "id": "38d887a0",
   "metadata": {},
   "outputs": [],
   "source": [
    "wrapper_bond = lambda r: payoff_bond(r, dt, facevalue=FACE * (1+cpn/cpn_freq))\n",
    "payoff_call = lambda p: np.maximum(p-STRIKE,0)"
   ]
  },
  {
   "cell_type": "code",
   "execution_count": 17,
   "id": "3a4cf3ab",
   "metadata": {},
   "outputs": [],
   "source": [
    "cftree = construct_bond_cftree(T, compound, cpn, cpn_freq)"
   ]
  },
  {
   "cell_type": "code",
   "execution_count": 18,
   "id": "f25dfafa",
   "metadata": {},
   "outputs": [],
   "source": [
    "def highlight_values(val,thresh=100):\n",
    "    if pd.isna(val):\n",
    "        color = '#d3d3d3'  # Light grey for NaN values\n",
    "    elif val < thresh:\n",
    "        color = '#ffcccc'  # Light red\n",
    "    else:\n",
    "        color = '#ccffcc'  # Light green\n",
    "    return f'background-color: {color}'"
   ]
  },
  {
   "cell_type": "code",
   "execution_count": 19,
   "id": "8a1c6e2e",
   "metadata": {
    "scrolled": false
   },
   "outputs": [
    {
     "data": {
      "text/html": [
       "<style type=\"text/css\">\n",
       "#T_a6903_row0_col0, #T_a6903_row0_col1, #T_a6903_row0_col2, #T_a6903_row0_col3, #T_a6903_row0_col4, #T_a6903_row1_col1, #T_a6903_row1_col2, #T_a6903_row1_col3, #T_a6903_row1_col4, #T_a6903_row1_col5, #T_a6903_row2_col2, #T_a6903_row2_col3, #T_a6903_row2_col4, #T_a6903_row2_col5, #T_a6903_row2_col6, #T_a6903_row2_col7, #T_a6903_row3_col3, #T_a6903_row3_col4, #T_a6903_row3_col5, #T_a6903_row3_col6, #T_a6903_row3_col7, #T_a6903_row3_col8, #T_a6903_row3_col9, #T_a6903_row4_col4, #T_a6903_row4_col5, #T_a6903_row4_col6, #T_a6903_row4_col7, #T_a6903_row4_col8, #T_a6903_row4_col9, #T_a6903_row4_col10, #T_a6903_row4_col11, #T_a6903_row5_col5, #T_a6903_row5_col6, #T_a6903_row5_col7, #T_a6903_row5_col8, #T_a6903_row5_col9, #T_a6903_row5_col10, #T_a6903_row5_col11, #T_a6903_row6_col6, #T_a6903_row6_col7, #T_a6903_row6_col8, #T_a6903_row6_col9, #T_a6903_row6_col10, #T_a6903_row6_col11, #T_a6903_row7_col7, #T_a6903_row7_col8, #T_a6903_row7_col9, #T_a6903_row7_col10, #T_a6903_row7_col11, #T_a6903_row8_col8, #T_a6903_row8_col9, #T_a6903_row8_col10, #T_a6903_row8_col11, #T_a6903_row9_col9, #T_a6903_row9_col10, #T_a6903_row9_col11, #T_a6903_row10_col10, #T_a6903_row10_col11, #T_a6903_row11_col11 {\n",
       "  background-color: #ccffcc;\n",
       "}\n",
       "#T_a6903_row0_col5, #T_a6903_row0_col6, #T_a6903_row0_col7, #T_a6903_row0_col8, #T_a6903_row0_col9, #T_a6903_row0_col10, #T_a6903_row0_col11, #T_a6903_row1_col6, #T_a6903_row1_col7, #T_a6903_row1_col8, #T_a6903_row1_col9, #T_a6903_row1_col10, #T_a6903_row1_col11, #T_a6903_row2_col8, #T_a6903_row2_col9, #T_a6903_row2_col10, #T_a6903_row2_col11, #T_a6903_row3_col10, #T_a6903_row3_col11 {\n",
       "  background-color: #ffcccc;\n",
       "}\n",
       "#T_a6903_row1_col0, #T_a6903_row2_col0, #T_a6903_row2_col1, #T_a6903_row3_col0, #T_a6903_row3_col1, #T_a6903_row3_col2, #T_a6903_row4_col0, #T_a6903_row4_col1, #T_a6903_row4_col2, #T_a6903_row4_col3, #T_a6903_row5_col0, #T_a6903_row5_col1, #T_a6903_row5_col2, #T_a6903_row5_col3, #T_a6903_row5_col4, #T_a6903_row6_col0, #T_a6903_row6_col1, #T_a6903_row6_col2, #T_a6903_row6_col3, #T_a6903_row6_col4, #T_a6903_row6_col5, #T_a6903_row7_col0, #T_a6903_row7_col1, #T_a6903_row7_col2, #T_a6903_row7_col3, #T_a6903_row7_col4, #T_a6903_row7_col5, #T_a6903_row7_col6, #T_a6903_row8_col0, #T_a6903_row8_col1, #T_a6903_row8_col2, #T_a6903_row8_col3, #T_a6903_row8_col4, #T_a6903_row8_col5, #T_a6903_row8_col6, #T_a6903_row8_col7, #T_a6903_row9_col0, #T_a6903_row9_col1, #T_a6903_row9_col2, #T_a6903_row9_col3, #T_a6903_row9_col4, #T_a6903_row9_col5, #T_a6903_row9_col6, #T_a6903_row9_col7, #T_a6903_row9_col8, #T_a6903_row10_col0, #T_a6903_row10_col1, #T_a6903_row10_col2, #T_a6903_row10_col3, #T_a6903_row10_col4, #T_a6903_row10_col5, #T_a6903_row10_col6, #T_a6903_row10_col7, #T_a6903_row10_col8, #T_a6903_row10_col9, #T_a6903_row11_col0, #T_a6903_row11_col1, #T_a6903_row11_col2, #T_a6903_row11_col3, #T_a6903_row11_col4, #T_a6903_row11_col5, #T_a6903_row11_col6, #T_a6903_row11_col7, #T_a6903_row11_col8, #T_a6903_row11_col9, #T_a6903_row11_col10 {\n",
       "  background-color: #d3d3d3;\n",
       "}\n",
       "</style>\n",
       "<table id=\"T_a6903\">\n",
       "  <thead>\n",
       "    <tr>\n",
       "      <th class=\"index_name level0\" >time</th>\n",
       "      <th id=\"T_a6903_level0_col0\" class=\"col_heading level0 col0\" >0.00</th>\n",
       "      <th id=\"T_a6903_level0_col1\" class=\"col_heading level0 col1\" >0.25</th>\n",
       "      <th id=\"T_a6903_level0_col2\" class=\"col_heading level0 col2\" >0.50</th>\n",
       "      <th id=\"T_a6903_level0_col3\" class=\"col_heading level0 col3\" >0.75</th>\n",
       "      <th id=\"T_a6903_level0_col4\" class=\"col_heading level0 col4\" >1.00</th>\n",
       "      <th id=\"T_a6903_level0_col5\" class=\"col_heading level0 col5\" >1.25</th>\n",
       "      <th id=\"T_a6903_level0_col6\" class=\"col_heading level0 col6\" >1.50</th>\n",
       "      <th id=\"T_a6903_level0_col7\" class=\"col_heading level0 col7\" >1.75</th>\n",
       "      <th id=\"T_a6903_level0_col8\" class=\"col_heading level0 col8\" >2.00</th>\n",
       "      <th id=\"T_a6903_level0_col9\" class=\"col_heading level0 col9\" >2.25</th>\n",
       "      <th id=\"T_a6903_level0_col10\" class=\"col_heading level0 col10\" >2.50</th>\n",
       "      <th id=\"T_a6903_level0_col11\" class=\"col_heading level0 col11\" >2.75</th>\n",
       "    </tr>\n",
       "    <tr>\n",
       "      <th class=\"index_name level0\" >state</th>\n",
       "      <th class=\"blank col0\" >&nbsp;</th>\n",
       "      <th class=\"blank col1\" >&nbsp;</th>\n",
       "      <th class=\"blank col2\" >&nbsp;</th>\n",
       "      <th class=\"blank col3\" >&nbsp;</th>\n",
       "      <th class=\"blank col4\" >&nbsp;</th>\n",
       "      <th class=\"blank col5\" >&nbsp;</th>\n",
       "      <th class=\"blank col6\" >&nbsp;</th>\n",
       "      <th class=\"blank col7\" >&nbsp;</th>\n",
       "      <th class=\"blank col8\" >&nbsp;</th>\n",
       "      <th class=\"blank col9\" >&nbsp;</th>\n",
       "      <th class=\"blank col10\" >&nbsp;</th>\n",
       "      <th class=\"blank col11\" >&nbsp;</th>\n",
       "    </tr>\n",
       "  </thead>\n",
       "  <tbody>\n",
       "    <tr>\n",
       "      <th id=\"T_a6903_level0_row0\" class=\"row_heading level0 row0\" >0</th>\n",
       "      <td id=\"T_a6903_row0_col0\" class=\"data row0 col0\" >105.31</td>\n",
       "      <td id=\"T_a6903_row0_col1\" class=\"data row0 col1\" >103.90</td>\n",
       "      <td id=\"T_a6903_row0_col2\" class=\"data row0 col2\" >102.57</td>\n",
       "      <td id=\"T_a6903_row0_col3\" class=\"data row0 col3\" >101.32</td>\n",
       "      <td id=\"T_a6903_row0_col4\" class=\"data row0 col4\" >100.16</td>\n",
       "      <td id=\"T_a6903_row0_col5\" class=\"data row0 col5\" >99.04</td>\n",
       "      <td id=\"T_a6903_row0_col6\" class=\"data row0 col6\" >98.10</td>\n",
       "      <td id=\"T_a6903_row0_col7\" class=\"data row0 col7\" >97.39</td>\n",
       "      <td id=\"T_a6903_row0_col8\" class=\"data row0 col8\" >96.99</td>\n",
       "      <td id=\"T_a6903_row0_col9\" class=\"data row0 col9\" >96.88</td>\n",
       "      <td id=\"T_a6903_row0_col10\" class=\"data row0 col10\" >97.25</td>\n",
       "      <td id=\"T_a6903_row0_col11\" class=\"data row0 col11\" >98.25</td>\n",
       "    </tr>\n",
       "    <tr>\n",
       "      <th id=\"T_a6903_level0_row1\" class=\"row_heading level0 row1\" >1</th>\n",
       "      <td id=\"T_a6903_row1_col0\" class=\"data row1 col0\" ></td>\n",
       "      <td id=\"T_a6903_row1_col1\" class=\"data row1 col1\" >106.46</td>\n",
       "      <td id=\"T_a6903_row1_col2\" class=\"data row1 col2\" >105.05</td>\n",
       "      <td id=\"T_a6903_row1_col3\" class=\"data row1 col3\" >103.69</td>\n",
       "      <td id=\"T_a6903_row1_col4\" class=\"data row1 col4\" >102.39</td>\n",
       "      <td id=\"T_a6903_row1_col5\" class=\"data row1 col5\" >101.10</td>\n",
       "      <td id=\"T_a6903_row1_col6\" class=\"data row1 col6\" >99.95</td>\n",
       "      <td id=\"T_a6903_row1_col7\" class=\"data row1 col7\" >99.01</td>\n",
       "      <td id=\"T_a6903_row1_col8\" class=\"data row1 col8\" >98.35</td>\n",
       "      <td id=\"T_a6903_row1_col9\" class=\"data row1 col9\" >97.96</td>\n",
       "      <td id=\"T_a6903_row1_col10\" class=\"data row1 col10\" >98.03</td>\n",
       "      <td id=\"T_a6903_row1_col11\" class=\"data row1 col11\" >98.67</td>\n",
       "    </tr>\n",
       "    <tr>\n",
       "      <th id=\"T_a6903_level0_row2\" class=\"row_heading level0 row2\" >2</th>\n",
       "      <td id=\"T_a6903_row2_col0\" class=\"data row2 col0\" ></td>\n",
       "      <td id=\"T_a6903_row2_col1\" class=\"data row2 col1\" ></td>\n",
       "      <td id=\"T_a6903_row2_col2\" class=\"data row2 col2\" >107.38</td>\n",
       "      <td id=\"T_a6903_row2_col3\" class=\"data row2 col3\" >105.96</td>\n",
       "      <td id=\"T_a6903_row2_col4\" class=\"data row2 col4\" >104.57</td>\n",
       "      <td id=\"T_a6903_row2_col5\" class=\"data row2 col5\" >103.17</td>\n",
       "      <td id=\"T_a6903_row2_col6\" class=\"data row2 col6\" >101.87</td>\n",
       "      <td id=\"T_a6903_row2_col7\" class=\"data row2 col7\" >100.73</td>\n",
       "      <td id=\"T_a6903_row2_col8\" class=\"data row2 col8\" >99.81</td>\n",
       "      <td id=\"T_a6903_row2_col9\" class=\"data row2 col9\" >99.13</td>\n",
       "      <td id=\"T_a6903_row2_col10\" class=\"data row2 col10\" >98.86</td>\n",
       "      <td id=\"T_a6903_row2_col11\" class=\"data row2 col11\" >99.12</td>\n",
       "    </tr>\n",
       "    <tr>\n",
       "      <th id=\"T_a6903_level0_row3\" class=\"row_heading level0 row3\" >3</th>\n",
       "      <td id=\"T_a6903_row3_col0\" class=\"data row3 col0\" ></td>\n",
       "      <td id=\"T_a6903_row3_col1\" class=\"data row3 col1\" ></td>\n",
       "      <td id=\"T_a6903_row3_col2\" class=\"data row3 col2\" ></td>\n",
       "      <td id=\"T_a6903_row3_col3\" class=\"data row3 col3\" >107.98</td>\n",
       "      <td id=\"T_a6903_row3_col4\" class=\"data row3 col4\" >106.55</td>\n",
       "      <td id=\"T_a6903_row3_col5\" class=\"data row3 col5\" >105.10</td>\n",
       "      <td id=\"T_a6903_row3_col6\" class=\"data row3 col6\" >103.71</td>\n",
       "      <td id=\"T_a6903_row3_col7\" class=\"data row3 col7\" >102.43</td>\n",
       "      <td id=\"T_a6903_row3_col8\" class=\"data row3 col8\" >101.31</td>\n",
       "      <td id=\"T_a6903_row3_col9\" class=\"data row3 col9\" >100.37</td>\n",
       "      <td id=\"T_a6903_row3_col10\" class=\"data row3 col10\" >99.75</td>\n",
       "      <td id=\"T_a6903_row3_col11\" class=\"data row3 col11\" >99.58</td>\n",
       "    </tr>\n",
       "    <tr>\n",
       "      <th id=\"T_a6903_level0_row4\" class=\"row_heading level0 row4\" >4</th>\n",
       "      <td id=\"T_a6903_row4_col0\" class=\"data row4 col0\" ></td>\n",
       "      <td id=\"T_a6903_row4_col1\" class=\"data row4 col1\" ></td>\n",
       "      <td id=\"T_a6903_row4_col2\" class=\"data row4 col2\" ></td>\n",
       "      <td id=\"T_a6903_row4_col3\" class=\"data row4 col3\" ></td>\n",
       "      <td id=\"T_a6903_row4_col4\" class=\"data row4 col4\" >108.23</td>\n",
       "      <td id=\"T_a6903_row4_col5\" class=\"data row4 col5\" >106.75</td>\n",
       "      <td id=\"T_a6903_row4_col6\" class=\"data row4 col6\" >105.32</td>\n",
       "      <td id=\"T_a6903_row4_col7\" class=\"data row4 col7\" >103.97</td>\n",
       "      <td id=\"T_a6903_row4_col8\" class=\"data row4 col8\" >102.73</td>\n",
       "      <td id=\"T_a6903_row4_col9\" class=\"data row4 col9\" >101.61</td>\n",
       "      <td id=\"T_a6903_row4_col10\" class=\"data row4 col10\" >100.72</td>\n",
       "      <td id=\"T_a6903_row4_col11\" class=\"data row4 col11\" >100.15</td>\n",
       "    </tr>\n",
       "    <tr>\n",
       "      <th id=\"T_a6903_level0_row5\" class=\"row_heading level0 row5\" >5</th>\n",
       "      <td id=\"T_a6903_row5_col0\" class=\"data row5 col0\" ></td>\n",
       "      <td id=\"T_a6903_row5_col1\" class=\"data row5 col1\" ></td>\n",
       "      <td id=\"T_a6903_row5_col2\" class=\"data row5 col2\" ></td>\n",
       "      <td id=\"T_a6903_row5_col3\" class=\"data row5 col3\" ></td>\n",
       "      <td id=\"T_a6903_row5_col4\" class=\"data row5 col4\" ></td>\n",
       "      <td id=\"T_a6903_row5_col5\" class=\"data row5 col5\" >107.94</td>\n",
       "      <td id=\"T_a6903_row5_col6\" class=\"data row5 col6\" >106.49</td>\n",
       "      <td id=\"T_a6903_row5_col7\" class=\"data row5 col7\" >105.09</td>\n",
       "      <td id=\"T_a6903_row5_col8\" class=\"data row5 col8\" >103.76</td>\n",
       "      <td id=\"T_a6903_row5_col9\" class=\"data row5 col9\" >102.52</td>\n",
       "      <td id=\"T_a6903_row5_col10\" class=\"data row5 col10\" >101.43</td>\n",
       "      <td id=\"T_a6903_row5_col11\" class=\"data row5 col11\" >100.57</td>\n",
       "    </tr>\n",
       "    <tr>\n",
       "      <th id=\"T_a6903_level0_row6\" class=\"row_heading level0 row6\" >6</th>\n",
       "      <td id=\"T_a6903_row6_col0\" class=\"data row6 col0\" ></td>\n",
       "      <td id=\"T_a6903_row6_col1\" class=\"data row6 col1\" ></td>\n",
       "      <td id=\"T_a6903_row6_col2\" class=\"data row6 col2\" ></td>\n",
       "      <td id=\"T_a6903_row6_col3\" class=\"data row6 col3\" ></td>\n",
       "      <td id=\"T_a6903_row6_col4\" class=\"data row6 col4\" ></td>\n",
       "      <td id=\"T_a6903_row6_col5\" class=\"data row6 col5\" ></td>\n",
       "      <td id=\"T_a6903_row6_col6\" class=\"data row6 col6\" >107.30</td>\n",
       "      <td id=\"T_a6903_row6_col7\" class=\"data row6 col7\" >105.87</td>\n",
       "      <td id=\"T_a6903_row6_col8\" class=\"data row6 col8\" >104.49</td>\n",
       "      <td id=\"T_a6903_row6_col9\" class=\"data row6 col9\" >103.16</td>\n",
       "      <td id=\"T_a6903_row6_col10\" class=\"data row6 col10\" >101.94</td>\n",
       "      <td id=\"T_a6903_row6_col11\" class=\"data row6 col11\" >100.87</td>\n",
       "    </tr>\n",
       "    <tr>\n",
       "      <th id=\"T_a6903_level0_row7\" class=\"row_heading level0 row7\" >7</th>\n",
       "      <td id=\"T_a6903_row7_col0\" class=\"data row7 col0\" ></td>\n",
       "      <td id=\"T_a6903_row7_col1\" class=\"data row7 col1\" ></td>\n",
       "      <td id=\"T_a6903_row7_col2\" class=\"data row7 col2\" ></td>\n",
       "      <td id=\"T_a6903_row7_col3\" class=\"data row7 col3\" ></td>\n",
       "      <td id=\"T_a6903_row7_col4\" class=\"data row7 col4\" ></td>\n",
       "      <td id=\"T_a6903_row7_col5\" class=\"data row7 col5\" ></td>\n",
       "      <td id=\"T_a6903_row7_col6\" class=\"data row7 col6\" ></td>\n",
       "      <td id=\"T_a6903_row7_col7\" class=\"data row7 col7\" >106.40</td>\n",
       "      <td id=\"T_a6903_row7_col8\" class=\"data row7 col8\" >104.98</td>\n",
       "      <td id=\"T_a6903_row7_col9\" class=\"data row7 col9\" >103.60</td>\n",
       "      <td id=\"T_a6903_row7_col10\" class=\"data row7 col10\" >102.29</td>\n",
       "      <td id=\"T_a6903_row7_col11\" class=\"data row7 col11\" >101.08</td>\n",
       "    </tr>\n",
       "    <tr>\n",
       "      <th id=\"T_a6903_level0_row8\" class=\"row_heading level0 row8\" >8</th>\n",
       "      <td id=\"T_a6903_row8_col0\" class=\"data row8 col0\" ></td>\n",
       "      <td id=\"T_a6903_row8_col1\" class=\"data row8 col1\" ></td>\n",
       "      <td id=\"T_a6903_row8_col2\" class=\"data row8 col2\" ></td>\n",
       "      <td id=\"T_a6903_row8_col3\" class=\"data row8 col3\" ></td>\n",
       "      <td id=\"T_a6903_row8_col4\" class=\"data row8 col4\" ></td>\n",
       "      <td id=\"T_a6903_row8_col5\" class=\"data row8 col5\" ></td>\n",
       "      <td id=\"T_a6903_row8_col6\" class=\"data row8 col6\" ></td>\n",
       "      <td id=\"T_a6903_row8_col7\" class=\"data row8 col7\" ></td>\n",
       "      <td id=\"T_a6903_row8_col8\" class=\"data row8 col8\" >105.31</td>\n",
       "      <td id=\"T_a6903_row8_col9\" class=\"data row8 col9\" >103.89</td>\n",
       "      <td id=\"T_a6903_row8_col10\" class=\"data row8 col10\" >102.52</td>\n",
       "      <td id=\"T_a6903_row8_col11\" class=\"data row8 col11\" >101.22</td>\n",
       "    </tr>\n",
       "    <tr>\n",
       "      <th id=\"T_a6903_level0_row9\" class=\"row_heading level0 row9\" >9</th>\n",
       "      <td id=\"T_a6903_row9_col0\" class=\"data row9 col0\" ></td>\n",
       "      <td id=\"T_a6903_row9_col1\" class=\"data row9 col1\" ></td>\n",
       "      <td id=\"T_a6903_row9_col2\" class=\"data row9 col2\" ></td>\n",
       "      <td id=\"T_a6903_row9_col3\" class=\"data row9 col3\" ></td>\n",
       "      <td id=\"T_a6903_row9_col4\" class=\"data row9 col4\" ></td>\n",
       "      <td id=\"T_a6903_row9_col5\" class=\"data row9 col5\" ></td>\n",
       "      <td id=\"T_a6903_row9_col6\" class=\"data row9 col6\" ></td>\n",
       "      <td id=\"T_a6903_row9_col7\" class=\"data row9 col7\" ></td>\n",
       "      <td id=\"T_a6903_row9_col8\" class=\"data row9 col8\" ></td>\n",
       "      <td id=\"T_a6903_row9_col9\" class=\"data row9 col9\" >104.08</td>\n",
       "      <td id=\"T_a6903_row9_col10\" class=\"data row9 col10\" >102.67</td>\n",
       "      <td id=\"T_a6903_row9_col11\" class=\"data row9 col11\" >101.31</td>\n",
       "    </tr>\n",
       "    <tr>\n",
       "      <th id=\"T_a6903_level0_row10\" class=\"row_heading level0 row10\" >10</th>\n",
       "      <td id=\"T_a6903_row10_col0\" class=\"data row10 col0\" ></td>\n",
       "      <td id=\"T_a6903_row10_col1\" class=\"data row10 col1\" ></td>\n",
       "      <td id=\"T_a6903_row10_col2\" class=\"data row10 col2\" ></td>\n",
       "      <td id=\"T_a6903_row10_col3\" class=\"data row10 col3\" ></td>\n",
       "      <td id=\"T_a6903_row10_col4\" class=\"data row10 col4\" ></td>\n",
       "      <td id=\"T_a6903_row10_col5\" class=\"data row10 col5\" ></td>\n",
       "      <td id=\"T_a6903_row10_col6\" class=\"data row10 col6\" ></td>\n",
       "      <td id=\"T_a6903_row10_col7\" class=\"data row10 col7\" ></td>\n",
       "      <td id=\"T_a6903_row10_col8\" class=\"data row10 col8\" ></td>\n",
       "      <td id=\"T_a6903_row10_col9\" class=\"data row10 col9\" ></td>\n",
       "      <td id=\"T_a6903_row10_col10\" class=\"data row10 col10\" >102.78</td>\n",
       "      <td id=\"T_a6903_row10_col11\" class=\"data row10 col11\" >101.37</td>\n",
       "    </tr>\n",
       "    <tr>\n",
       "      <th id=\"T_a6903_level0_row11\" class=\"row_heading level0 row11\" >11</th>\n",
       "      <td id=\"T_a6903_row11_col0\" class=\"data row11 col0\" ></td>\n",
       "      <td id=\"T_a6903_row11_col1\" class=\"data row11 col1\" ></td>\n",
       "      <td id=\"T_a6903_row11_col2\" class=\"data row11 col2\" ></td>\n",
       "      <td id=\"T_a6903_row11_col3\" class=\"data row11 col3\" ></td>\n",
       "      <td id=\"T_a6903_row11_col4\" class=\"data row11 col4\" ></td>\n",
       "      <td id=\"T_a6903_row11_col5\" class=\"data row11 col5\" ></td>\n",
       "      <td id=\"T_a6903_row11_col6\" class=\"data row11 col6\" ></td>\n",
       "      <td id=\"T_a6903_row11_col7\" class=\"data row11 col7\" ></td>\n",
       "      <td id=\"T_a6903_row11_col8\" class=\"data row11 col8\" ></td>\n",
       "      <td id=\"T_a6903_row11_col9\" class=\"data row11 col9\" ></td>\n",
       "      <td id=\"T_a6903_row11_col10\" class=\"data row11 col10\" ></td>\n",
       "      <td id=\"T_a6903_row11_col11\" class=\"data row11 col11\" >101.41</td>\n",
       "    </tr>\n",
       "  </tbody>\n",
       "</table>\n"
      ],
      "text/plain": [
       "<pandas.io.formats.style.Styler at 0x157dd0bb0>"
      ]
     },
     "execution_count": 19,
     "metadata": {},
     "output_type": "execute_result"
    }
   ],
   "source": [
    "bondtree = bintree_pricing(payoff=wrapper_bond, ratetree=ratetree, cftree=cftree)\n",
    "bondtree.style.format('{:.2f}',na_rep='').applymap(highlight_values).format_index('{:.2f}',axis=1)"
   ]
  },
  {
   "cell_type": "code",
   "execution_count": 20,
   "id": "39162789",
   "metadata": {},
   "outputs": [
    {
     "data": {
      "text/html": [
       "<style type=\"text/css\">\n",
       "#T_f4a17_row0_col0, #T_f4a17_row0_col1, #T_f4a17_row0_col2, #T_f4a17_row0_col4, #T_f4a17_row1_col1, #T_f4a17_row1_col2, #T_f4a17_row1_col3, #T_f4a17_row1_col4, #T_f4a17_row2_col2, #T_f4a17_row2_col3, #T_f4a17_row2_col4, #T_f4a17_row2_col5, #T_f4a17_row2_col6, #T_f4a17_row3_col3, #T_f4a17_row3_col4, #T_f4a17_row3_col5, #T_f4a17_row3_col6, #T_f4a17_row3_col7, #T_f4a17_row3_col8, #T_f4a17_row4_col4, #T_f4a17_row4_col5, #T_f4a17_row4_col6, #T_f4a17_row4_col7, #T_f4a17_row4_col8, #T_f4a17_row4_col9, #T_f4a17_row4_col10, #T_f4a17_row5_col5, #T_f4a17_row5_col6, #T_f4a17_row5_col7, #T_f4a17_row5_col8, #T_f4a17_row5_col9, #T_f4a17_row5_col10, #T_f4a17_row6_col6, #T_f4a17_row6_col7, #T_f4a17_row6_col8, #T_f4a17_row6_col9, #T_f4a17_row6_col10, #T_f4a17_row7_col7, #T_f4a17_row7_col8, #T_f4a17_row7_col9, #T_f4a17_row7_col10, #T_f4a17_row8_col8, #T_f4a17_row8_col9, #T_f4a17_row8_col10, #T_f4a17_row9_col9, #T_f4a17_row9_col10, #T_f4a17_row10_col10 {\n",
       "  background-color: #ccffcc;\n",
       "}\n",
       "#T_f4a17_row0_col3, #T_f4a17_row0_col5, #T_f4a17_row0_col6, #T_f4a17_row0_col7, #T_f4a17_row0_col8, #T_f4a17_row0_col9, #T_f4a17_row0_col10, #T_f4a17_row0_col11, #T_f4a17_row1_col5, #T_f4a17_row1_col6, #T_f4a17_row1_col7, #T_f4a17_row1_col8, #T_f4a17_row1_col9, #T_f4a17_row1_col10, #T_f4a17_row1_col11, #T_f4a17_row2_col7, #T_f4a17_row2_col8, #T_f4a17_row2_col9, #T_f4a17_row2_col10, #T_f4a17_row2_col11, #T_f4a17_row3_col9, #T_f4a17_row3_col10, #T_f4a17_row3_col11, #T_f4a17_row4_col11, #T_f4a17_row5_col11, #T_f4a17_row6_col11, #T_f4a17_row7_col11, #T_f4a17_row8_col11, #T_f4a17_row9_col11, #T_f4a17_row10_col11, #T_f4a17_row11_col11 {\n",
       "  background-color: #ffcccc;\n",
       "}\n",
       "#T_f4a17_row1_col0, #T_f4a17_row2_col0, #T_f4a17_row2_col1, #T_f4a17_row3_col0, #T_f4a17_row3_col1, #T_f4a17_row3_col2, #T_f4a17_row4_col0, #T_f4a17_row4_col1, #T_f4a17_row4_col2, #T_f4a17_row4_col3, #T_f4a17_row5_col0, #T_f4a17_row5_col1, #T_f4a17_row5_col2, #T_f4a17_row5_col3, #T_f4a17_row5_col4, #T_f4a17_row6_col0, #T_f4a17_row6_col1, #T_f4a17_row6_col2, #T_f4a17_row6_col3, #T_f4a17_row6_col4, #T_f4a17_row6_col5, #T_f4a17_row7_col0, #T_f4a17_row7_col1, #T_f4a17_row7_col2, #T_f4a17_row7_col3, #T_f4a17_row7_col4, #T_f4a17_row7_col5, #T_f4a17_row7_col6, #T_f4a17_row8_col0, #T_f4a17_row8_col1, #T_f4a17_row8_col2, #T_f4a17_row8_col3, #T_f4a17_row8_col4, #T_f4a17_row8_col5, #T_f4a17_row8_col6, #T_f4a17_row8_col7, #T_f4a17_row9_col0, #T_f4a17_row9_col1, #T_f4a17_row9_col2, #T_f4a17_row9_col3, #T_f4a17_row9_col4, #T_f4a17_row9_col5, #T_f4a17_row9_col6, #T_f4a17_row9_col7, #T_f4a17_row9_col8, #T_f4a17_row10_col0, #T_f4a17_row10_col1, #T_f4a17_row10_col2, #T_f4a17_row10_col3, #T_f4a17_row10_col4, #T_f4a17_row10_col5, #T_f4a17_row10_col6, #T_f4a17_row10_col7, #T_f4a17_row10_col8, #T_f4a17_row10_col9, #T_f4a17_row11_col0, #T_f4a17_row11_col1, #T_f4a17_row11_col2, #T_f4a17_row11_col3, #T_f4a17_row11_col4, #T_f4a17_row11_col5, #T_f4a17_row11_col6, #T_f4a17_row11_col7, #T_f4a17_row11_col8, #T_f4a17_row11_col9, #T_f4a17_row11_col10 {\n",
       "  background-color: #d3d3d3;\n",
       "}\n",
       "</style>\n",
       "<table id=\"T_f4a17\">\n",
       "  <thead>\n",
       "    <tr>\n",
       "      <th class=\"index_name level0\" >time</th>\n",
       "      <th id=\"T_f4a17_level0_col0\" class=\"col_heading level0 col0\" >0.00</th>\n",
       "      <th id=\"T_f4a17_level0_col1\" class=\"col_heading level0 col1\" >0.25</th>\n",
       "      <th id=\"T_f4a17_level0_col2\" class=\"col_heading level0 col2\" >0.50</th>\n",
       "      <th id=\"T_f4a17_level0_col3\" class=\"col_heading level0 col3\" >0.75</th>\n",
       "      <th id=\"T_f4a17_level0_col4\" class=\"col_heading level0 col4\" >1.00</th>\n",
       "      <th id=\"T_f4a17_level0_col5\" class=\"col_heading level0 col5\" >1.25</th>\n",
       "      <th id=\"T_f4a17_level0_col6\" class=\"col_heading level0 col6\" >1.50</th>\n",
       "      <th id=\"T_f4a17_level0_col7\" class=\"col_heading level0 col7\" >1.75</th>\n",
       "      <th id=\"T_f4a17_level0_col8\" class=\"col_heading level0 col8\" >2.00</th>\n",
       "      <th id=\"T_f4a17_level0_col9\" class=\"col_heading level0 col9\" >2.25</th>\n",
       "      <th id=\"T_f4a17_level0_col10\" class=\"col_heading level0 col10\" >2.50</th>\n",
       "      <th id=\"T_f4a17_level0_col11\" class=\"col_heading level0 col11\" >2.75</th>\n",
       "    </tr>\n",
       "    <tr>\n",
       "      <th class=\"index_name level0\" >state</th>\n",
       "      <th class=\"blank col0\" >&nbsp;</th>\n",
       "      <th class=\"blank col1\" >&nbsp;</th>\n",
       "      <th class=\"blank col2\" >&nbsp;</th>\n",
       "      <th class=\"blank col3\" >&nbsp;</th>\n",
       "      <th class=\"blank col4\" >&nbsp;</th>\n",
       "      <th class=\"blank col5\" >&nbsp;</th>\n",
       "      <th class=\"blank col6\" >&nbsp;</th>\n",
       "      <th class=\"blank col7\" >&nbsp;</th>\n",
       "      <th class=\"blank col8\" >&nbsp;</th>\n",
       "      <th class=\"blank col9\" >&nbsp;</th>\n",
       "      <th class=\"blank col10\" >&nbsp;</th>\n",
       "      <th class=\"blank col11\" >&nbsp;</th>\n",
       "    </tr>\n",
       "  </thead>\n",
       "  <tbody>\n",
       "    <tr>\n",
       "      <th id=\"T_f4a17_level0_row0\" class=\"row_heading level0 row0\" >0</th>\n",
       "      <td id=\"T_f4a17_row0_col0\" class=\"data row0 col0\" >105.31</td>\n",
       "      <td id=\"T_f4a17_row0_col1\" class=\"data row0 col1\" >102.40</td>\n",
       "      <td id=\"T_f4a17_row0_col2\" class=\"data row0 col2\" >102.57</td>\n",
       "      <td id=\"T_f4a17_row0_col3\" class=\"data row0 col3\" >99.82</td>\n",
       "      <td id=\"T_f4a17_row0_col4\" class=\"data row0 col4\" >100.16</td>\n",
       "      <td id=\"T_f4a17_row0_col5\" class=\"data row0 col5\" >97.54</td>\n",
       "      <td id=\"T_f4a17_row0_col6\" class=\"data row0 col6\" >98.10</td>\n",
       "      <td id=\"T_f4a17_row0_col7\" class=\"data row0 col7\" >95.89</td>\n",
       "      <td id=\"T_f4a17_row0_col8\" class=\"data row0 col8\" >96.99</td>\n",
       "      <td id=\"T_f4a17_row0_col9\" class=\"data row0 col9\" >95.38</td>\n",
       "      <td id=\"T_f4a17_row0_col10\" class=\"data row0 col10\" >97.25</td>\n",
       "      <td id=\"T_f4a17_row0_col11\" class=\"data row0 col11\" >96.75</td>\n",
       "    </tr>\n",
       "    <tr>\n",
       "      <th id=\"T_f4a17_level0_row1\" class=\"row_heading level0 row1\" >1</th>\n",
       "      <td id=\"T_f4a17_row1_col0\" class=\"data row1 col0\" ></td>\n",
       "      <td id=\"T_f4a17_row1_col1\" class=\"data row1 col1\" >104.96</td>\n",
       "      <td id=\"T_f4a17_row1_col2\" class=\"data row1 col2\" >105.05</td>\n",
       "      <td id=\"T_f4a17_row1_col3\" class=\"data row1 col3\" >102.19</td>\n",
       "      <td id=\"T_f4a17_row1_col4\" class=\"data row1 col4\" >102.39</td>\n",
       "      <td id=\"T_f4a17_row1_col5\" class=\"data row1 col5\" >99.60</td>\n",
       "      <td id=\"T_f4a17_row1_col6\" class=\"data row1 col6\" >99.95</td>\n",
       "      <td id=\"T_f4a17_row1_col7\" class=\"data row1 col7\" >97.51</td>\n",
       "      <td id=\"T_f4a17_row1_col8\" class=\"data row1 col8\" >98.35</td>\n",
       "      <td id=\"T_f4a17_row1_col9\" class=\"data row1 col9\" >96.46</td>\n",
       "      <td id=\"T_f4a17_row1_col10\" class=\"data row1 col10\" >98.03</td>\n",
       "      <td id=\"T_f4a17_row1_col11\" class=\"data row1 col11\" >97.17</td>\n",
       "    </tr>\n",
       "    <tr>\n",
       "      <th id=\"T_f4a17_level0_row2\" class=\"row_heading level0 row2\" >2</th>\n",
       "      <td id=\"T_f4a17_row2_col0\" class=\"data row2 col0\" ></td>\n",
       "      <td id=\"T_f4a17_row2_col1\" class=\"data row2 col1\" ></td>\n",
       "      <td id=\"T_f4a17_row2_col2\" class=\"data row2 col2\" >107.38</td>\n",
       "      <td id=\"T_f4a17_row2_col3\" class=\"data row2 col3\" >104.46</td>\n",
       "      <td id=\"T_f4a17_row2_col4\" class=\"data row2 col4\" >104.57</td>\n",
       "      <td id=\"T_f4a17_row2_col5\" class=\"data row2 col5\" >101.67</td>\n",
       "      <td id=\"T_f4a17_row2_col6\" class=\"data row2 col6\" >101.87</td>\n",
       "      <td id=\"T_f4a17_row2_col7\" class=\"data row2 col7\" >99.23</td>\n",
       "      <td id=\"T_f4a17_row2_col8\" class=\"data row2 col8\" >99.81</td>\n",
       "      <td id=\"T_f4a17_row2_col9\" class=\"data row2 col9\" >97.63</td>\n",
       "      <td id=\"T_f4a17_row2_col10\" class=\"data row2 col10\" >98.86</td>\n",
       "      <td id=\"T_f4a17_row2_col11\" class=\"data row2 col11\" >97.62</td>\n",
       "    </tr>\n",
       "    <tr>\n",
       "      <th id=\"T_f4a17_level0_row3\" class=\"row_heading level0 row3\" >3</th>\n",
       "      <td id=\"T_f4a17_row3_col0\" class=\"data row3 col0\" ></td>\n",
       "      <td id=\"T_f4a17_row3_col1\" class=\"data row3 col1\" ></td>\n",
       "      <td id=\"T_f4a17_row3_col2\" class=\"data row3 col2\" ></td>\n",
       "      <td id=\"T_f4a17_row3_col3\" class=\"data row3 col3\" >106.48</td>\n",
       "      <td id=\"T_f4a17_row3_col4\" class=\"data row3 col4\" >106.55</td>\n",
       "      <td id=\"T_f4a17_row3_col5\" class=\"data row3 col5\" >103.60</td>\n",
       "      <td id=\"T_f4a17_row3_col6\" class=\"data row3 col6\" >103.71</td>\n",
       "      <td id=\"T_f4a17_row3_col7\" class=\"data row3 col7\" >100.93</td>\n",
       "      <td id=\"T_f4a17_row3_col8\" class=\"data row3 col8\" >101.31</td>\n",
       "      <td id=\"T_f4a17_row3_col9\" class=\"data row3 col9\" >98.87</td>\n",
       "      <td id=\"T_f4a17_row3_col10\" class=\"data row3 col10\" >99.75</td>\n",
       "      <td id=\"T_f4a17_row3_col11\" class=\"data row3 col11\" >98.08</td>\n",
       "    </tr>\n",
       "    <tr>\n",
       "      <th id=\"T_f4a17_level0_row4\" class=\"row_heading level0 row4\" >4</th>\n",
       "      <td id=\"T_f4a17_row4_col0\" class=\"data row4 col0\" ></td>\n",
       "      <td id=\"T_f4a17_row4_col1\" class=\"data row4 col1\" ></td>\n",
       "      <td id=\"T_f4a17_row4_col2\" class=\"data row4 col2\" ></td>\n",
       "      <td id=\"T_f4a17_row4_col3\" class=\"data row4 col3\" ></td>\n",
       "      <td id=\"T_f4a17_row4_col4\" class=\"data row4 col4\" >108.23</td>\n",
       "      <td id=\"T_f4a17_row4_col5\" class=\"data row4 col5\" >105.25</td>\n",
       "      <td id=\"T_f4a17_row4_col6\" class=\"data row4 col6\" >105.32</td>\n",
       "      <td id=\"T_f4a17_row4_col7\" class=\"data row4 col7\" >102.47</td>\n",
       "      <td id=\"T_f4a17_row4_col8\" class=\"data row4 col8\" >102.73</td>\n",
       "      <td id=\"T_f4a17_row4_col9\" class=\"data row4 col9\" >100.11</td>\n",
       "      <td id=\"T_f4a17_row4_col10\" class=\"data row4 col10\" >100.72</td>\n",
       "      <td id=\"T_f4a17_row4_col11\" class=\"data row4 col11\" >98.65</td>\n",
       "    </tr>\n",
       "    <tr>\n",
       "      <th id=\"T_f4a17_level0_row5\" class=\"row_heading level0 row5\" >5</th>\n",
       "      <td id=\"T_f4a17_row5_col0\" class=\"data row5 col0\" ></td>\n",
       "      <td id=\"T_f4a17_row5_col1\" class=\"data row5 col1\" ></td>\n",
       "      <td id=\"T_f4a17_row5_col2\" class=\"data row5 col2\" ></td>\n",
       "      <td id=\"T_f4a17_row5_col3\" class=\"data row5 col3\" ></td>\n",
       "      <td id=\"T_f4a17_row5_col4\" class=\"data row5 col4\" ></td>\n",
       "      <td id=\"T_f4a17_row5_col5\" class=\"data row5 col5\" >106.44</td>\n",
       "      <td id=\"T_f4a17_row5_col6\" class=\"data row5 col6\" >106.49</td>\n",
       "      <td id=\"T_f4a17_row5_col7\" class=\"data row5 col7\" >103.59</td>\n",
       "      <td id=\"T_f4a17_row5_col8\" class=\"data row5 col8\" >103.76</td>\n",
       "      <td id=\"T_f4a17_row5_col9\" class=\"data row5 col9\" >101.02</td>\n",
       "      <td id=\"T_f4a17_row5_col10\" class=\"data row5 col10\" >101.43</td>\n",
       "      <td id=\"T_f4a17_row5_col11\" class=\"data row5 col11\" >99.07</td>\n",
       "    </tr>\n",
       "    <tr>\n",
       "      <th id=\"T_f4a17_level0_row6\" class=\"row_heading level0 row6\" >6</th>\n",
       "      <td id=\"T_f4a17_row6_col0\" class=\"data row6 col0\" ></td>\n",
       "      <td id=\"T_f4a17_row6_col1\" class=\"data row6 col1\" ></td>\n",
       "      <td id=\"T_f4a17_row6_col2\" class=\"data row6 col2\" ></td>\n",
       "      <td id=\"T_f4a17_row6_col3\" class=\"data row6 col3\" ></td>\n",
       "      <td id=\"T_f4a17_row6_col4\" class=\"data row6 col4\" ></td>\n",
       "      <td id=\"T_f4a17_row6_col5\" class=\"data row6 col5\" ></td>\n",
       "      <td id=\"T_f4a17_row6_col6\" class=\"data row6 col6\" >107.30</td>\n",
       "      <td id=\"T_f4a17_row6_col7\" class=\"data row6 col7\" >104.37</td>\n",
       "      <td id=\"T_f4a17_row6_col8\" class=\"data row6 col8\" >104.49</td>\n",
       "      <td id=\"T_f4a17_row6_col9\" class=\"data row6 col9\" >101.66</td>\n",
       "      <td id=\"T_f4a17_row6_col10\" class=\"data row6 col10\" >101.94</td>\n",
       "      <td id=\"T_f4a17_row6_col11\" class=\"data row6 col11\" >99.37</td>\n",
       "    </tr>\n",
       "    <tr>\n",
       "      <th id=\"T_f4a17_level0_row7\" class=\"row_heading level0 row7\" >7</th>\n",
       "      <td id=\"T_f4a17_row7_col0\" class=\"data row7 col0\" ></td>\n",
       "      <td id=\"T_f4a17_row7_col1\" class=\"data row7 col1\" ></td>\n",
       "      <td id=\"T_f4a17_row7_col2\" class=\"data row7 col2\" ></td>\n",
       "      <td id=\"T_f4a17_row7_col3\" class=\"data row7 col3\" ></td>\n",
       "      <td id=\"T_f4a17_row7_col4\" class=\"data row7 col4\" ></td>\n",
       "      <td id=\"T_f4a17_row7_col5\" class=\"data row7 col5\" ></td>\n",
       "      <td id=\"T_f4a17_row7_col6\" class=\"data row7 col6\" ></td>\n",
       "      <td id=\"T_f4a17_row7_col7\" class=\"data row7 col7\" >104.90</td>\n",
       "      <td id=\"T_f4a17_row7_col8\" class=\"data row7 col8\" >104.98</td>\n",
       "      <td id=\"T_f4a17_row7_col9\" class=\"data row7 col9\" >102.10</td>\n",
       "      <td id=\"T_f4a17_row7_col10\" class=\"data row7 col10\" >102.29</td>\n",
       "      <td id=\"T_f4a17_row7_col11\" class=\"data row7 col11\" >99.58</td>\n",
       "    </tr>\n",
       "    <tr>\n",
       "      <th id=\"T_f4a17_level0_row8\" class=\"row_heading level0 row8\" >8</th>\n",
       "      <td id=\"T_f4a17_row8_col0\" class=\"data row8 col0\" ></td>\n",
       "      <td id=\"T_f4a17_row8_col1\" class=\"data row8 col1\" ></td>\n",
       "      <td id=\"T_f4a17_row8_col2\" class=\"data row8 col2\" ></td>\n",
       "      <td id=\"T_f4a17_row8_col3\" class=\"data row8 col3\" ></td>\n",
       "      <td id=\"T_f4a17_row8_col4\" class=\"data row8 col4\" ></td>\n",
       "      <td id=\"T_f4a17_row8_col5\" class=\"data row8 col5\" ></td>\n",
       "      <td id=\"T_f4a17_row8_col6\" class=\"data row8 col6\" ></td>\n",
       "      <td id=\"T_f4a17_row8_col7\" class=\"data row8 col7\" ></td>\n",
       "      <td id=\"T_f4a17_row8_col8\" class=\"data row8 col8\" >105.31</td>\n",
       "      <td id=\"T_f4a17_row8_col9\" class=\"data row8 col9\" >102.39</td>\n",
       "      <td id=\"T_f4a17_row8_col10\" class=\"data row8 col10\" >102.52</td>\n",
       "      <td id=\"T_f4a17_row8_col11\" class=\"data row8 col11\" >99.72</td>\n",
       "    </tr>\n",
       "    <tr>\n",
       "      <th id=\"T_f4a17_level0_row9\" class=\"row_heading level0 row9\" >9</th>\n",
       "      <td id=\"T_f4a17_row9_col0\" class=\"data row9 col0\" ></td>\n",
       "      <td id=\"T_f4a17_row9_col1\" class=\"data row9 col1\" ></td>\n",
       "      <td id=\"T_f4a17_row9_col2\" class=\"data row9 col2\" ></td>\n",
       "      <td id=\"T_f4a17_row9_col3\" class=\"data row9 col3\" ></td>\n",
       "      <td id=\"T_f4a17_row9_col4\" class=\"data row9 col4\" ></td>\n",
       "      <td id=\"T_f4a17_row9_col5\" class=\"data row9 col5\" ></td>\n",
       "      <td id=\"T_f4a17_row9_col6\" class=\"data row9 col6\" ></td>\n",
       "      <td id=\"T_f4a17_row9_col7\" class=\"data row9 col7\" ></td>\n",
       "      <td id=\"T_f4a17_row9_col8\" class=\"data row9 col8\" ></td>\n",
       "      <td id=\"T_f4a17_row9_col9\" class=\"data row9 col9\" >102.58</td>\n",
       "      <td id=\"T_f4a17_row9_col10\" class=\"data row9 col10\" >102.67</td>\n",
       "      <td id=\"T_f4a17_row9_col11\" class=\"data row9 col11\" >99.81</td>\n",
       "    </tr>\n",
       "    <tr>\n",
       "      <th id=\"T_f4a17_level0_row10\" class=\"row_heading level0 row10\" >10</th>\n",
       "      <td id=\"T_f4a17_row10_col0\" class=\"data row10 col0\" ></td>\n",
       "      <td id=\"T_f4a17_row10_col1\" class=\"data row10 col1\" ></td>\n",
       "      <td id=\"T_f4a17_row10_col2\" class=\"data row10 col2\" ></td>\n",
       "      <td id=\"T_f4a17_row10_col3\" class=\"data row10 col3\" ></td>\n",
       "      <td id=\"T_f4a17_row10_col4\" class=\"data row10 col4\" ></td>\n",
       "      <td id=\"T_f4a17_row10_col5\" class=\"data row10 col5\" ></td>\n",
       "      <td id=\"T_f4a17_row10_col6\" class=\"data row10 col6\" ></td>\n",
       "      <td id=\"T_f4a17_row10_col7\" class=\"data row10 col7\" ></td>\n",
       "      <td id=\"T_f4a17_row10_col8\" class=\"data row10 col8\" ></td>\n",
       "      <td id=\"T_f4a17_row10_col9\" class=\"data row10 col9\" ></td>\n",
       "      <td id=\"T_f4a17_row10_col10\" class=\"data row10 col10\" >102.78</td>\n",
       "      <td id=\"T_f4a17_row10_col11\" class=\"data row10 col11\" >99.87</td>\n",
       "    </tr>\n",
       "    <tr>\n",
       "      <th id=\"T_f4a17_level0_row11\" class=\"row_heading level0 row11\" >11</th>\n",
       "      <td id=\"T_f4a17_row11_col0\" class=\"data row11 col0\" ></td>\n",
       "      <td id=\"T_f4a17_row11_col1\" class=\"data row11 col1\" ></td>\n",
       "      <td id=\"T_f4a17_row11_col2\" class=\"data row11 col2\" ></td>\n",
       "      <td id=\"T_f4a17_row11_col3\" class=\"data row11 col3\" ></td>\n",
       "      <td id=\"T_f4a17_row11_col4\" class=\"data row11 col4\" ></td>\n",
       "      <td id=\"T_f4a17_row11_col5\" class=\"data row11 col5\" ></td>\n",
       "      <td id=\"T_f4a17_row11_col6\" class=\"data row11 col6\" ></td>\n",
       "      <td id=\"T_f4a17_row11_col7\" class=\"data row11 col7\" ></td>\n",
       "      <td id=\"T_f4a17_row11_col8\" class=\"data row11 col8\" ></td>\n",
       "      <td id=\"T_f4a17_row11_col9\" class=\"data row11 col9\" ></td>\n",
       "      <td id=\"T_f4a17_row11_col10\" class=\"data row11 col10\" ></td>\n",
       "      <td id=\"T_f4a17_row11_col11\" class=\"data row11 col11\" >99.91</td>\n",
       "    </tr>\n",
       "  </tbody>\n",
       "</table>\n"
      ],
      "text/plain": [
       "<pandas.io.formats.style.Styler at 0x157dd0490>"
      ]
     },
     "execution_count": 20,
     "metadata": {},
     "output_type": "execute_result"
    }
   ],
   "source": [
    "accint = construct_accint(bondtree.columns.values, compound, cpn)\n",
    "cleantree = np.maximum(bondtree.subtract(accint,axis=1),0)\n",
    "\n",
    "cleantree.style.format('{:.2f}',na_rep='').applymap(highlight_values).format_index('{:.2f}',axis=1)"
   ]
  },
  {
   "cell_type": "markdown",
   "id": "8cf19978",
   "metadata": {},
   "source": [
    "## **<span style=\"color:red\">3.2 </span>**"
   ]
  },
  {
   "cell_type": "code",
   "execution_count": 21,
   "id": "80154d36",
   "metadata": {},
   "outputs": [],
   "source": [
    "Topt = 1.5\n",
    "STRIKE = 100\n",
    "CLEANCALL = True"
   ]
  },
  {
   "cell_type": "code",
   "execution_count": 22,
   "id": "9d5d376c",
   "metadata": {
    "scrolled": false
   },
   "outputs": [
    {
     "data": {
      "text/html": [
       "<style type=\"text/css\">\n",
       "</style>\n",
       "<table id=\"T_881b2\">\n",
       "  <thead>\n",
       "    <tr>\n",
       "      <th class=\"index_name level0\" >time</th>\n",
       "      <th id=\"T_881b2_level0_col0\" class=\"col_heading level0 col0\" >0.00</th>\n",
       "      <th id=\"T_881b2_level0_col1\" class=\"col_heading level0 col1\" >0.25</th>\n",
       "      <th id=\"T_881b2_level0_col2\" class=\"col_heading level0 col2\" >0.50</th>\n",
       "      <th id=\"T_881b2_level0_col3\" class=\"col_heading level0 col3\" >0.75</th>\n",
       "      <th id=\"T_881b2_level0_col4\" class=\"col_heading level0 col4\" >1.00</th>\n",
       "      <th id=\"T_881b2_level0_col5\" class=\"col_heading level0 col5\" >1.25</th>\n",
       "      <th id=\"T_881b2_level0_col6\" class=\"col_heading level0 col6\" >1.50</th>\n",
       "    </tr>\n",
       "    <tr>\n",
       "      <th class=\"index_name level0\" >state</th>\n",
       "      <th class=\"blank col0\" >&nbsp;</th>\n",
       "      <th class=\"blank col1\" >&nbsp;</th>\n",
       "      <th class=\"blank col2\" >&nbsp;</th>\n",
       "      <th class=\"blank col3\" >&nbsp;</th>\n",
       "      <th class=\"blank col4\" >&nbsp;</th>\n",
       "      <th class=\"blank col5\" >&nbsp;</th>\n",
       "      <th class=\"blank col6\" >&nbsp;</th>\n",
       "    </tr>\n",
       "  </thead>\n",
       "  <tbody>\n",
       "    <tr>\n",
       "      <th id=\"T_881b2_level0_row0\" class=\"row_heading level0 row0\" >0</th>\n",
       "      <td id=\"T_881b2_row0_col0\" class=\"data row0 col0\" >3.34</td>\n",
       "      <td id=\"T_881b2_row0_col1\" class=\"data row0 col1\" >2.62</td>\n",
       "      <td id=\"T_881b2_row0_col2\" class=\"data row0 col2\" >1.87</td>\n",
       "      <td id=\"T_881b2_row0_col3\" class=\"data row0 col3\" >1.12</td>\n",
       "      <td id=\"T_881b2_row0_col4\" class=\"data row0 col4\" >0.45</td>\n",
       "      <td id=\"T_881b2_row0_col5\" class=\"data row0 col5\" >0.00</td>\n",
       "      <td id=\"T_881b2_row0_col6\" class=\"data row0 col6\" >0.00</td>\n",
       "    </tr>\n",
       "    <tr>\n",
       "      <th id=\"T_881b2_level0_row1\" class=\"row_heading level0 row1\" >1</th>\n",
       "      <td id=\"T_881b2_row1_col0\" class=\"data row1 col0\" ></td>\n",
       "      <td id=\"T_881b2_row1_col1\" class=\"data row1 col1\" >4.15</td>\n",
       "      <td id=\"T_881b2_row1_col2\" class=\"data row1 col2\" >3.45</td>\n",
       "      <td id=\"T_881b2_row1_col3\" class=\"data row1 col3\" >2.67</td>\n",
       "      <td id=\"T_881b2_row1_col4\" class=\"data row1 col4\" >1.82</td>\n",
       "      <td id=\"T_881b2_row1_col5\" class=\"data row1 col5\" >0.92</td>\n",
       "      <td id=\"T_881b2_row1_col6\" class=\"data row1 col6\" >0.00</td>\n",
       "    </tr>\n",
       "    <tr>\n",
       "      <th id=\"T_881b2_level0_row2\" class=\"row_heading level0 row2\" >2</th>\n",
       "      <td id=\"T_881b2_row2_col0\" class=\"data row2 col0\" ></td>\n",
       "      <td id=\"T_881b2_row2_col1\" class=\"data row2 col1\" ></td>\n",
       "      <td id=\"T_881b2_row2_col2\" class=\"data row2 col2\" >4.95</td>\n",
       "      <td id=\"T_881b2_row2_col3\" class=\"data row2 col3\" >4.31</td>\n",
       "      <td id=\"T_881b2_row2_col4\" class=\"data row2 col4\" >3.58</td>\n",
       "      <td id=\"T_881b2_row2_col5\" class=\"data row2 col5\" >2.76</td>\n",
       "      <td id=\"T_881b2_row2_col6\" class=\"data row2 col6\" >1.87</td>\n",
       "    </tr>\n",
       "    <tr>\n",
       "      <th id=\"T_881b2_level0_row3\" class=\"row_heading level0 row3\" >3</th>\n",
       "      <td id=\"T_881b2_row3_col0\" class=\"data row3 col0\" ></td>\n",
       "      <td id=\"T_881b2_row3_col1\" class=\"data row3 col1\" ></td>\n",
       "      <td id=\"T_881b2_row3_col2\" class=\"data row3 col2\" ></td>\n",
       "      <td id=\"T_881b2_row3_col3\" class=\"data row3 col3\" >5.68</td>\n",
       "      <td id=\"T_881b2_row3_col4\" class=\"data row3 col4\" >5.13</td>\n",
       "      <td id=\"T_881b2_row3_col5\" class=\"data row3 col5\" >4.48</td>\n",
       "      <td id=\"T_881b2_row3_col6\" class=\"data row3 col6\" >3.71</td>\n",
       "    </tr>\n",
       "    <tr>\n",
       "      <th id=\"T_881b2_level0_row4\" class=\"row_heading level0 row4\" >4</th>\n",
       "      <td id=\"T_881b2_row4_col0\" class=\"data row4 col0\" ></td>\n",
       "      <td id=\"T_881b2_row4_col1\" class=\"data row4 col1\" ></td>\n",
       "      <td id=\"T_881b2_row4_col2\" class=\"data row4 col2\" ></td>\n",
       "      <td id=\"T_881b2_row4_col3\" class=\"data row4 col3\" ></td>\n",
       "      <td id=\"T_881b2_row4_col4\" class=\"data row4 col4\" >6.33</td>\n",
       "      <td id=\"T_881b2_row4_col5\" class=\"data row4 col5\" >5.87</td>\n",
       "      <td id=\"T_881b2_row4_col6\" class=\"data row4 col6\" >5.32</td>\n",
       "    </tr>\n",
       "    <tr>\n",
       "      <th id=\"T_881b2_level0_row5\" class=\"row_heading level0 row5\" >5</th>\n",
       "      <td id=\"T_881b2_row5_col0\" class=\"data row5 col0\" ></td>\n",
       "      <td id=\"T_881b2_row5_col1\" class=\"data row5 col1\" ></td>\n",
       "      <td id=\"T_881b2_row5_col2\" class=\"data row5 col2\" ></td>\n",
       "      <td id=\"T_881b2_row5_col3\" class=\"data row5 col3\" ></td>\n",
       "      <td id=\"T_881b2_row5_col4\" class=\"data row5 col4\" ></td>\n",
       "      <td id=\"T_881b2_row5_col5\" class=\"data row5 col5\" >6.87</td>\n",
       "      <td id=\"T_881b2_row5_col6\" class=\"data row5 col6\" >6.49</td>\n",
       "    </tr>\n",
       "    <tr>\n",
       "      <th id=\"T_881b2_level0_row6\" class=\"row_heading level0 row6\" >6</th>\n",
       "      <td id=\"T_881b2_row6_col0\" class=\"data row6 col0\" ></td>\n",
       "      <td id=\"T_881b2_row6_col1\" class=\"data row6 col1\" ></td>\n",
       "      <td id=\"T_881b2_row6_col2\" class=\"data row6 col2\" ></td>\n",
       "      <td id=\"T_881b2_row6_col3\" class=\"data row6 col3\" ></td>\n",
       "      <td id=\"T_881b2_row6_col4\" class=\"data row6 col4\" ></td>\n",
       "      <td id=\"T_881b2_row6_col5\" class=\"data row6 col5\" ></td>\n",
       "      <td id=\"T_881b2_row6_col6\" class=\"data row6 col6\" >7.30</td>\n",
       "    </tr>\n",
       "  </tbody>\n",
       "</table>\n"
      ],
      "text/plain": [
       "<pandas.io.formats.style.Styler at 0x157dd0550>"
      ]
     },
     "execution_count": 22,
     "metadata": {},
     "output_type": "execute_result"
    }
   ],
   "source": [
    "tsteps = int(Topt/dt)\n",
    "\n",
    "if CLEANCALL:\n",
    "    undertree = cleantree\n",
    "else:\n",
    "    undertree = bondtree\n",
    "    \n",
    "calltree = bintree_pricing(payoff=payoff_call, ratetree=ratetree.iloc[:tsteps+1,:tsteps+1], undertree= undertree.iloc[:tsteps+1,:tsteps+1])\n",
    "format_bintree(calltree)"
   ]
  },
  {
   "cell_type": "markdown",
   "id": "bb8bef03",
   "metadata": {},
   "source": [
    "## **<span style=\"color:red\">3.3 </span>**"
   ]
  },
  {
   "cell_type": "code",
   "execution_count": 23,
   "id": "9a6b866e",
   "metadata": {},
   "outputs": [
    {
     "data": {
      "text/html": [
       "<style type=\"text/css\">\n",
       "</style>\n",
       "<table id=\"T_d66b2\">\n",
       "  <thead>\n",
       "    <tr>\n",
       "      <th class=\"index_name level0\" >time</th>\n",
       "      <th id=\"T_d66b2_level0_col0\" class=\"col_heading level0 col0\" >0.00</th>\n",
       "      <th id=\"T_d66b2_level0_col1\" class=\"col_heading level0 col1\" >0.25</th>\n",
       "      <th id=\"T_d66b2_level0_col2\" class=\"col_heading level0 col2\" >0.50</th>\n",
       "      <th id=\"T_d66b2_level0_col3\" class=\"col_heading level0 col3\" >0.75</th>\n",
       "      <th id=\"T_d66b2_level0_col4\" class=\"col_heading level0 col4\" >1.00</th>\n",
       "      <th id=\"T_d66b2_level0_col5\" class=\"col_heading level0 col5\" >1.25</th>\n",
       "      <th id=\"T_d66b2_level0_col6\" class=\"col_heading level0 col6\" >1.50</th>\n",
       "      <th id=\"T_d66b2_level0_col7\" class=\"col_heading level0 col7\" >1.75</th>\n",
       "      <th id=\"T_d66b2_level0_col8\" class=\"col_heading level0 col8\" >2.00</th>\n",
       "      <th id=\"T_d66b2_level0_col9\" class=\"col_heading level0 col9\" >2.25</th>\n",
       "      <th id=\"T_d66b2_level0_col10\" class=\"col_heading level0 col10\" >2.50</th>\n",
       "      <th id=\"T_d66b2_level0_col11\" class=\"col_heading level0 col11\" >2.75</th>\n",
       "    </tr>\n",
       "    <tr>\n",
       "      <th class=\"index_name level0\" >state</th>\n",
       "      <th class=\"blank col0\" >&nbsp;</th>\n",
       "      <th class=\"blank col1\" >&nbsp;</th>\n",
       "      <th class=\"blank col2\" >&nbsp;</th>\n",
       "      <th class=\"blank col3\" >&nbsp;</th>\n",
       "      <th class=\"blank col4\" >&nbsp;</th>\n",
       "      <th class=\"blank col5\" >&nbsp;</th>\n",
       "      <th class=\"blank col6\" >&nbsp;</th>\n",
       "      <th class=\"blank col7\" >&nbsp;</th>\n",
       "      <th class=\"blank col8\" >&nbsp;</th>\n",
       "      <th class=\"blank col9\" >&nbsp;</th>\n",
       "      <th class=\"blank col10\" >&nbsp;</th>\n",
       "      <th class=\"blank col11\" >&nbsp;</th>\n",
       "    </tr>\n",
       "  </thead>\n",
       "  <tbody>\n",
       "    <tr>\n",
       "      <th id=\"T_d66b2_level0_row0\" class=\"row_heading level0 row0\" >0</th>\n",
       "      <td id=\"T_d66b2_row0_col0\" class=\"data row0 col0\" >101.97</td>\n",
       "      <td id=\"T_d66b2_row0_col1\" class=\"data row0 col1\" >99.78</td>\n",
       "      <td id=\"T_d66b2_row0_col2\" class=\"data row0 col2\" >100.71</td>\n",
       "      <td id=\"T_d66b2_row0_col3\" class=\"data row0 col3\" >98.70</td>\n",
       "      <td id=\"T_d66b2_row0_col4\" class=\"data row0 col4\" >99.71</td>\n",
       "      <td id=\"T_d66b2_row0_col5\" class=\"data row0 col5\" >97.54</td>\n",
       "      <td id=\"T_d66b2_row0_col6\" class=\"data row0 col6\" >98.10</td>\n",
       "      <td id=\"T_d66b2_row0_col7\" class=\"data row0 col7\" ></td>\n",
       "      <td id=\"T_d66b2_row0_col8\" class=\"data row0 col8\" ></td>\n",
       "      <td id=\"T_d66b2_row0_col9\" class=\"data row0 col9\" ></td>\n",
       "      <td id=\"T_d66b2_row0_col10\" class=\"data row0 col10\" ></td>\n",
       "      <td id=\"T_d66b2_row0_col11\" class=\"data row0 col11\" ></td>\n",
       "    </tr>\n",
       "    <tr>\n",
       "      <th id=\"T_d66b2_level0_row1\" class=\"row_heading level0 row1\" >1</th>\n",
       "      <td id=\"T_d66b2_row1_col0\" class=\"data row1 col0\" ></td>\n",
       "      <td id=\"T_d66b2_row1_col1\" class=\"data row1 col1\" >100.81</td>\n",
       "      <td id=\"T_d66b2_row1_col2\" class=\"data row1 col2\" >101.60</td>\n",
       "      <td id=\"T_d66b2_row1_col3\" class=\"data row1 col3\" >99.52</td>\n",
       "      <td id=\"T_d66b2_row1_col4\" class=\"data row1 col4\" >100.57</td>\n",
       "      <td id=\"T_d66b2_row1_col5\" class=\"data row1 col5\" >98.67</td>\n",
       "      <td id=\"T_d66b2_row1_col6\" class=\"data row1 col6\" >99.95</td>\n",
       "      <td id=\"T_d66b2_row1_col7\" class=\"data row1 col7\" ></td>\n",
       "      <td id=\"T_d66b2_row1_col8\" class=\"data row1 col8\" ></td>\n",
       "      <td id=\"T_d66b2_row1_col9\" class=\"data row1 col9\" ></td>\n",
       "      <td id=\"T_d66b2_row1_col10\" class=\"data row1 col10\" ></td>\n",
       "      <td id=\"T_d66b2_row1_col11\" class=\"data row1 col11\" ></td>\n",
       "    </tr>\n",
       "    <tr>\n",
       "      <th id=\"T_d66b2_level0_row2\" class=\"row_heading level0 row2\" >2</th>\n",
       "      <td id=\"T_d66b2_row2_col0\" class=\"data row2 col0\" ></td>\n",
       "      <td id=\"T_d66b2_row2_col1\" class=\"data row2 col1\" ></td>\n",
       "      <td id=\"T_d66b2_row2_col2\" class=\"data row2 col2\" >102.44</td>\n",
       "      <td id=\"T_d66b2_row2_col3\" class=\"data row2 col3\" >100.15</td>\n",
       "      <td id=\"T_d66b2_row2_col4\" class=\"data row2 col4\" >100.99</td>\n",
       "      <td id=\"T_d66b2_row2_col5\" class=\"data row2 col5\" >98.91</td>\n",
       "      <td id=\"T_d66b2_row2_col6\" class=\"data row2 col6\" >100.00</td>\n",
       "      <td id=\"T_d66b2_row2_col7\" class=\"data row2 col7\" ></td>\n",
       "      <td id=\"T_d66b2_row2_col8\" class=\"data row2 col8\" ></td>\n",
       "      <td id=\"T_d66b2_row2_col9\" class=\"data row2 col9\" ></td>\n",
       "      <td id=\"T_d66b2_row2_col10\" class=\"data row2 col10\" ></td>\n",
       "      <td id=\"T_d66b2_row2_col11\" class=\"data row2 col11\" ></td>\n",
       "    </tr>\n",
       "    <tr>\n",
       "      <th id=\"T_d66b2_level0_row3\" class=\"row_heading level0 row3\" >3</th>\n",
       "      <td id=\"T_d66b2_row3_col0\" class=\"data row3 col0\" ></td>\n",
       "      <td id=\"T_d66b2_row3_col1\" class=\"data row3 col1\" ></td>\n",
       "      <td id=\"T_d66b2_row3_col2\" class=\"data row3 col2\" ></td>\n",
       "      <td id=\"T_d66b2_row3_col3\" class=\"data row3 col3\" >100.80</td>\n",
       "      <td id=\"T_d66b2_row3_col4\" class=\"data row3 col4\" >101.42</td>\n",
       "      <td id=\"T_d66b2_row3_col5\" class=\"data row3 col5\" >99.12</td>\n",
       "      <td id=\"T_d66b2_row3_col6\" class=\"data row3 col6\" >100.00</td>\n",
       "      <td id=\"T_d66b2_row3_col7\" class=\"data row3 col7\" ></td>\n",
       "      <td id=\"T_d66b2_row3_col8\" class=\"data row3 col8\" ></td>\n",
       "      <td id=\"T_d66b2_row3_col9\" class=\"data row3 col9\" ></td>\n",
       "      <td id=\"T_d66b2_row3_col10\" class=\"data row3 col10\" ></td>\n",
       "      <td id=\"T_d66b2_row3_col11\" class=\"data row3 col11\" ></td>\n",
       "    </tr>\n",
       "    <tr>\n",
       "      <th id=\"T_d66b2_level0_row4\" class=\"row_heading level0 row4\" >4</th>\n",
       "      <td id=\"T_d66b2_row4_col0\" class=\"data row4 col0\" ></td>\n",
       "      <td id=\"T_d66b2_row4_col1\" class=\"data row4 col1\" ></td>\n",
       "      <td id=\"T_d66b2_row4_col2\" class=\"data row4 col2\" ></td>\n",
       "      <td id=\"T_d66b2_row4_col3\" class=\"data row4 col3\" ></td>\n",
       "      <td id=\"T_d66b2_row4_col4\" class=\"data row4 col4\" >101.89</td>\n",
       "      <td id=\"T_d66b2_row4_col5\" class=\"data row4 col5\" >99.38</td>\n",
       "      <td id=\"T_d66b2_row4_col6\" class=\"data row4 col6\" >100.00</td>\n",
       "      <td id=\"T_d66b2_row4_col7\" class=\"data row4 col7\" ></td>\n",
       "      <td id=\"T_d66b2_row4_col8\" class=\"data row4 col8\" ></td>\n",
       "      <td id=\"T_d66b2_row4_col9\" class=\"data row4 col9\" ></td>\n",
       "      <td id=\"T_d66b2_row4_col10\" class=\"data row4 col10\" ></td>\n",
       "      <td id=\"T_d66b2_row4_col11\" class=\"data row4 col11\" ></td>\n",
       "    </tr>\n",
       "    <tr>\n",
       "      <th id=\"T_d66b2_level0_row5\" class=\"row_heading level0 row5\" >5</th>\n",
       "      <td id=\"T_d66b2_row5_col0\" class=\"data row5 col0\" ></td>\n",
       "      <td id=\"T_d66b2_row5_col1\" class=\"data row5 col1\" ></td>\n",
       "      <td id=\"T_d66b2_row5_col2\" class=\"data row5 col2\" ></td>\n",
       "      <td id=\"T_d66b2_row5_col3\" class=\"data row5 col3\" ></td>\n",
       "      <td id=\"T_d66b2_row5_col4\" class=\"data row5 col4\" ></td>\n",
       "      <td id=\"T_d66b2_row5_col5\" class=\"data row5 col5\" >99.58</td>\n",
       "      <td id=\"T_d66b2_row5_col6\" class=\"data row5 col6\" >100.00</td>\n",
       "      <td id=\"T_d66b2_row5_col7\" class=\"data row5 col7\" ></td>\n",
       "      <td id=\"T_d66b2_row5_col8\" class=\"data row5 col8\" ></td>\n",
       "      <td id=\"T_d66b2_row5_col9\" class=\"data row5 col9\" ></td>\n",
       "      <td id=\"T_d66b2_row5_col10\" class=\"data row5 col10\" ></td>\n",
       "      <td id=\"T_d66b2_row5_col11\" class=\"data row5 col11\" ></td>\n",
       "    </tr>\n",
       "    <tr>\n",
       "      <th id=\"T_d66b2_level0_row6\" class=\"row_heading level0 row6\" >6</th>\n",
       "      <td id=\"T_d66b2_row6_col0\" class=\"data row6 col0\" ></td>\n",
       "      <td id=\"T_d66b2_row6_col1\" class=\"data row6 col1\" ></td>\n",
       "      <td id=\"T_d66b2_row6_col2\" class=\"data row6 col2\" ></td>\n",
       "      <td id=\"T_d66b2_row6_col3\" class=\"data row6 col3\" ></td>\n",
       "      <td id=\"T_d66b2_row6_col4\" class=\"data row6 col4\" ></td>\n",
       "      <td id=\"T_d66b2_row6_col5\" class=\"data row6 col5\" ></td>\n",
       "      <td id=\"T_d66b2_row6_col6\" class=\"data row6 col6\" >100.00</td>\n",
       "      <td id=\"T_d66b2_row6_col7\" class=\"data row6 col7\" ></td>\n",
       "      <td id=\"T_d66b2_row6_col8\" class=\"data row6 col8\" ></td>\n",
       "      <td id=\"T_d66b2_row6_col9\" class=\"data row6 col9\" ></td>\n",
       "      <td id=\"T_d66b2_row6_col10\" class=\"data row6 col10\" ></td>\n",
       "      <td id=\"T_d66b2_row6_col11\" class=\"data row6 col11\" ></td>\n",
       "    </tr>\n",
       "    <tr>\n",
       "      <th id=\"T_d66b2_level0_row7\" class=\"row_heading level0 row7\" >7</th>\n",
       "      <td id=\"T_d66b2_row7_col0\" class=\"data row7 col0\" ></td>\n",
       "      <td id=\"T_d66b2_row7_col1\" class=\"data row7 col1\" ></td>\n",
       "      <td id=\"T_d66b2_row7_col2\" class=\"data row7 col2\" ></td>\n",
       "      <td id=\"T_d66b2_row7_col3\" class=\"data row7 col3\" ></td>\n",
       "      <td id=\"T_d66b2_row7_col4\" class=\"data row7 col4\" ></td>\n",
       "      <td id=\"T_d66b2_row7_col5\" class=\"data row7 col5\" ></td>\n",
       "      <td id=\"T_d66b2_row7_col6\" class=\"data row7 col6\" ></td>\n",
       "      <td id=\"T_d66b2_row7_col7\" class=\"data row7 col7\" ></td>\n",
       "      <td id=\"T_d66b2_row7_col8\" class=\"data row7 col8\" ></td>\n",
       "      <td id=\"T_d66b2_row7_col9\" class=\"data row7 col9\" ></td>\n",
       "      <td id=\"T_d66b2_row7_col10\" class=\"data row7 col10\" ></td>\n",
       "      <td id=\"T_d66b2_row7_col11\" class=\"data row7 col11\" ></td>\n",
       "    </tr>\n",
       "    <tr>\n",
       "      <th id=\"T_d66b2_level0_row8\" class=\"row_heading level0 row8\" >8</th>\n",
       "      <td id=\"T_d66b2_row8_col0\" class=\"data row8 col0\" ></td>\n",
       "      <td id=\"T_d66b2_row8_col1\" class=\"data row8 col1\" ></td>\n",
       "      <td id=\"T_d66b2_row8_col2\" class=\"data row8 col2\" ></td>\n",
       "      <td id=\"T_d66b2_row8_col3\" class=\"data row8 col3\" ></td>\n",
       "      <td id=\"T_d66b2_row8_col4\" class=\"data row8 col4\" ></td>\n",
       "      <td id=\"T_d66b2_row8_col5\" class=\"data row8 col5\" ></td>\n",
       "      <td id=\"T_d66b2_row8_col6\" class=\"data row8 col6\" ></td>\n",
       "      <td id=\"T_d66b2_row8_col7\" class=\"data row8 col7\" ></td>\n",
       "      <td id=\"T_d66b2_row8_col8\" class=\"data row8 col8\" ></td>\n",
       "      <td id=\"T_d66b2_row8_col9\" class=\"data row8 col9\" ></td>\n",
       "      <td id=\"T_d66b2_row8_col10\" class=\"data row8 col10\" ></td>\n",
       "      <td id=\"T_d66b2_row8_col11\" class=\"data row8 col11\" ></td>\n",
       "    </tr>\n",
       "    <tr>\n",
       "      <th id=\"T_d66b2_level0_row9\" class=\"row_heading level0 row9\" >9</th>\n",
       "      <td id=\"T_d66b2_row9_col0\" class=\"data row9 col0\" ></td>\n",
       "      <td id=\"T_d66b2_row9_col1\" class=\"data row9 col1\" ></td>\n",
       "      <td id=\"T_d66b2_row9_col2\" class=\"data row9 col2\" ></td>\n",
       "      <td id=\"T_d66b2_row9_col3\" class=\"data row9 col3\" ></td>\n",
       "      <td id=\"T_d66b2_row9_col4\" class=\"data row9 col4\" ></td>\n",
       "      <td id=\"T_d66b2_row9_col5\" class=\"data row9 col5\" ></td>\n",
       "      <td id=\"T_d66b2_row9_col6\" class=\"data row9 col6\" ></td>\n",
       "      <td id=\"T_d66b2_row9_col7\" class=\"data row9 col7\" ></td>\n",
       "      <td id=\"T_d66b2_row9_col8\" class=\"data row9 col8\" ></td>\n",
       "      <td id=\"T_d66b2_row9_col9\" class=\"data row9 col9\" ></td>\n",
       "      <td id=\"T_d66b2_row9_col10\" class=\"data row9 col10\" ></td>\n",
       "      <td id=\"T_d66b2_row9_col11\" class=\"data row9 col11\" ></td>\n",
       "    </tr>\n",
       "    <tr>\n",
       "      <th id=\"T_d66b2_level0_row10\" class=\"row_heading level0 row10\" >10</th>\n",
       "      <td id=\"T_d66b2_row10_col0\" class=\"data row10 col0\" ></td>\n",
       "      <td id=\"T_d66b2_row10_col1\" class=\"data row10 col1\" ></td>\n",
       "      <td id=\"T_d66b2_row10_col2\" class=\"data row10 col2\" ></td>\n",
       "      <td id=\"T_d66b2_row10_col3\" class=\"data row10 col3\" ></td>\n",
       "      <td id=\"T_d66b2_row10_col4\" class=\"data row10 col4\" ></td>\n",
       "      <td id=\"T_d66b2_row10_col5\" class=\"data row10 col5\" ></td>\n",
       "      <td id=\"T_d66b2_row10_col6\" class=\"data row10 col6\" ></td>\n",
       "      <td id=\"T_d66b2_row10_col7\" class=\"data row10 col7\" ></td>\n",
       "      <td id=\"T_d66b2_row10_col8\" class=\"data row10 col8\" ></td>\n",
       "      <td id=\"T_d66b2_row10_col9\" class=\"data row10 col9\" ></td>\n",
       "      <td id=\"T_d66b2_row10_col10\" class=\"data row10 col10\" ></td>\n",
       "      <td id=\"T_d66b2_row10_col11\" class=\"data row10 col11\" ></td>\n",
       "    </tr>\n",
       "    <tr>\n",
       "      <th id=\"T_d66b2_level0_row11\" class=\"row_heading level0 row11\" >11</th>\n",
       "      <td id=\"T_d66b2_row11_col0\" class=\"data row11 col0\" ></td>\n",
       "      <td id=\"T_d66b2_row11_col1\" class=\"data row11 col1\" ></td>\n",
       "      <td id=\"T_d66b2_row11_col2\" class=\"data row11 col2\" ></td>\n",
       "      <td id=\"T_d66b2_row11_col3\" class=\"data row11 col3\" ></td>\n",
       "      <td id=\"T_d66b2_row11_col4\" class=\"data row11 col4\" ></td>\n",
       "      <td id=\"T_d66b2_row11_col5\" class=\"data row11 col5\" ></td>\n",
       "      <td id=\"T_d66b2_row11_col6\" class=\"data row11 col6\" ></td>\n",
       "      <td id=\"T_d66b2_row11_col7\" class=\"data row11 col7\" ></td>\n",
       "      <td id=\"T_d66b2_row11_col8\" class=\"data row11 col8\" ></td>\n",
       "      <td id=\"T_d66b2_row11_col9\" class=\"data row11 col9\" ></td>\n",
       "      <td id=\"T_d66b2_row11_col10\" class=\"data row11 col10\" ></td>\n",
       "      <td id=\"T_d66b2_row11_col11\" class=\"data row11 col11\" ></td>\n",
       "    </tr>\n",
       "  </tbody>\n",
       "</table>\n"
      ],
      "text/plain": [
       "<pandas.io.formats.style.Styler at 0x157e72400>"
      ]
     },
     "execution_count": 23,
     "metadata": {},
     "output_type": "execute_result"
    }
   ],
   "source": [
    "callabletree_clean = cleantree - calltree\n",
    "callabletree_dirty = bondtree - calltree\n",
    "\n",
    "format_bintree(callabletree_clean)"
   ]
  },
  {
   "cell_type": "code",
   "execution_count": 24,
   "id": "aea34d6a",
   "metadata": {},
   "outputs": [
    {
     "data": {
      "text/html": [
       "<style type=\"text/css\">\n",
       "</style>\n",
       "<table id=\"T_22586\">\n",
       "  <thead>\n",
       "    <tr>\n",
       "      <th class=\"index_name level0\" >time</th>\n",
       "      <th id=\"T_22586_level0_col0\" class=\"col_heading level0 col0\" >0.00</th>\n",
       "      <th id=\"T_22586_level0_col1\" class=\"col_heading level0 col1\" >0.25</th>\n",
       "      <th id=\"T_22586_level0_col2\" class=\"col_heading level0 col2\" >0.50</th>\n",
       "      <th id=\"T_22586_level0_col3\" class=\"col_heading level0 col3\" >0.75</th>\n",
       "      <th id=\"T_22586_level0_col4\" class=\"col_heading level0 col4\" >1.00</th>\n",
       "      <th id=\"T_22586_level0_col5\" class=\"col_heading level0 col5\" >1.25</th>\n",
       "      <th id=\"T_22586_level0_col6\" class=\"col_heading level0 col6\" >1.50</th>\n",
       "      <th id=\"T_22586_level0_col7\" class=\"col_heading level0 col7\" >1.75</th>\n",
       "      <th id=\"T_22586_level0_col8\" class=\"col_heading level0 col8\" >2.00</th>\n",
       "      <th id=\"T_22586_level0_col9\" class=\"col_heading level0 col9\" >2.25</th>\n",
       "      <th id=\"T_22586_level0_col10\" class=\"col_heading level0 col10\" >2.50</th>\n",
       "      <th id=\"T_22586_level0_col11\" class=\"col_heading level0 col11\" >2.75</th>\n",
       "    </tr>\n",
       "    <tr>\n",
       "      <th class=\"index_name level0\" >state</th>\n",
       "      <th class=\"blank col0\" >&nbsp;</th>\n",
       "      <th class=\"blank col1\" >&nbsp;</th>\n",
       "      <th class=\"blank col2\" >&nbsp;</th>\n",
       "      <th class=\"blank col3\" >&nbsp;</th>\n",
       "      <th class=\"blank col4\" >&nbsp;</th>\n",
       "      <th class=\"blank col5\" >&nbsp;</th>\n",
       "      <th class=\"blank col6\" >&nbsp;</th>\n",
       "      <th class=\"blank col7\" >&nbsp;</th>\n",
       "      <th class=\"blank col8\" >&nbsp;</th>\n",
       "      <th class=\"blank col9\" >&nbsp;</th>\n",
       "      <th class=\"blank col10\" >&nbsp;</th>\n",
       "      <th class=\"blank col11\" >&nbsp;</th>\n",
       "    </tr>\n",
       "  </thead>\n",
       "  <tbody>\n",
       "    <tr>\n",
       "      <th id=\"T_22586_level0_row0\" class=\"row_heading level0 row0\" >0</th>\n",
       "      <td id=\"T_22586_row0_col0\" class=\"data row0 col0\" >101.97</td>\n",
       "      <td id=\"T_22586_row0_col1\" class=\"data row0 col1\" >101.28</td>\n",
       "      <td id=\"T_22586_row0_col2\" class=\"data row0 col2\" >100.71</td>\n",
       "      <td id=\"T_22586_row0_col3\" class=\"data row0 col3\" >100.20</td>\n",
       "      <td id=\"T_22586_row0_col4\" class=\"data row0 col4\" >99.71</td>\n",
       "      <td id=\"T_22586_row0_col5\" class=\"data row0 col5\" >99.04</td>\n",
       "      <td id=\"T_22586_row0_col6\" class=\"data row0 col6\" >98.10</td>\n",
       "      <td id=\"T_22586_row0_col7\" class=\"data row0 col7\" ></td>\n",
       "      <td id=\"T_22586_row0_col8\" class=\"data row0 col8\" ></td>\n",
       "      <td id=\"T_22586_row0_col9\" class=\"data row0 col9\" ></td>\n",
       "      <td id=\"T_22586_row0_col10\" class=\"data row0 col10\" ></td>\n",
       "      <td id=\"T_22586_row0_col11\" class=\"data row0 col11\" ></td>\n",
       "    </tr>\n",
       "    <tr>\n",
       "      <th id=\"T_22586_level0_row1\" class=\"row_heading level0 row1\" >1</th>\n",
       "      <td id=\"T_22586_row1_col0\" class=\"data row1 col0\" ></td>\n",
       "      <td id=\"T_22586_row1_col1\" class=\"data row1 col1\" >102.31</td>\n",
       "      <td id=\"T_22586_row1_col2\" class=\"data row1 col2\" >101.60</td>\n",
       "      <td id=\"T_22586_row1_col3\" class=\"data row1 col3\" >101.02</td>\n",
       "      <td id=\"T_22586_row1_col4\" class=\"data row1 col4\" >100.57</td>\n",
       "      <td id=\"T_22586_row1_col5\" class=\"data row1 col5\" >100.17</td>\n",
       "      <td id=\"T_22586_row1_col6\" class=\"data row1 col6\" >99.95</td>\n",
       "      <td id=\"T_22586_row1_col7\" class=\"data row1 col7\" ></td>\n",
       "      <td id=\"T_22586_row1_col8\" class=\"data row1 col8\" ></td>\n",
       "      <td id=\"T_22586_row1_col9\" class=\"data row1 col9\" ></td>\n",
       "      <td id=\"T_22586_row1_col10\" class=\"data row1 col10\" ></td>\n",
       "      <td id=\"T_22586_row1_col11\" class=\"data row1 col11\" ></td>\n",
       "    </tr>\n",
       "    <tr>\n",
       "      <th id=\"T_22586_level0_row2\" class=\"row_heading level0 row2\" >2</th>\n",
       "      <td id=\"T_22586_row2_col0\" class=\"data row2 col0\" ></td>\n",
       "      <td id=\"T_22586_row2_col1\" class=\"data row2 col1\" ></td>\n",
       "      <td id=\"T_22586_row2_col2\" class=\"data row2 col2\" >102.44</td>\n",
       "      <td id=\"T_22586_row2_col3\" class=\"data row2 col3\" >101.65</td>\n",
       "      <td id=\"T_22586_row2_col4\" class=\"data row2 col4\" >100.99</td>\n",
       "      <td id=\"T_22586_row2_col5\" class=\"data row2 col5\" >100.41</td>\n",
       "      <td id=\"T_22586_row2_col6\" class=\"data row2 col6\" >100.00</td>\n",
       "      <td id=\"T_22586_row2_col7\" class=\"data row2 col7\" ></td>\n",
       "      <td id=\"T_22586_row2_col8\" class=\"data row2 col8\" ></td>\n",
       "      <td id=\"T_22586_row2_col9\" class=\"data row2 col9\" ></td>\n",
       "      <td id=\"T_22586_row2_col10\" class=\"data row2 col10\" ></td>\n",
       "      <td id=\"T_22586_row2_col11\" class=\"data row2 col11\" ></td>\n",
       "    </tr>\n",
       "    <tr>\n",
       "      <th id=\"T_22586_level0_row3\" class=\"row_heading level0 row3\" >3</th>\n",
       "      <td id=\"T_22586_row3_col0\" class=\"data row3 col0\" ></td>\n",
       "      <td id=\"T_22586_row3_col1\" class=\"data row3 col1\" ></td>\n",
       "      <td id=\"T_22586_row3_col2\" class=\"data row3 col2\" ></td>\n",
       "      <td id=\"T_22586_row3_col3\" class=\"data row3 col3\" >102.30</td>\n",
       "      <td id=\"T_22586_row3_col4\" class=\"data row3 col4\" >101.42</td>\n",
       "      <td id=\"T_22586_row3_col5\" class=\"data row3 col5\" >100.62</td>\n",
       "      <td id=\"T_22586_row3_col6\" class=\"data row3 col6\" >100.00</td>\n",
       "      <td id=\"T_22586_row3_col7\" class=\"data row3 col7\" ></td>\n",
       "      <td id=\"T_22586_row3_col8\" class=\"data row3 col8\" ></td>\n",
       "      <td id=\"T_22586_row3_col9\" class=\"data row3 col9\" ></td>\n",
       "      <td id=\"T_22586_row3_col10\" class=\"data row3 col10\" ></td>\n",
       "      <td id=\"T_22586_row3_col11\" class=\"data row3 col11\" ></td>\n",
       "    </tr>\n",
       "    <tr>\n",
       "      <th id=\"T_22586_level0_row4\" class=\"row_heading level0 row4\" >4</th>\n",
       "      <td id=\"T_22586_row4_col0\" class=\"data row4 col0\" ></td>\n",
       "      <td id=\"T_22586_row4_col1\" class=\"data row4 col1\" ></td>\n",
       "      <td id=\"T_22586_row4_col2\" class=\"data row4 col2\" ></td>\n",
       "      <td id=\"T_22586_row4_col3\" class=\"data row4 col3\" ></td>\n",
       "      <td id=\"T_22586_row4_col4\" class=\"data row4 col4\" >101.89</td>\n",
       "      <td id=\"T_22586_row4_col5\" class=\"data row4 col5\" >100.88</td>\n",
       "      <td id=\"T_22586_row4_col6\" class=\"data row4 col6\" >100.00</td>\n",
       "      <td id=\"T_22586_row4_col7\" class=\"data row4 col7\" ></td>\n",
       "      <td id=\"T_22586_row4_col8\" class=\"data row4 col8\" ></td>\n",
       "      <td id=\"T_22586_row4_col9\" class=\"data row4 col9\" ></td>\n",
       "      <td id=\"T_22586_row4_col10\" class=\"data row4 col10\" ></td>\n",
       "      <td id=\"T_22586_row4_col11\" class=\"data row4 col11\" ></td>\n",
       "    </tr>\n",
       "    <tr>\n",
       "      <th id=\"T_22586_level0_row5\" class=\"row_heading level0 row5\" >5</th>\n",
       "      <td id=\"T_22586_row5_col0\" class=\"data row5 col0\" ></td>\n",
       "      <td id=\"T_22586_row5_col1\" class=\"data row5 col1\" ></td>\n",
       "      <td id=\"T_22586_row5_col2\" class=\"data row5 col2\" ></td>\n",
       "      <td id=\"T_22586_row5_col3\" class=\"data row5 col3\" ></td>\n",
       "      <td id=\"T_22586_row5_col4\" class=\"data row5 col4\" ></td>\n",
       "      <td id=\"T_22586_row5_col5\" class=\"data row5 col5\" >101.08</td>\n",
       "      <td id=\"T_22586_row5_col6\" class=\"data row5 col6\" >100.00</td>\n",
       "      <td id=\"T_22586_row5_col7\" class=\"data row5 col7\" ></td>\n",
       "      <td id=\"T_22586_row5_col8\" class=\"data row5 col8\" ></td>\n",
       "      <td id=\"T_22586_row5_col9\" class=\"data row5 col9\" ></td>\n",
       "      <td id=\"T_22586_row5_col10\" class=\"data row5 col10\" ></td>\n",
       "      <td id=\"T_22586_row5_col11\" class=\"data row5 col11\" ></td>\n",
       "    </tr>\n",
       "    <tr>\n",
       "      <th id=\"T_22586_level0_row6\" class=\"row_heading level0 row6\" >6</th>\n",
       "      <td id=\"T_22586_row6_col0\" class=\"data row6 col0\" ></td>\n",
       "      <td id=\"T_22586_row6_col1\" class=\"data row6 col1\" ></td>\n",
       "      <td id=\"T_22586_row6_col2\" class=\"data row6 col2\" ></td>\n",
       "      <td id=\"T_22586_row6_col3\" class=\"data row6 col3\" ></td>\n",
       "      <td id=\"T_22586_row6_col4\" class=\"data row6 col4\" ></td>\n",
       "      <td id=\"T_22586_row6_col5\" class=\"data row6 col5\" ></td>\n",
       "      <td id=\"T_22586_row6_col6\" class=\"data row6 col6\" >100.00</td>\n",
       "      <td id=\"T_22586_row6_col7\" class=\"data row6 col7\" ></td>\n",
       "      <td id=\"T_22586_row6_col8\" class=\"data row6 col8\" ></td>\n",
       "      <td id=\"T_22586_row6_col9\" class=\"data row6 col9\" ></td>\n",
       "      <td id=\"T_22586_row6_col10\" class=\"data row6 col10\" ></td>\n",
       "      <td id=\"T_22586_row6_col11\" class=\"data row6 col11\" ></td>\n",
       "    </tr>\n",
       "    <tr>\n",
       "      <th id=\"T_22586_level0_row7\" class=\"row_heading level0 row7\" >7</th>\n",
       "      <td id=\"T_22586_row7_col0\" class=\"data row7 col0\" ></td>\n",
       "      <td id=\"T_22586_row7_col1\" class=\"data row7 col1\" ></td>\n",
       "      <td id=\"T_22586_row7_col2\" class=\"data row7 col2\" ></td>\n",
       "      <td id=\"T_22586_row7_col3\" class=\"data row7 col3\" ></td>\n",
       "      <td id=\"T_22586_row7_col4\" class=\"data row7 col4\" ></td>\n",
       "      <td id=\"T_22586_row7_col5\" class=\"data row7 col5\" ></td>\n",
       "      <td id=\"T_22586_row7_col6\" class=\"data row7 col6\" ></td>\n",
       "      <td id=\"T_22586_row7_col7\" class=\"data row7 col7\" ></td>\n",
       "      <td id=\"T_22586_row7_col8\" class=\"data row7 col8\" ></td>\n",
       "      <td id=\"T_22586_row7_col9\" class=\"data row7 col9\" ></td>\n",
       "      <td id=\"T_22586_row7_col10\" class=\"data row7 col10\" ></td>\n",
       "      <td id=\"T_22586_row7_col11\" class=\"data row7 col11\" ></td>\n",
       "    </tr>\n",
       "    <tr>\n",
       "      <th id=\"T_22586_level0_row8\" class=\"row_heading level0 row8\" >8</th>\n",
       "      <td id=\"T_22586_row8_col0\" class=\"data row8 col0\" ></td>\n",
       "      <td id=\"T_22586_row8_col1\" class=\"data row8 col1\" ></td>\n",
       "      <td id=\"T_22586_row8_col2\" class=\"data row8 col2\" ></td>\n",
       "      <td id=\"T_22586_row8_col3\" class=\"data row8 col3\" ></td>\n",
       "      <td id=\"T_22586_row8_col4\" class=\"data row8 col4\" ></td>\n",
       "      <td id=\"T_22586_row8_col5\" class=\"data row8 col5\" ></td>\n",
       "      <td id=\"T_22586_row8_col6\" class=\"data row8 col6\" ></td>\n",
       "      <td id=\"T_22586_row8_col7\" class=\"data row8 col7\" ></td>\n",
       "      <td id=\"T_22586_row8_col8\" class=\"data row8 col8\" ></td>\n",
       "      <td id=\"T_22586_row8_col9\" class=\"data row8 col9\" ></td>\n",
       "      <td id=\"T_22586_row8_col10\" class=\"data row8 col10\" ></td>\n",
       "      <td id=\"T_22586_row8_col11\" class=\"data row8 col11\" ></td>\n",
       "    </tr>\n",
       "    <tr>\n",
       "      <th id=\"T_22586_level0_row9\" class=\"row_heading level0 row9\" >9</th>\n",
       "      <td id=\"T_22586_row9_col0\" class=\"data row9 col0\" ></td>\n",
       "      <td id=\"T_22586_row9_col1\" class=\"data row9 col1\" ></td>\n",
       "      <td id=\"T_22586_row9_col2\" class=\"data row9 col2\" ></td>\n",
       "      <td id=\"T_22586_row9_col3\" class=\"data row9 col3\" ></td>\n",
       "      <td id=\"T_22586_row9_col4\" class=\"data row9 col4\" ></td>\n",
       "      <td id=\"T_22586_row9_col5\" class=\"data row9 col5\" ></td>\n",
       "      <td id=\"T_22586_row9_col6\" class=\"data row9 col6\" ></td>\n",
       "      <td id=\"T_22586_row9_col7\" class=\"data row9 col7\" ></td>\n",
       "      <td id=\"T_22586_row9_col8\" class=\"data row9 col8\" ></td>\n",
       "      <td id=\"T_22586_row9_col9\" class=\"data row9 col9\" ></td>\n",
       "      <td id=\"T_22586_row9_col10\" class=\"data row9 col10\" ></td>\n",
       "      <td id=\"T_22586_row9_col11\" class=\"data row9 col11\" ></td>\n",
       "    </tr>\n",
       "    <tr>\n",
       "      <th id=\"T_22586_level0_row10\" class=\"row_heading level0 row10\" >10</th>\n",
       "      <td id=\"T_22586_row10_col0\" class=\"data row10 col0\" ></td>\n",
       "      <td id=\"T_22586_row10_col1\" class=\"data row10 col1\" ></td>\n",
       "      <td id=\"T_22586_row10_col2\" class=\"data row10 col2\" ></td>\n",
       "      <td id=\"T_22586_row10_col3\" class=\"data row10 col3\" ></td>\n",
       "      <td id=\"T_22586_row10_col4\" class=\"data row10 col4\" ></td>\n",
       "      <td id=\"T_22586_row10_col5\" class=\"data row10 col5\" ></td>\n",
       "      <td id=\"T_22586_row10_col6\" class=\"data row10 col6\" ></td>\n",
       "      <td id=\"T_22586_row10_col7\" class=\"data row10 col7\" ></td>\n",
       "      <td id=\"T_22586_row10_col8\" class=\"data row10 col8\" ></td>\n",
       "      <td id=\"T_22586_row10_col9\" class=\"data row10 col9\" ></td>\n",
       "      <td id=\"T_22586_row10_col10\" class=\"data row10 col10\" ></td>\n",
       "      <td id=\"T_22586_row10_col11\" class=\"data row10 col11\" ></td>\n",
       "    </tr>\n",
       "    <tr>\n",
       "      <th id=\"T_22586_level0_row11\" class=\"row_heading level0 row11\" >11</th>\n",
       "      <td id=\"T_22586_row11_col0\" class=\"data row11 col0\" ></td>\n",
       "      <td id=\"T_22586_row11_col1\" class=\"data row11 col1\" ></td>\n",
       "      <td id=\"T_22586_row11_col2\" class=\"data row11 col2\" ></td>\n",
       "      <td id=\"T_22586_row11_col3\" class=\"data row11 col3\" ></td>\n",
       "      <td id=\"T_22586_row11_col4\" class=\"data row11 col4\" ></td>\n",
       "      <td id=\"T_22586_row11_col5\" class=\"data row11 col5\" ></td>\n",
       "      <td id=\"T_22586_row11_col6\" class=\"data row11 col6\" ></td>\n",
       "      <td id=\"T_22586_row11_col7\" class=\"data row11 col7\" ></td>\n",
       "      <td id=\"T_22586_row11_col8\" class=\"data row11 col8\" ></td>\n",
       "      <td id=\"T_22586_row11_col9\" class=\"data row11 col9\" ></td>\n",
       "      <td id=\"T_22586_row11_col10\" class=\"data row11 col10\" ></td>\n",
       "      <td id=\"T_22586_row11_col11\" class=\"data row11 col11\" ></td>\n",
       "    </tr>\n",
       "  </tbody>\n",
       "</table>\n"
      ],
      "text/plain": [
       "<pandas.io.formats.style.Styler at 0x157e66f40>"
      ]
     },
     "execution_count": 24,
     "metadata": {},
     "output_type": "execute_result"
    }
   ],
   "source": [
    "format_bintree(callabletree_dirty)"
   ]
  },
  {
   "cell_type": "markdown",
   "id": "59c9468b",
   "metadata": {},
   "source": [
    "## **<span style=\"color:red\">3.4 </span>**"
   ]
  },
  {
   "cell_type": "markdown",
   "id": "9a4f5b41",
   "metadata": {},
   "source": [
    "There are multiple potential causes to the underpricing of callable Freddie Mac bonds via our models.\n",
    "\n",
    "But we focused most on the idea that those bonds were **american** style, and our model assumed optimal exercise.\n",
    "\n",
    "In reality, research shows the issuer (Freddie Mac) does not exercise optimally, which means the embedded short call option is not as costly to investors as it would seem to be, leaving the market price higher.\n",
    "\n",
    "Given that this is **european**, the exercise decision is less complicated. Thus, we might expect less of an increase in market value due to the issuer's suboptimal exercise, meaning we'd expect the negative OAS to be moderated."
   ]
  },
  {
   "cell_type": "markdown",
   "id": "dc1cba50",
   "metadata": {},
   "source": [
    "## **<span style=\"color:red\">3.5 </span>**"
   ]
  },
  {
   "cell_type": "markdown",
   "id": "ea59c35e",
   "metadata": {},
   "source": [
    "Yes, this bond prices over 100 in most nodes, including the present value.\n",
    "\n",
    "The Freddie Mac bond was American, so any excess value could be taken by the issuer via calling the bond. Here, any excess value up until the option expiration accrues to the investor, (via the larger-than-market-value coupons.)"
   ]
  },
  {
   "cell_type": "markdown",
   "id": "e93f61cf",
   "metadata": {},
   "source": [
    "## **<span style=\"color:red\">3.6 </span>**"
   ]
  },
  {
   "cell_type": "markdown",
   "id": "b189960b",
   "metadata": {},
   "source": [
    "For the price of the vanilla bond, just use the present-value formula. "
   ]
  },
  {
   "cell_type": "code",
   "execution_count": 25,
   "id": "d82b4e43",
   "metadata": {},
   "outputs": [
    {
     "data": {
      "text/html": [
       "<style type=\"text/css\">\n",
       "</style>\n",
       "<table id=\"T_0e42c\">\n",
       "  <thead>\n",
       "    <tr>\n",
       "      <th class=\"blank level0\" >&nbsp;</th>\n",
       "      <th id=\"T_0e42c_level0_col0\" class=\"col_heading level0 col0\" >clean price</th>\n",
       "    </tr>\n",
       "  </thead>\n",
       "  <tbody>\n",
       "    <tr>\n",
       "      <th id=\"T_0e42c_level0_row0\" class=\"row_heading level0 row0\" >bond formula</th>\n",
       "      <td id=\"T_0e42c_row0_col0\" class=\"data row0 col0\" >$105.39</td>\n",
       "    </tr>\n",
       "    <tr>\n",
       "      <th id=\"T_0e42c_level0_row1\" class=\"row_heading level0 row1\" >tree</th>\n",
       "      <td id=\"T_0e42c_row1_col0\" class=\"data row1 col0\" >$105.31</td>\n",
       "    </tr>\n",
       "  </tbody>\n",
       "</table>\n"
      ],
      "text/plain": [
       "<pandas.io.formats.style.Styler at 0x157e958e0>"
      ]
     },
     "execution_count": 25,
     "metadata": {},
     "output_type": "execute_result"
    }
   ],
   "source": [
    "from bondmath import bond_pricer_formula\n",
    "px_vanilla = bond_pricer_formula(T,curves.loc[T,'spot rates'],cpn=cpn,freq=cpn_freq)\n",
    "\n",
    "pd.DataFrame([px_vanilla,cleantree.iloc[0,0]],index=['bond formula','tree'],columns=['clean price']).style.format('${:.2f}')"
   ]
  },
  {
   "cell_type": "markdown",
   "id": "eaf733ab",
   "metadata": {},
   "source": [
    "### Complication: Forward Price of Bond\n",
    "For Black's formula, we need the *forward* bond price. \n",
    "\n",
    "From FINM 37400, this is straightforward to calculate, though it requires a few assumptions. \n",
    "\n",
    "#### Details\n",
    "To get the forward price, we assume\n",
    "* the market price of treasuries matches the price we model with the closed-form solution for vanilla bonds (rather than the tree).\n",
    "* the bond with maturity at the option term has a coupon rate equal to that of the bond in which we are interested.\n",
    "\n",
    "Procedure:\n",
    "* calculate the formulaic (assumed market) price of bonds with maturities at the option term and the vanilla bond term.\n",
    "* calculate them as both having the same coupon\n",
    "* via shorting the bond with maturity equal to the option, we can mimic a forward contract on the bond\n",
    "* this requires the forward ratio to establish the long-short position.\n",
    "* we are designing it such that the coupons offset, so the forward price is just the ratio of these prices.\n",
    "\n",
    "$$P_{\\text{forward}}(T_\\text{option}\\to T) = 100\\frac{P(T)}{P(T_\\text{option})}$$\n",
    "\n",
    "where $P(\\tau)$ denotes the price of a bond with maturity at $\\tau$."
   ]
  },
  {
   "cell_type": "code",
   "execution_count": 26,
   "id": "b5026947",
   "metadata": {},
   "outputs": [
    {
     "data": {
      "text/html": [
       "<style type=\"text/css\">\n",
       "</style>\n",
       "<table id=\"T_7f86d\">\n",
       "  <thead>\n",
       "    <tr>\n",
       "      <th class=\"blank level0\" >&nbsp;</th>\n",
       "      <th id=\"T_7f86d_level0_col0\" class=\"col_heading level0 col0\" >price</th>\n",
       "    </tr>\n",
       "  </thead>\n",
       "  <tbody>\n",
       "    <tr>\n",
       "      <th id=\"T_7f86d_level0_row0\" class=\"row_heading level0 row0\" >maturity 3.0</th>\n",
       "      <td id=\"T_7f86d_row0_col0\" class=\"data row0 col0\" >$105.39</td>\n",
       "    </tr>\n",
       "    <tr>\n",
       "      <th id=\"T_7f86d_level0_row1\" class=\"row_heading level0 row1\" >maturity 1.5</th>\n",
       "      <td id=\"T_7f86d_row1_col0\" class=\"data row1 col0\" >$102.02</td>\n",
       "    </tr>\n",
       "    <tr>\n",
       "      <th id=\"T_7f86d_level0_row2\" class=\"row_heading level0 row2\" >forward from 1.5 to 3.0</th>\n",
       "      <td id=\"T_7f86d_row2_col0\" class=\"data row2 col0\" >$103.31</td>\n",
       "    </tr>\n",
       "  </tbody>\n",
       "</table>\n"
      ],
      "text/plain": [
       "<pandas.io.formats.style.Styler at 0x157e98370>"
      ]
     },
     "execution_count": 26,
     "metadata": {},
     "output_type": "execute_result"
    }
   ],
   "source": [
    "px_vanilla_Topt = bond_pricer_formula(Topt,curves.loc[Topt,'spot rates'],cpn=cpn,freq=cpn_freq)\n",
    "px_fwd = FACE * px_vanilla / px_vanilla_Topt\n",
    "\n",
    "pd.DataFrame([px_vanilla,px_vanilla_Topt,px_fwd],index=[f'maturity {T:.1f}',f'maturity {Topt:.1f}',f'forward from {Topt:.1f} to {T:.1f}'],columns=['price']).style.format('${:.2f}')"
   ]
  },
  {
   "cell_type": "markdown",
   "id": "bb1190b0",
   "metadata": {},
   "source": [
    "### Complication: Bond volatility\n",
    "\n",
    "The problem already simplified by having you use the flat volatility.\n",
    "\n",
    "However, this is the volatility of interest rates, not bond prices.\n",
    "\n",
    "From FINM 37400, we know that up to a linear approximation, the vol of rates will scale to the vol of bonds via the duration of the bond.\n",
    "\n",
    "Thus, we can approximate...\n",
    "\n",
    "$$\\sigma_{\\text{bond}} \\approx D \\times \\sigma_{\\text{rate}}\\times r$$\n",
    "\n",
    "where again, we're abstracting from forward vol and forward price vol."
   ]
  },
  {
   "cell_type": "code",
   "execution_count": 27,
   "id": "b754f31f",
   "metadata": {},
   "outputs": [
    {
     "data": {
      "text/html": [
       "<style type=\"text/css\">\n",
       "</style>\n",
       "<table id=\"T_d9f31\">\n",
       "  <thead>\n",
       "    <tr>\n",
       "      <th class=\"blank level0\" >&nbsp;</th>\n",
       "      <th id=\"T_d9f31_level0_col0\" class=\"col_heading level0 col0\" >estimates</th>\n",
       "    </tr>\n",
       "  </thead>\n",
       "  <tbody>\n",
       "    <tr>\n",
       "      <th id=\"T_d9f31_level0_row0\" class=\"row_heading level0 row0\" >rate vol (flat)</th>\n",
       "      <td id=\"T_d9f31_row0_col0\" class=\"data row0 col0\" >27.29%</td>\n",
       "    </tr>\n",
       "    <tr>\n",
       "      <th id=\"T_d9f31_level0_row1\" class=\"row_heading level0 row1\" >bond duration</th>\n",
       "      <td id=\"T_d9f31_row1_col0\" class=\"data row1 col0\" >277.52%</td>\n",
       "    </tr>\n",
       "    <tr>\n",
       "      <th id=\"T_d9f31_level0_row2\" class=\"row_heading level0 row2\" >bond vol</th>\n",
       "      <td id=\"T_d9f31_row2_col0\" class=\"data row2 col0\" >2.68%</td>\n",
       "    </tr>\n",
       "  </tbody>\n",
       "</table>\n"
      ],
      "text/plain": [
       "<pandas.io.formats.style.Styler at 0x157e853d0>"
      ]
     },
     "execution_count": 27,
     "metadata": {},
     "output_type": "execute_result"
    }
   ],
   "source": [
    "from bondmath import duration_closed_formula\n",
    "\n",
    "duration = duration_closed_formula(T,curves.loc[T,'spot rates'],cpn,freq=cpn_freq)\n",
    "vol_bond = duration * curves.loc[Topt,'flat vols'] * curves.loc[T,'forwards']\n",
    "\n",
    "pd.DataFrame([curves.loc[Topt,'flat vols'], duration, vol_bond],index=['rate vol (flat)','bond duration','bond vol'],columns=['estimates']).style.format('{:.2%}')"
   ]
  },
  {
   "cell_type": "markdown",
   "id": "2c73c517",
   "metadata": {},
   "source": [
    "#### Putting it together"
   ]
  },
  {
   "cell_type": "code",
   "execution_count": 28,
   "id": "eb80bb94",
   "metadata": {},
   "outputs": [
    {
     "data": {
      "text/html": [
       "<style type=\"text/css\">\n",
       "</style>\n",
       "<table id=\"T_681e7\">\n",
       "  <thead>\n",
       "    <tr>\n",
       "      <th class=\"blank level0\" >&nbsp;</th>\n",
       "      <th id=\"T_681e7_level0_col0\" class=\"col_heading level0 col0\" >formulaic prices</th>\n",
       "      <th id=\"T_681e7_level0_col1\" class=\"col_heading level0 col1\" >tree</th>\n",
       "    </tr>\n",
       "  </thead>\n",
       "  <tbody>\n",
       "    <tr>\n",
       "      <th id=\"T_681e7_level0_row0\" class=\"row_heading level0 row0\" >vanilla bond</th>\n",
       "      <td id=\"T_681e7_row0_col0\" class=\"data row0 col0\" >105.39</td>\n",
       "      <td id=\"T_681e7_row0_col1\" class=\"data row0 col1\" >105.31</td>\n",
       "    </tr>\n",
       "    <tr>\n",
       "      <th id=\"T_681e7_level0_row1\" class=\"row_heading level0 row1\" >call option</th>\n",
       "      <td id=\"T_681e7_row1_col0\" class=\"data row1 col0\" >3.35</td>\n",
       "      <td id=\"T_681e7_row1_col1\" class=\"data row1 col1\" >3.34</td>\n",
       "    </tr>\n",
       "    <tr>\n",
       "      <th id=\"T_681e7_level0_row2\" class=\"row_heading level0 row2\" >callable bond</th>\n",
       "      <td id=\"T_681e7_row2_col0\" class=\"data row2 col0\" >102.04</td>\n",
       "      <td id=\"T_681e7_row2_col1\" class=\"data row2 col1\" >101.97</td>\n",
       "    </tr>\n",
       "  </tbody>\n",
       "</table>\n"
      ],
      "text/plain": [
       "<pandas.io.formats.style.Styler at 0x124fe2dc0>"
      ]
     },
     "execution_count": 28,
     "metadata": {},
     "output_type": "execute_result"
    }
   ],
   "source": [
    "px_calloption = blacks_formula(Topt,vol_bond,STRIKE,px_fwd,discount=curves.loc[Topt,'discounts'])\n",
    "px_callable_bond = px_vanilla - px_calloption\n",
    "\n",
    "tab = pd.DataFrame([px_vanilla,px_calloption,px_callable_bond],index=['vanilla bond','call option','callable bond'],columns=['formulaic prices'])\n",
    "tab['tree'] = [bondtree.iloc[0,0], calltree.iloc[0,0],callabletree_dirty.iloc[0,0]]\n",
    "tab.style.format('{:.2f}')"
   ]
  },
  {
   "cell_type": "markdown",
   "id": "d1d1f562",
   "metadata": {},
   "source": [
    "## **<span style=\"color:red\">3.7 </span>**"
   ]
  },
  {
   "cell_type": "markdown",
   "id": "eed7b43f",
   "metadata": {},
   "source": [
    "We prefer that Black's formula models the forward price, as we know the bond's spot price can't follow the geometric brownian motion of Black-Scholes. (As discussed in Week 1, bond prices have autocorrelation and other issues.)\n",
    "\n",
    "More obviously, we prefer that Black's formula allows for time-varying interest rates."
   ]
  },
  {
   "cell_type": "markdown",
   "id": "d0b04bb3",
   "metadata": {},
   "source": [
    "## **<span style=\"color:red\">3.8 </span>**"
   ]
  },
  {
   "cell_type": "markdown",
   "id": "c05e5309",
   "metadata": {},
   "source": [
    "Given the assumptions above, using Black's formula requires that as inputs we use...\n",
    "\n",
    "* the forward, not the spot. (In this example forward price, but could be a forward rate for a swaption.)\n",
    "* the discount factor, not $e^{-rT_{\\text{opt}}}$"
   ]
  },
  {
   "cell_type": "markdown",
   "id": "cdb09762",
   "metadata": {},
   "source": [
    "## **<span style=\"color:red\">3.9 </span>**"
   ]
  },
  {
   "cell_type": "markdown",
   "id": "4bf06328",
   "metadata": {},
   "source": [
    "There are a few ways to construct this.\n",
    "\n",
    "* receiver swaption or long a floor are the obvious approaches.\n",
    "\n",
    "1. 1.5y $\\rightarrow$ 1.5y receiver-swaption, with strike of 6%\n",
    "    * If bond is called, you use the money received for the bond (the strike) to invest in a new par bond, which will pay a coupon at the prevailing interest rate. Simultaneously exercise the swaption to swap a floating rate (hopefully close to your new bond's coupon) and instead receive the 6% that you were originally getting.\n",
    "    * Benefit here is that you retain the 6% rate, and you don't pay for more optionality than is needed. You are subject to a single call date, and you have a single option to offset that.\n",
    "    * Only problem is that the floating rate paid in the swaption may not equal the coupon being received on the new bond.\n",
    "\n",
    "2. Buying a floor\n",
    "    * Similar to above, but you have optionality at each payment date, which is more optionality than you need given that the bond will or will not be called at one particular date. \n",
    "    * Thus, may be paying for more optionality than is needed.\n",
    "\n",
    "3. Buying a cap or selling a floor\n",
    "    * This wouldn't make sense, as it wouldn't offset the option exposure which you are short."
   ]
  },
  {
   "cell_type": "markdown",
   "id": "db984b2a",
   "metadata": {},
   "source": [
    "## **<span style=\"color:red\">3.10 </span>**"
   ]
  },
  {
   "cell_type": "markdown",
   "id": "0ec4dad1",
   "metadata": {},
   "source": [
    "1. Make the answer above an American swaption. But these are not typical.\n",
    "\n",
    "2. With the bond being an American callable bond, now it is useful to have the additional opitonality in buying the floor described above. Still not a great match in that you pay for optionality beyond what is needed."
   ]
  },
  {
   "cell_type": "markdown",
   "id": "a389c956",
   "metadata": {},
   "source": [
    "***"
   ]
  },
  {
   "cell_type": "markdown",
   "id": "fd53bfaa",
   "metadata": {},
   "source": [
    "# 4. Swaptions and SABR"
   ]
  },
  {
   "cell_type": "markdown",
   "id": "90705f12",
   "metadata": {},
   "source": [
    "## 4.1.\n",
    "\n",
    "Use the market data in `rate curves` to calculate the relevant forward swap rate for an at-the-money (ATM) swaption with...\n",
    "* `expiration=1`\n",
    "* `tenor=2`\n",
    "\n",
    "Report this forward swap rate."
   ]
  },
  {
   "cell_type": "markdown",
   "id": "ddda471f",
   "metadata": {},
   "source": [
    "## 4.2.\n",
    "\n",
    "#### Note\n",
    "\n",
    "Regardless of what you calculated in the previous problem **use a forward swap rate of `.0365` for the rest of this section**, not just this specific question.\n",
    "\n",
    "Don't worry that the forward swap rate provided here may not match your answer from the previous section. We are using it to ensure all solutions below are based on the same forward swap rate."
   ]
  },
  {
   "cell_type": "markdown",
   "id": "64b2baf8",
   "metadata": {},
   "source": [
    "#### Continuing...\n",
    "\n",
    "Use the data in `volskew` which gives market quotes (in terms of Black vol) on swaptions across various strikes. \n",
    "* The strikes listed are relative to the ATM strike, which equals the forward swap rate given to you in the previous paragraph.\n",
    "* All these quotes are for the same expiration and tenor considered in `4.1`."
   ]
  },
  {
   "cell_type": "markdown",
   "id": "d50409a2",
   "metadata": {},
   "source": [
    "Report the price of the swaption with specification of...\n",
    "* struck at the money\n",
    "* notional of `100`\n",
    "* a `receiver` swaption"
   ]
  },
  {
   "cell_type": "markdown",
   "id": "e39ca544",
   "metadata": {},
   "source": [
    "## 4.3. (10pts)\n",
    "\n",
    "Use SABR to consider pricing for strikes which are not listed. Sepcifically,\n",
    "\n",
    "* Input the SABR parameters given in `sabrparams` in the exam data sheet to get the implied volatility for any strike.\n",
    "\n",
    "* To do this, choose the `SLIM` SABR model, where $\\alpha$ (also called $\\sigma_0$) is a function of the other SABR parameters. Thus, you won't make use of the estimated $\\alpha$ parameter; rather, you'll make use of the other parameters in conjunction with the ATM market quoted vol.\n",
    "\n",
    "Consider a `STRIKE=.03`.\n",
    "\n",
    "Report\n",
    "* the SABR-implied vol for this strike, (and the provided forward swap rate.) \n",
    "* the price for this swaption given by Black's formula."
   ]
  },
  {
   "cell_type": "markdown",
   "id": "0e78b2ce",
   "metadata": {},
   "source": [
    "## 4.4. \n",
    "\n",
    "Suppose the forward swap rate changes by `+10bps`.\n",
    "\n",
    "(We are considering an instantaneous change, so no need to change the time-to-expiration.)\n",
    "\n",
    "Report\n",
    "* the new price, assuming vol stays constant\n",
    "* the new vol and the new price, assuming vol responds according to the SABR specification of part `4.3`."
   ]
  },
  {
   "cell_type": "markdown",
   "id": "b8a64854",
   "metadata": {},
   "source": [
    "## 4.5.\n",
    "\n",
    "Use these new prices to calculate and report the approximate delta, for both a static and dynamic vol.\n",
    "\n",
    "Specifically, calculate the numerical change in price per change in forward rate when...\n",
    "* holding vol constant\n",
    "* modeling vol changing according to SABR\n",
    "\n",
    "How much does the \"augmented\" delta differ from the classic delta?"
   ]
  },
  {
   "cell_type": "markdown",
   "id": "3a9b4f5e",
   "metadata": {},
   "source": [
    "## 4.6.\n",
    "\n",
    "Without doing any new calculation, what do you think the effect of a SABR model would be on delta for a payer-swaption in response to a decrease in interest rates?\n",
    "\n",
    "* Would the delta be positive or negative?\n",
    "* Would the \"augmented\" effects of SABR cause the price to be larger or smaller than what the classic delta would imply? "
   ]
  },
  {
   "cell_type": "markdown",
   "id": "4745c909",
   "metadata": {},
   "source": [
    "## 4.7.\n",
    "\n",
    "Consider again the given forward swap rate provided in `4.2` (without the shift considered in part `4.4`.)\n",
    "\n",
    "Use the SABR vol skew to price the swaption (same expiry and tenor) struck `-300bps` OTM. \n",
    "\n",
    "* Report this model price and compare it to the market quote at -300bps.\n",
    "\n",
    "* Why might we trust the model price more than the provided market quote here?"
   ]
  },
  {
   "cell_type": "markdown",
   "id": "8899f459",
   "metadata": {},
   "source": [
    "## 4.8.\n",
    "\n",
    "What advantage does SABR have over local vol models? \n",
    "\n",
    "Be specific."
   ]
  },
  {
   "cell_type": "markdown",
   "id": "6eea126d",
   "metadata": {},
   "source": [
    "## 4.9.\n",
    "\n",
    "For the estimated SABR model in the picture, is ATM implied volatility higher or lower as the interest rate goes higher?\n",
    "\n",
    "In a sentence, describe specifically what vol path indicates to us about this option market.\n",
    "\n",
    "(If the figure is not rendering in this cell, find it in `../data/volpath_example.png`.\n",
    "\n",
    "![title](../data/volpath_example.png)"
   ]
  },
  {
   "cell_type": "markdown",
   "id": "fef9da0f",
   "metadata": {},
   "source": [
    "## 4.10.\n",
    "\n",
    "How do we quantify the **vol path** in SABR? Is it estimated or assumed? Be specific."
   ]
  },
  {
   "cell_type": "markdown",
   "id": "41661cbb",
   "metadata": {},
   "source": [
    "***"
   ]
  },
  {
   "cell_type": "markdown",
   "id": "6e4b5610",
   "metadata": {},
   "source": [
    "# **<span style=\"color:red\">Solution </span>**"
   ]
  },
  {
   "cell_type": "markdown",
   "id": "61e6faae",
   "metadata": {},
   "source": [
    "## **<span style=\"color:red\">4.1 </span>**"
   ]
  },
  {
   "cell_type": "code",
   "execution_count": 29,
   "id": "6a76a5cf",
   "metadata": {},
   "outputs": [],
   "source": [
    "SWAP_TYPE = 'SOFR'\n",
    "QUOTE_STYLE = 'black'\n",
    "RELATIVE_STRIKE = 0\n",
    "\n",
    "expry = 1\n",
    "tenor = 2"
   ]
  },
  {
   "cell_type": "code",
   "execution_count": 30,
   "id": "e26277d9",
   "metadata": {},
   "outputs": [],
   "source": [
    "freqswap = 4\n",
    "\n",
    "Topt = expry\n",
    "Tswap = Topt+tenor\n",
    "\n",
    "fwdswap_calc = calc_fwdswaprate(curves['discounts'], Topt, Tswap, freqswap=freqswap)"
   ]
  },
  {
   "cell_type": "code",
   "execution_count": 31,
   "id": "2fe1ff27",
   "metadata": {},
   "outputs": [
    {
     "data": {
      "text/html": [
       "<style type=\"text/css\">\n",
       "</style>\n",
       "<table id=\"T_5639c\">\n",
       "  <thead>\n",
       "    <tr>\n",
       "      <th class=\"blank level0\" >&nbsp;</th>\n",
       "      <th id=\"T_5639c_level0_col0\" class=\"col_heading level0 col0\" ></th>\n",
       "    </tr>\n",
       "  </thead>\n",
       "  <tbody>\n",
       "    <tr>\n",
       "      <th id=\"T_5639c_level0_row0\" class=\"row_heading level0 row0\" >forward swap rate 1.0 to 3.0</th>\n",
       "      <td id=\"T_5639c_row0_col0\" class=\"data row0 col0\" >3.6651%</td>\n",
       "    </tr>\n",
       "  </tbody>\n",
       "</table>\n"
      ],
      "text/plain": [
       "<pandas.io.formats.style.Styler at 0x157e95940>"
      ]
     },
     "execution_count": 31,
     "metadata": {},
     "output_type": "execute_result"
    }
   ],
   "source": [
    "pd.DataFrame([fwdswap_calc],index=[f'forward swap rate {Topt:.1f} to {Tswap:.1f}'],columns=['']).style.format('{:.4%}')"
   ]
  },
  {
   "cell_type": "markdown",
   "id": "89f009ba",
   "metadata": {},
   "source": [
    "## **<span style=\"color:red\">4.2 </span>**"
   ]
  },
  {
   "cell_type": "markdown",
   "id": "97545f21",
   "metadata": {},
   "source": [
    "Given that we are calculating the ATM swaption, it doesn't matter that it is the **receiver** swaption vs the **payer** swaption."
   ]
  },
  {
   "cell_type": "code",
   "execution_count": 32,
   "id": "f676de8b",
   "metadata": {},
   "outputs": [],
   "source": [
    "F = .0365\n",
    "isPayer = False\n",
    "N = 100\n",
    "\n",
    "# asking ATM\n",
    "SKEW = 0\n",
    "volATM = volskew.loc[0,SKEW]/100"
   ]
  },
  {
   "cell_type": "markdown",
   "id": "02379dda",
   "metadata": {},
   "source": [
    "Get the sum of discount factors, noting the spacing."
   ]
  },
  {
   "cell_type": "code",
   "execution_count": 33,
   "id": "2448ec4e",
   "metadata": {},
   "outputs": [],
   "source": [
    "period_fwd = curves.index.get_loc(Topt)\n",
    "period_swap = curves.index.get_loc(Tswap)+1\n",
    "step = round(freqcurve/freqswap)\n",
    "\n",
    "discount_swaption = curves['discounts'].iloc[period_fwd+step : period_swap : step].sum()/freqswap"
   ]
  },
  {
   "cell_type": "markdown",
   "id": "66bd9e04",
   "metadata": {},
   "source": [
    "Then by Black,"
   ]
  },
  {
   "cell_type": "code",
   "execution_count": 34,
   "id": "dafc0dd3",
   "metadata": {},
   "outputs": [
    {
     "data": {
      "text/html": [
       "<style type=\"text/css\">\n",
       "</style>\n",
       "<table id=\"T_70208\">\n",
       "  <thead>\n",
       "    <tr>\n",
       "      <th class=\"blank level0\" >&nbsp;</th>\n",
       "      <th id=\"T_70208_level0_col0\" class=\"col_heading level0 col0\" >price</th>\n",
       "    </tr>\n",
       "  </thead>\n",
       "  <tbody>\n",
       "    <tr>\n",
       "      <th id=\"T_70208_level0_row0\" class=\"row_heading level0 row0\" >ATM</th>\n",
       "      <td id=\"T_70208_row0_col0\" class=\"data row0 col0\" >$0.9209</td>\n",
       "    </tr>\n",
       "  </tbody>\n",
       "</table>\n"
      ],
      "text/plain": [
       "<pandas.io.formats.style.Styler at 0x157e988b0>"
      ]
     },
     "execution_count": 34,
     "metadata": {},
     "output_type": "execute_result"
    }
   ],
   "source": [
    "px_swaptionATM = N * blacks_formula(Topt,volATM,F,F,discount_swaption,isCall=isPayer)\n",
    "\n",
    "tab_swaption = pd.DataFrame([px_swaptionATM],index=['ATM'],columns = ['price'])\n",
    "tab_swaption.style.format('${:.4f}')"
   ]
  },
  {
   "cell_type": "markdown",
   "id": "5bba7ed0",
   "metadata": {},
   "source": [
    "## **<span style=\"color:red\">4.3 </span>**"
   ]
  },
  {
   "cell_type": "code",
   "execution_count": 35,
   "id": "84cace8c",
   "metadata": {},
   "outputs": [],
   "source": [
    "STRIKE = .03\n",
    "doSLIM = True\n",
    "\n",
    "# unpack the parameters in the data\n",
    "beta,alpha,nu,rho = sabrparams.iloc[:,0]\n",
    "\n",
    "volOTM = sabr_slim(beta,nu,rho,F,STRIKE,Topt,volATM)\n",
    "\n",
    "px_swaptionOTM = N * blacks_formula(Topt,volOTM,STRIKE,F,discount_swaption,isCall=isPayer)"
   ]
  },
  {
   "cell_type": "code",
   "execution_count": 36,
   "id": "e739f69b",
   "metadata": {},
   "outputs": [
    {
     "data": {
      "text/html": [
       "<style type=\"text/css\">\n",
       "</style>\n",
       "<table id=\"T_84424\">\n",
       "  <thead>\n",
       "    <tr>\n",
       "      <th class=\"blank level0\" >&nbsp;</th>\n",
       "      <th id=\"T_84424_level0_col0\" class=\"col_heading level0 col0\" >price</th>\n",
       "      <th id=\"T_84424_level0_col1\" class=\"col_heading level0 col1\" >vol</th>\n",
       "      <th id=\"T_84424_level0_col2\" class=\"col_heading level0 col2\" >strike</th>\n",
       "      <th id=\"T_84424_level0_col3\" class=\"col_heading level0 col3\" >forward</th>\n",
       "    </tr>\n",
       "  </thead>\n",
       "  <tbody>\n",
       "    <tr>\n",
       "      <th id=\"T_84424_level0_row0\" class=\"row_heading level0 row0\" >ATM</th>\n",
       "      <td id=\"T_84424_row0_col0\" class=\"data row0 col0\" >0.9209</td>\n",
       "      <td id=\"T_84424_row0_col1\" class=\"data row0 col1\" >34.80%</td>\n",
       "      <td id=\"T_84424_row0_col2\" class=\"data row0 col2\" >3.65%</td>\n",
       "      <td id=\"T_84424_row0_col3\" class=\"data row0 col3\" >3.65%</td>\n",
       "    </tr>\n",
       "    <tr>\n",
       "      <th id=\"T_84424_level0_row1\" class=\"row_heading level0 row1\" >OTM</th>\n",
       "      <td id=\"T_84424_row1_col0\" class=\"data row1 col0\" >0.4662</td>\n",
       "      <td id=\"T_84424_row1_col1\" class=\"data row1 col1\" >39.31%</td>\n",
       "      <td id=\"T_84424_row1_col2\" class=\"data row1 col2\" >3.00%</td>\n",
       "      <td id=\"T_84424_row1_col3\" class=\"data row1 col3\" >3.65%</td>\n",
       "    </tr>\n",
       "  </tbody>\n",
       "</table>\n"
      ],
      "text/plain": [
       "<pandas.io.formats.style.Styler at 0x157de2850>"
      ]
     },
     "execution_count": 36,
     "metadata": {},
     "output_type": "execute_result"
    }
   ],
   "source": [
    "tab_swaption.loc['OTM'] = px_swaptionOTM\n",
    "tab_swaption['vol'] = [volATM,volOTM]\n",
    "tab_swaption['strike'] = [F,STRIKE]\n",
    "tab_swaption['forward'] = F\n",
    "tab_swaption.style.format({'vol':'{:.2%}','price':'{:.4f}','strike':'{:.2%}','forward':'{:.2%}'})"
   ]
  },
  {
   "cell_type": "markdown",
   "id": "d45a98e3",
   "metadata": {},
   "source": [
    "## **<span style=\"color:red\">4.4 </span>**"
   ]
  },
  {
   "cell_type": "markdown",
   "id": "9189408f",
   "metadata": {},
   "source": [
    "The problem intends for you to recompute the OTM swaption price given the shift in rates.\n",
    "\n",
    "This is considered as an instant shift, so there is no need to adjust time-to-expiration and time-to-maturity."
   ]
  },
  {
   "cell_type": "code",
   "execution_count": 37,
   "id": "7950c5de",
   "metadata": {},
   "outputs": [
    {
     "data": {
      "text/html": [
       "<style type=\"text/css\">\n",
       "</style>\n",
       "<table id=\"T_42228\">\n",
       "  <thead>\n",
       "    <tr>\n",
       "      <th class=\"blank level0\" >&nbsp;</th>\n",
       "      <th id=\"T_42228_level0_col0\" class=\"col_heading level0 col0\" >price</th>\n",
       "      <th id=\"T_42228_level0_col1\" class=\"col_heading level0 col1\" >vol</th>\n",
       "      <th id=\"T_42228_level0_col2\" class=\"col_heading level0 col2\" >strike</th>\n",
       "      <th id=\"T_42228_level0_col3\" class=\"col_heading level0 col3\" >forward</th>\n",
       "    </tr>\n",
       "  </thead>\n",
       "  <tbody>\n",
       "    <tr>\n",
       "      <th id=\"T_42228_level0_row0\" class=\"row_heading level0 row0\" >ATM</th>\n",
       "      <td id=\"T_42228_row0_col0\" class=\"data row0 col0\" >0.9209</td>\n",
       "      <td id=\"T_42228_row0_col1\" class=\"data row0 col1\" >34.80%</td>\n",
       "      <td id=\"T_42228_row0_col2\" class=\"data row0 col2\" >3.65%</td>\n",
       "      <td id=\"T_42228_row0_col3\" class=\"data row0 col3\" >3.65%</td>\n",
       "    </tr>\n",
       "    <tr>\n",
       "      <th id=\"T_42228_level0_row1\" class=\"row_heading level0 row1\" >OTM</th>\n",
       "      <td id=\"T_42228_row1_col0\" class=\"data row1 col0\" >0.4662</td>\n",
       "      <td id=\"T_42228_row1_col1\" class=\"data row1 col1\" >39.31%</td>\n",
       "      <td id=\"T_42228_row1_col2\" class=\"data row1 col2\" >3.00%</td>\n",
       "      <td id=\"T_42228_row1_col3\" class=\"data row1 col3\" >3.65%</td>\n",
       "    </tr>\n",
       "    <tr>\n",
       "      <th id=\"T_42228_level0_row2\" class=\"row_heading level0 row2\" >OTM shift static</th>\n",
       "      <td id=\"T_42228_row2_col0\" class=\"data row2 col0\" >0.4237</td>\n",
       "      <td id=\"T_42228_row2_col1\" class=\"data row2 col1\" >39.31%</td>\n",
       "      <td id=\"T_42228_row2_col2\" class=\"data row2 col2\" >3.00%</td>\n",
       "      <td id=\"T_42228_row2_col3\" class=\"data row2 col3\" >3.75%</td>\n",
       "    </tr>\n",
       "    <tr>\n",
       "      <th id=\"T_42228_level0_row3\" class=\"row_heading level0 row3\" >OTM shift dynamic</th>\n",
       "      <td id=\"T_42228_row3_col0\" class=\"data row3 col0\" >0.4385</td>\n",
       "      <td id=\"T_42228_row3_col1\" class=\"data row3 col1\" >40.04%</td>\n",
       "      <td id=\"T_42228_row3_col2\" class=\"data row3 col2\" >3.00%</td>\n",
       "      <td id=\"T_42228_row3_col3\" class=\"data row3 col3\" >3.75%</td>\n",
       "    </tr>\n",
       "  </tbody>\n",
       "</table>\n"
      ],
      "text/plain": [
       "<pandas.io.formats.style.Styler at 0x157de2a90>"
      ]
     },
     "execution_count": 37,
     "metadata": {},
     "output_type": "execute_result"
    }
   ],
   "source": [
    "SHIFT = 10/100/100\n",
    "\n",
    "volOTMshift = sabr_slim(beta,nu,rho,F+SHIFT,STRIKE,Topt,volATM)\n",
    "px_swaptionOTMshift_static = N * blacks_formula(Topt,volOTM,STRIKE,F+SHIFT,discount_swaption,isCall=isPayer)\n",
    "px_swaptionOTMshift_dynamic = N * blacks_formula(Topt,volOTMshift,STRIKE,F+SHIFT,discount_swaption,isCall=isPayer)\n",
    "\n",
    "tab_swaption.loc['OTM shift static'] = [px_swaptionOTMshift_static, volOTM, STRIKE, F+SHIFT]\n",
    "tab_swaption.loc['OTM shift dynamic'] = [px_swaptionOTMshift_dynamic, volOTMshift, STRIKE, F+SHIFT]\n",
    "\n",
    "tab_swaption.style.format({'vol':'{:.2%}','price':'{:.4f}','strike':'{:.2%}','forward':'{:.2%}'})"
   ]
  },
  {
   "cell_type": "markdown",
   "id": "875773f5",
   "metadata": {},
   "source": [
    "We see that given a shift in rates, the swaption price drops less due to a rise in vol."
   ]
  },
  {
   "cell_type": "markdown",
   "id": "347dbfc0",
   "metadata": {},
   "source": [
    "## **<span style=\"color:red\">4.5 </span>**"
   ]
  },
  {
   "cell_type": "code",
   "execution_count": 38,
   "id": "c165216b",
   "metadata": {},
   "outputs": [
    {
     "data": {
      "text/html": [
       "<style type=\"text/css\">\n",
       "</style>\n",
       "<table id=\"T_ebee7\">\n",
       "  <thead>\n",
       "    <tr>\n",
       "      <th class=\"blank level0\" >&nbsp;</th>\n",
       "      <th id=\"T_ebee7_level0_col0\" class=\"col_heading level0 col0\" >price</th>\n",
       "      <th id=\"T_ebee7_level0_col1\" class=\"col_heading level0 col1\" >diff</th>\n",
       "      <th id=\"T_ebee7_level0_col2\" class=\"col_heading level0 col2\" >delta</th>\n",
       "    </tr>\n",
       "  </thead>\n",
       "  <tbody>\n",
       "    <tr>\n",
       "      <th id=\"T_ebee7_level0_row0\" class=\"row_heading level0 row0\" >OTM</th>\n",
       "      <td id=\"T_ebee7_row0_col0\" class=\"data row0 col0\" >0.4662</td>\n",
       "      <td id=\"T_ebee7_row0_col1\" class=\"data row0 col1\" >0.0000</td>\n",
       "      <td id=\"T_ebee7_row0_col2\" class=\"data row0 col2\" >0.00</td>\n",
       "    </tr>\n",
       "    <tr>\n",
       "      <th id=\"T_ebee7_level0_row1\" class=\"row_heading level0 row1\" >OTM shift static</th>\n",
       "      <td id=\"T_ebee7_row1_col0\" class=\"data row1 col0\" >0.4237</td>\n",
       "      <td id=\"T_ebee7_row1_col1\" class=\"data row1 col1\" >-0.0425</td>\n",
       "      <td id=\"T_ebee7_row1_col2\" class=\"data row1 col2\" >-42.51</td>\n",
       "    </tr>\n",
       "    <tr>\n",
       "      <th id=\"T_ebee7_level0_row2\" class=\"row_heading level0 row2\" >OTM shift dynamic</th>\n",
       "      <td id=\"T_ebee7_row2_col0\" class=\"data row2 col0\" >0.4385</td>\n",
       "      <td id=\"T_ebee7_row2_col1\" class=\"data row2 col1\" >-0.0277</td>\n",
       "      <td id=\"T_ebee7_row2_col2\" class=\"data row2 col2\" >-27.70</td>\n",
       "    </tr>\n",
       "  </tbody>\n",
       "</table>\n"
      ],
      "text/plain": [
       "<pandas.io.formats.style.Styler at 0x157eba2e0>"
      ]
     },
     "execution_count": 38,
     "metadata": {},
     "output_type": "execute_result"
    }
   ],
   "source": [
    "tab_delta = tab_swaption[['price']].drop(index=['ATM']).copy()\n",
    "tab_delta['diff'] = tab_delta - tab_swaption.loc['OTM','price']\n",
    "tab_delta['delta'] = tab_delta['diff'] / SHIFT\n",
    "tab_delta.style.format({'diff':'{:.4f}','delta':'{:.2f}','price':'{:.4f}'})"
   ]
  },
  {
   "cell_type": "markdown",
   "id": "8f5f7ad3",
   "metadata": {},
   "source": [
    "## **<span style=\"color:red\">4.6 </span>**"
   ]
  },
  {
   "cell_type": "markdown",
   "id": "d107dfb4",
   "metadata": {},
   "source": [
    "For **payer** swaption, the delta is positive.\n",
    "\n",
    "Given the **decreased** rate, the swaption is less in-the-money, and price goes down.\n",
    "\n",
    "As for the SABR vol effect, it could go either way. \n",
    "* Possible SABR implies decrease rate will once again increase vol (as did the increased rate) above. This will increase the price, which will attenuate the positive delta to be a smaller \"augmented\" delta.\n",
    "\n",
    "* Also possible SABR implies decrease in rate will lower vol, further lowering swaption price. This would mean the \"augmented\" delta is even more positive than the classic delta.\n",
    "\n",
    "Fine if assumed SABR would increase or decrease vol (no way to know without calculating). Graded for logic of that implication."
   ]
  },
  {
   "cell_type": "markdown",
   "id": "9f17129a",
   "metadata": {},
   "source": [
    "## **<span style=\"color:red\">4.7 </span>**"
   ]
  },
  {
   "cell_type": "code",
   "execution_count": 39,
   "id": "def26400",
   "metadata": {},
   "outputs": [
    {
     "data": {
      "text/html": [
       "<style type=\"text/css\">\n",
       "</style>\n",
       "<table id=\"T_c961d\">\n",
       "  <thead>\n",
       "    <tr>\n",
       "      <th class=\"blank level0\" >&nbsp;</th>\n",
       "      <th id=\"T_c961d_level0_col0\" class=\"col_heading level0 col0\" >Market Price</th>\n",
       "    </tr>\n",
       "  </thead>\n",
       "  <tbody>\n",
       "    <tr>\n",
       "      <th id=\"T_c961d_level0_row0\" class=\"row_heading level0 row0\" >-300</th>\n",
       "      <td id=\"T_c961d_row0_col0\" class=\"data row0 col0\" >$0.0448</td>\n",
       "    </tr>\n",
       "  </tbody>\n",
       "</table>\n"
      ],
      "text/plain": [
       "<pandas.io.formats.style.Styler at 0x157e95610>"
      ]
     },
     "execution_count": 39,
     "metadata": {},
     "output_type": "execute_result"
    }
   ],
   "source": [
    "SWAP_TYPE = 'SOFR'\n",
    "QUOTE_STYLE = 'black'\n",
    "RELATIVE_STRIKE = 0\n",
    "\n",
    "expry = 1\n",
    "tenor = 2\n",
    "\n",
    "freqswap = 4\n",
    "\n",
    "Topt = expry\n",
    "Tswap = Topt+tenor\n",
    "\n",
    "F = .0365\n",
    "isPayer = False\n",
    "N = 100\n",
    "\n",
    "# asking ATM\n",
    "SKEW = -300\n",
    "volATM = volskew.loc[0,SKEW]/100\n",
    "\n",
    "period_fwd = curves.index.get_loc(Topt)\n",
    "period_swap = curves.index.get_loc(Tswap)+1\n",
    "step = round(freqcurve/freqswap)\n",
    "\n",
    "discount_swaption = curves['discounts'].iloc[period_fwd+step : period_swap : step].sum()/freqswap\n",
    "\n",
    "px_swaption = N * blacks_formula(Topt,volATM,F + SKEW/100/100,F,discount_swaption,isCall=isPayer)\n",
    "\n",
    "tab_swaption_market = pd.DataFrame([px_swaption],index=['-300'],columns = ['Market Price'])\n",
    "tab_swaption_market.style.format('${:.4f}')"
   ]
  },
  {
   "cell_type": "code",
   "execution_count": 40,
   "id": "c8d4c7fa",
   "metadata": {},
   "outputs": [
    {
     "data": {
      "text/html": [
       "<style type=\"text/css\">\n",
       "</style>\n",
       "<table id=\"T_bd264\">\n",
       "  <thead>\n",
       "    <tr>\n",
       "      <th class=\"blank level0\" >&nbsp;</th>\n",
       "      <th id=\"T_bd264_level0_col0\" class=\"col_heading level0 col0\" >SABR Price</th>\n",
       "    </tr>\n",
       "  </thead>\n",
       "  <tbody>\n",
       "    <tr>\n",
       "      <th id=\"T_bd264_level0_row0\" class=\"row_heading level0 row0\" >-300</th>\n",
       "      <td id=\"T_bd264_row0_col0\" class=\"data row0 col0\" >$0.0231</td>\n",
       "    </tr>\n",
       "  </tbody>\n",
       "</table>\n"
      ],
      "text/plain": [
       "<pandas.io.formats.style.Styler at 0x157eab8b0>"
      ]
     },
     "execution_count": 40,
     "metadata": {},
     "output_type": "execute_result"
    }
   ],
   "source": [
    "STRIKE = F + SKEW/100/100\n",
    "volATM = volskew.loc[0,0]/100\n",
    "volOTM = sabr_slim(beta,nu,rho,F,STRIKE,Topt,volATM)\n",
    "px_swaptionOTM = N * blacks_formula(Topt,volOTM,STRIKE,F,discount_swaption,isCall=isPayer)\n",
    "tab_swaption_SABR = pd.DataFrame([px_swaptionOTM],index=['-300'],columns = ['SABR Price'])\n",
    "tab_swaption_SABR.style.format('${:.4f}')"
   ]
  },
  {
   "cell_type": "markdown",
   "id": "479a229a",
   "metadata": {},
   "source": [
    "We can trust the SABR model more because market dynamics and liquidity issues may change the price of a security drastically compared to it's modeled fair value. In this example, a deep OTM option would likely be illiquid, causing it's market price to deviate from the modeled fair value. "
   ]
  },
  {
   "cell_type": "markdown",
   "id": "b50878ae",
   "metadata": {},
   "source": [
    "## **<span style=\"color:red\">4.8 </span>**"
   ]
  },
  {
   "cell_type": "markdown",
   "id": "95da9858",
   "metadata": {},
   "source": [
    "Local vol models can perfectly fit the quoted options while still modeling the skew. However, they may be **overfitting** and do worse out of sample.\n",
    "\n",
    "SABR and other stochastic vol models retain no-arbitrage implications (unlike splines, etc.) while giving structure that may be useful in modeling other empirical facts, such as the vol path."
   ]
  },
  {
   "cell_type": "markdown",
   "id": "e0af5440",
   "metadata": {},
   "source": [
    "## **<span style=\"color:red\">4.9 </span>**"
   ]
  },
  {
   "cell_type": "markdown",
   "id": "df7a9638",
   "metadata": {},
   "source": [
    "Be careful that you do not answer about the **strike** increasing, which is the x-axis.\n",
    "\n",
    "Then, the answer hinges on which we are considering...\n",
    "* keeping strike ATM, we are looking along the vol path, and the implied vol is getting lower.\n",
    "* keeping strike fixed, we are looking at a vertical slice of the figure. We see \n",
    "    * vol goes up with rate if strike is low\n",
    "    * vol goes down with rate if strike is high.\n",
    "\n",
    "Again, any response consistent with these facts is fine. No need to explain all contingencies."
   ]
  },
  {
   "cell_type": "markdown",
   "id": "4f0324be",
   "metadata": {},
   "source": [
    "## **<span style=\"color:red\">4.10 </span>**"
   ]
  },
  {
   "cell_type": "markdown",
   "id": "683cc3c1",
   "metadata": {},
   "source": [
    "The vol paths are estimated using the ATM strike implied volatilities of the given options. "
   ]
  },
  {
   "cell_type": "markdown",
   "id": "f355cd7d",
   "metadata": {},
   "source": [
    "***"
   ]
  }
 ],
 "metadata": {
  "hide_input": false,
  "kernelspec": {
   "display_name": "Python 3 (ipykernel)",
   "language": "python",
   "name": "python3"
  },
  "language_info": {
   "codemirror_mode": {
    "name": "ipython",
    "version": 3
   },
   "file_extension": ".py",
   "mimetype": "text/x-python",
   "name": "python",
   "nbconvert_exporter": "python",
   "pygments_lexer": "ipython3",
   "version": "3.9.6"
  }
 },
 "nbformat": 4,
 "nbformat_minor": 5
}
