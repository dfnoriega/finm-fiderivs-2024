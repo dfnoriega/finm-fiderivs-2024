{
 "cells": [
  {
   "cell_type": "markdown",
   "id": "08f681f9",
   "metadata": {},
   "source": [
    "# Homework 1\n",
    "\n",
    "## FINM 37500: Fixed Income Derivatives\n",
    "\n",
    "### Mark Hendricks\n",
    "\n",
    "#### Winter 2024"
   ]
  },
  {
   "cell_type": "markdown",
   "id": "cdd8e219",
   "metadata": {},
   "source": [
    "# Context\n",
    "\n",
    "For use in these problems, consider the data below, discussed in Veronesi's *Fixed Income Securities* Chapters 9, 10.\n",
    "* interest-rate tree\n",
    "* current term structure"
   ]
  },
  {
   "cell_type": "code",
   "execution_count": 498,
   "id": "7e086fbf",
   "metadata": {},
   "outputs": [],
   "source": [
    "import numpy as np\n",
    "import pandas as pd"
   ]
  },
  {
   "cell_type": "code",
   "execution_count": 499,
   "id": "05cb28e7",
   "metadata": {},
   "outputs": [
    {
     "data": {
      "text/html": [
       "<style type=\"text/css\">\n",
       "</style>\n",
       "<table id=\"T_a0381\">\n",
       "  <thead>\n",
       "    <tr>\n",
       "      <th class=\"index_name level0\" >time $t$</th>\n",
       "      <th id=\"T_a0381_level0_col0\" class=\"col_heading level0 col0\" >0</th>\n",
       "      <th id=\"T_a0381_level0_col1\" class=\"col_heading level0 col1\" >0.5</th>\n",
       "    </tr>\n",
       "    <tr>\n",
       "      <th class=\"index_name level0\" >node</th>\n",
       "      <th class=\"blank col0\" >&nbsp;</th>\n",
       "      <th class=\"blank col1\" >&nbsp;</th>\n",
       "    </tr>\n",
       "  </thead>\n",
       "  <tbody>\n",
       "    <tr>\n",
       "      <th id=\"T_a0381_level0_row0\" class=\"row_heading level0 row0\" >0</th>\n",
       "      <td id=\"T_a0381_row0_col0\" class=\"data row0 col0\" >1.74%</td>\n",
       "      <td id=\"T_a0381_row0_col1\" class=\"data row0 col1\" >3.39%</td>\n",
       "    </tr>\n",
       "    <tr>\n",
       "      <th id=\"T_a0381_level0_row1\" class=\"row_heading level0 row1\" >1</th>\n",
       "      <td id=\"T_a0381_row1_col0\" class=\"data row1 col0\" ></td>\n",
       "      <td id=\"T_a0381_row1_col1\" class=\"data row1 col1\" >0.95%</td>\n",
       "    </tr>\n",
       "  </tbody>\n",
       "</table>\n"
      ],
      "text/plain": [
       "<pandas.io.formats.style.Styler at 0x14398e210>"
      ]
     },
     "execution_count": 499,
     "metadata": {},
     "output_type": "execute_result"
    }
   ],
   "source": [
    "rate_tree = pd.DataFrame({'0':[.0174,np.nan],'0.5':[.0339,.0095]})\n",
    "rate_tree.columns.name = 'time $t$'\n",
    "rate_tree.index.name = 'node'\n",
    "rate_tree.style.format('{:.2%}',na_rep='')"
   ]
  },
  {
   "cell_type": "markdown",
   "id": "b848f535",
   "metadata": {},
   "source": [
    "The \"tree\" is displayed as a pandas dataframe, so it does not list \"up\" and \"down\" for the rows but rather an index of nodes. The meaning should be clear."
   ]
  },
  {
   "cell_type": "code",
   "execution_count": 500,
   "id": "b76c6fb9",
   "metadata": {},
   "outputs": [
    {
     "data": {
      "text/html": [
       "<style type=\"text/css\">\n",
       "</style>\n",
       "<table id=\"T_316ed\">\n",
       "  <thead>\n",
       "    <tr>\n",
       "      <th class=\"blank level0\" >&nbsp;</th>\n",
       "      <th id=\"T_316ed_level0_col0\" class=\"col_heading level0 col0\" >price</th>\n",
       "      <th id=\"T_316ed_level0_col1\" class=\"col_heading level0 col1\" >continuous ytm</th>\n",
       "    </tr>\n",
       "    <tr>\n",
       "      <th class=\"index_name level0\" >maturity</th>\n",
       "      <th class=\"blank col0\" >&nbsp;</th>\n",
       "      <th class=\"blank col1\" >&nbsp;</th>\n",
       "    </tr>\n",
       "  </thead>\n",
       "  <tbody>\n",
       "    <tr>\n",
       "      <th id=\"T_316ed_level0_row0\" class=\"row_heading level0 row0\" >0.5</th>\n",
       "      <td id=\"T_316ed_row0_col0\" class=\"data row0 col0\" >99.1338</td>\n",
       "      <td id=\"T_316ed_row0_col1\" class=\"data row0 col1\" >1.74%</td>\n",
       "    </tr>\n",
       "    <tr>\n",
       "      <th id=\"T_316ed_level0_row1\" class=\"row_heading level0 row1\" >1.0</th>\n",
       "      <td id=\"T_316ed_row1_col0\" class=\"data row1 col0\" >97.8925</td>\n",
       "      <td id=\"T_316ed_row1_col1\" class=\"data row1 col1\" >2.13%</td>\n",
       "    </tr>\n",
       "    <tr>\n",
       "      <th id=\"T_316ed_level0_row2\" class=\"row_heading level0 row2\" >1.5</th>\n",
       "      <td id=\"T_316ed_row2_col0\" class=\"data row2 col0\" >96.1462</td>\n",
       "      <td id=\"T_316ed_row2_col1\" class=\"data row2 col1\" >2.62%</td>\n",
       "    </tr>\n",
       "  </tbody>\n",
       "</table>\n"
      ],
      "text/plain": [
       "<pandas.io.formats.style.Styler at 0x140d630d0>"
      ]
     },
     "execution_count": 500,
     "metadata": {},
     "output_type": "execute_result"
    }
   ],
   "source": [
    "term_struct = pd.DataFrame({'maturity':[.5,1,1.5],'price':[99.1338,97.8925,96.1462]})\n",
    "term_struct['continuous ytm'] = -np.log(term_struct['price']/100) / term_struct['maturity']\n",
    "term_struct.set_index('maturity',inplace=True)\n",
    "term_struct.style.format({'price':'{:.4f}','continuous ytm':'{:.2%}'}).format_index('{:.1f}')"
   ]
  },
  {
   "cell_type": "markdown",
   "id": "9f832211",
   "metadata": {},
   "source": [
    "This is the current term-structure observed at $t=0$."
   ]
  },
  {
   "cell_type": "markdown",
   "id": "534cbb1e",
   "metadata": {},
   "source": [
    "# 1. Pricing a Swap\n"
   ]
  },
  {
   "cell_type": "markdown",
   "id": "830d91f4",
   "metadata": {},
   "source": [
    "\n",
    "### 1.1 \n",
    "Calculate the tree of bond prices for the 2-period, $T=1$, bond.\n"
   ]
  },
  {
   "cell_type": "code",
   "execution_count": 501,
   "id": "53930b0f",
   "metadata": {},
   "outputs": [],
   "source": [
    "class tree_convention:\n",
    "    UP=1\n",
    "    DOWN=-1\n",
    "    ORIGIN=0\n",
    "    TERMINAL=2\n",
    "\n",
    "class interest_node():\n",
    "    def __init__(self, period, rate, state):\n",
    "        self.period = period\n",
    "        self.rate = rate\n",
    "        self.state = state\n",
    "\n",
    "    def __repr__(self):\n",
    "        return 'rate: {:.2%}\\nperiod: {}\\nstate: {}'.format(self.rate,self.period,self.state)\n",
    "    \n",
    "class Interest_Tree():\n",
    "    def __init__(self, periods, rates):\n",
    "        self.periods = periods\n",
    "        self.rates = rates\n",
    "        self.levels = []\n",
    "        self.create_tree()\n",
    "    \n",
    "    def create_tree(self):\n",
    "        self.levels.append([interest_node(0,self.rates[0][0],0)])\n",
    "        for i in range(1,len(self.periods)):\n",
    "            tlevel=[]\n",
    "            for j in range(len(self.levels[i-1])):\n",
    "                node=interest_node(self.periods[i],self.rates[i][(j*2)],tree_convention.UP)\n",
    "                tlevel.append(node)\n",
    "                node=interest_node(self.periods[i],self.rates[i][(2*j)+1],tree_convention.DOWN)\n",
    "                tlevel.append(node)\n",
    "            self.levels.append(tlevel)\n",
    "    \n",
    "    def __repr__(self):\n",
    "        return 'Interest_tree: {}'.format(self.levels)\n",
    "                \n",
    "\n",
    "class bond_node():\n",
    "    def __init__(self, period, price, state, maturity):\n",
    "        self.period = period\n",
    "        self.price = price\n",
    "        self.state = state\n",
    "        self.maturity = maturity\n",
    "        self.rn_probUP=1/2\n",
    "        self.rn_probDOWN=1/2\n",
    "\n",
    "    def __repr__(self):\n",
    "        return 'period: {}\\nstate: {}\\nprice: {:.2f}\\nmaturity: {}'.format(self.period, self.state, self.price, self.maturity)\n",
    "\n",
    "class Binary_Bond_Tree():\n",
    "    def __init__(self, periods, price, face_value, interest_tree, maturity):\n",
    "        self.periods = np.array(periods)\n",
    "        self.price = price\n",
    "        self.face_value = face_value\n",
    "        self.levels = []\n",
    "        self.interest_tree = interest_tree\n",
    "        self.maturity = maturity\n",
    "        self.create_tree()\n",
    "        self.risk_neutral_tree()\n",
    "\n",
    "    def create_tree(self):\n",
    "        tprices=[[bond_node(self.maturity,self.face_value,tree_convention.TERMINAL,self.maturity)]*(2**len(self.periods))]\n",
    "        self.levels.append(tprices[0])\n",
    "        for i in range(1,len(self.periods)):\n",
    "            tprices=[]\n",
    "            for j in range(int(len(self.levels[i-1])/4)):\n",
    "                tprice=self.levels[i-1][4*j].price\n",
    "                tpriceUP=float(tprice)*np.exp(-float(self.interest_tree.levels[-i][(2*j)].rate)*(float(self.levels[i-1][0].period)-float(self.periods[-i])))\n",
    "                tprices.append(bond_node(self.periods[-i],tpriceUP,tree_convention.UP,self.maturity))\n",
    "                tprice=self.levels[i-1][(4*j)+3].price\n",
    "                tpriceDOWN=float(tprice)*np.exp(-float(self.interest_tree.levels[-i][(2*j)+1].rate)*(float(self.levels[i-1][0].period)-float(self.periods[-i])))\n",
    "                tprices.append(bond_node(self.periods[-i],tpriceDOWN,tree_convention.DOWN,self.maturity))\n",
    "            self.levels.append(tprices)\n",
    "        self.levels.append([bond_node(0,self.price,tree_convention.ORIGIN,self.maturity)])\n",
    "        self.levels=self.levels[::-1]\n",
    "\n",
    "    def risk_neutral_tree(self):\n",
    "        for i in range(len(self.levels)-2):\n",
    "            for j in range(max(int(len(self.levels[i])/2),1)):\n",
    "                adprice=self.levels[i][j].price*np.exp(float(self.interest_tree.levels[i][j].rate)*(float(self.periods[i+1])-float(self.periods[i])))\n",
    "                pup=(adprice-self.levels[i+1][(j*2)+1].price)/(self.levels[i+1][j*2].price-self.levels[i+1][(j*2)+1].price)\n",
    "                self.levels[i][j].rn_probUP=pup\n",
    "                self.levels[i][j].rn_probDOWN=1-pup\n",
    "\n",
    "        \n",
    "    def __repr__(self):\n",
    "        tree_str = 'Binary_Bond_tree:\\n'\n",
    "        tree_str += '                               Maturity: {}\\n'.format(self.maturity)\n",
    "        for level_index, level in enumerate(self.levels[:-1]):\n",
    "            level_str = '  ' * level_index\n",
    "            for node in level:\n",
    "                node_str = '[state: {}, price: {:.2f}]'.format(\n",
    "                    node.state, node.price)\n",
    "                level_str += node_str + '  '\n",
    "            tree_str += 'period: {} '.format(node.period) + level_str.strip() + '\\n'\n",
    "        return tree_str.strip()\n",
    "            "
   ]
  },
  {
   "cell_type": "code",
   "execution_count": 502,
   "id": "0d85710b",
   "metadata": {},
   "outputs": [],
   "source": [
    "class tree_convention:\n",
    "    UP=1\n",
    "    DOWN=-1\n",
    "    ORIGIN=0\n",
    "    TERMINAL=2\n",
    "\n",
    "class interest_node():\n",
    "    def __init__(self, period, rate, state):\n",
    "        self.period = period\n",
    "        self.rate = rate\n",
    "        self.state = state\n",
    "\n",
    "    def __repr__(self):\n",
    "        return 'rate: {:.2%}\\nperiod: {}\\nstate: {}'.format(self.rate,self.period,self.state)\n",
    "    \n",
    "class Interest_Tree():\n",
    "    def __init__(self, periods, rates):\n",
    "        self.periods = periods\n",
    "        self.rates = rates\n",
    "        self.levels = []\n",
    "        self.create_tree()\n",
    "    \n",
    "    def create_tree(self):\n",
    "        self.levels.append([interest_node(0,self.rates[0][0],0)])\n",
    "        for i in range(1,len(self.periods)):\n",
    "            tlevel=[]\n",
    "            for j in range(len(self.levels[i-1])):\n",
    "                node=interest_node(self.periods[i],self.rates[i][(j*2)],tree_convention.UP)\n",
    "                tlevel.append(node)\n",
    "                node=interest_node(self.periods[i],self.rates[i][(2*j)+1],tree_convention.DOWN)\n",
    "                tlevel.append(node)\n",
    "            self.levels.append(tlevel)\n",
    "    \n",
    "    def __repr__(self):\n",
    "        return 'Interest_tree: {}'.format(self.levels)\n",
    "                \n",
    "\n",
    "class bond_node():\n",
    "    def __init__(self, period, price, state, maturity,expected_price=None):\n",
    "        self.period = period\n",
    "        self.price = price\n",
    "        self.state = state\n",
    "        self.maturity = maturity\n",
    "        self.expected_price=expected_price\n",
    "        self.rn_probUP=1/2\n",
    "        self.rn_probDOWN=1/2\n",
    "\n",
    "    def __repr__(self):\n",
    "        return 'period: {}\\nstate: {}\\nprice: {:.2f}\\nmaturity: {}'.format(self.period, self.state, self.price, self.maturity)\n",
    "\n",
    "class Binary_Bond_Tree():\n",
    "    def __init__(self, periods, price, face_value, interest_tree, maturity):\n",
    "        self.periods = np.array(periods)\n",
    "        self.price = price\n",
    "        self.face_value = face_value\n",
    "        self.levels = []\n",
    "        self.interest_tree = interest_tree\n",
    "        self.maturity = maturity\n",
    "        self.populate_expected_prices()\n",
    "        self.create_terminal_conditions()\n",
    "        self.populate_risk_neutral_probabilities_prices()\n",
    "\n",
    "    def populate_expected_prices(self):\n",
    "        self.levels.append([bond_node(0,self.price,tree_convention.ORIGIN,self.maturity,\\\n",
    "            self.price*np.exp(float(self.interest_tree.levels[0][0].rate)*float(self.periods[1])))])\n",
    "        for i in range(1,len(self.periods)-1):\n",
    "            tlevel=[]\n",
    "            for j in range(len(self.levels[i-1])):\n",
    "                tprice=float(self.levels[i-1][j].expected_price)\n",
    "                tpriceUP=tprice*np.exp(float(self.interest_tree.levels[i][j].rate)*(float(self.periods[i+1])-float(self.periods[i])))\n",
    "                tpriceDOWN=tprice*np.exp(float(self.interest_tree.levels[i][j+1].rate)*(float(self.periods[i+1])-float(self.periods[i])))\n",
    "                tlevel.append(bond_node(self.periods[i],0,tree_convention.UP,self.maturity,tpriceUP))\n",
    "                tlevel.append(bond_node(self.periods[i],0,tree_convention.DOWN,self.maturity,tpriceDOWN))\n",
    "            self.levels.append(tlevel)\n",
    "\n",
    "    def create_terminal_conditions(self):\n",
    "        tprices_end=[[bond_node(self.maturity,self.face_value,tree_convention.TERMINAL,self.maturity)]*(2**len(self.periods))]\n",
    "        tprices=[]\n",
    "        for j in range(int(len(tprices_end[0])/4)):\n",
    "            tpriceUP=self.face_value*np.exp(-float(self.interest_tree.levels[-1][(2*j)].rate)*(float(self.maturity)-float(self.periods[-1])))\n",
    "            tprices.append(bond_node(self.periods[-1],tpriceUP,tree_convention.UP,self.maturity))\n",
    "            tpriceDOWN=self.face_value*np.exp(-float(self.interest_tree.levels[-1][(2*j)+1].rate)*(float(self.maturity)-float(self.periods[-1])))\n",
    "            tprices.append(bond_node(self.periods[-1],tpriceDOWN,tree_convention.DOWN,self.maturity))\n",
    "        self.levels.append(tprices)\n",
    "        self.levels.append(tprices_end[0])\n",
    "\n",
    "    def populate_risk_neutral_probabilities_prices(self):\n",
    "        for i in range(-3,-len(self.levels)-1,-1):\n",
    "            for ii in range(len(self.levels[i])):\n",
    "                probUP=(self.levels[i][ii].expected_price-self.levels[i+1][ii*2+1].price)/(self.levels[i+1][ii*2].price-self.levels[i+1][ii*2+1].price)\n",
    "                self.levels[i][ii].rn_probUP=probUP\n",
    "                self.levels[i][ii].rn_probDOWN=1-probUP\n",
    "                self.levels[i][ii].price=self.levels[i][ii].expected_price*\\\n",
    "                    np.exp(-float(self.interest_tree.levels[i+1][ii].rate)*(float(self.periods[i+2])-float(self.periods[i+1])))\n",
    "\n",
    "    def __repr__(self):\n",
    "        tree_str = 'Binary_Bond_tree:\\n'\n",
    "        tree_str += '                               Maturity: {}\\n'.format(self.maturity)\n",
    "        for level_index, level in enumerate(self.levels[:-1]):\n",
    "            level_str = '  ' * level_index\n",
    "            for node in level:\n",
    "                node_str = '[state: {}, price: {:.2f}]'.format(\n",
    "                    node.state, node.price)\n",
    "                level_str += node_str + '  '\n",
    "            tree_str += 'period: {} '.format(node.period) + level_str.strip() + '\\n'\n",
    "        return tree_str.strip()\n",
    "            "
   ]
  },
  {
   "cell_type": "code",
   "execution_count": 503,
   "id": "a2381d80",
   "metadata": {},
   "outputs": [
    {
     "name": "stdout",
     "output_type": "stream",
     "text": [
      "Binary_Bond_tree:\n",
      "                               Maturity: 1\n",
      "period: 0 [state: 0, price: 97.89]\n",
      "period: 0.5 [state: 1, price: 98.32]  [state: -1, price: 99.53]\n"
     ]
    }
   ],
   "source": [
    "interest_tree=Interest_Tree(rate_tree.columns,rate_tree.values.T)\n",
    "bond_tree=Binary_Bond_Tree(rate_tree.columns,term_struct.loc[1,'price'],100,interest_tree,1)\n",
    "print(bond_tree)"
   ]
  },
  {
   "cell_type": "markdown",
   "id": "f67eb39d",
   "metadata": {},
   "source": [
    "\n",
    "### 1.2 \n",
    "What is the risk-neutral probability of an upward movement of interest rates at $t=.5$?\n"
   ]
  },
  {
   "cell_type": "code",
   "execution_count": 504,
   "id": "5db24de4",
   "metadata": {},
   "outputs": [
    {
     "name": "stdout",
     "output_type": "stream",
     "text": [
      "Risk Neutral Probability Up:  64.49 %\n"
     ]
    }
   ],
   "source": [
    "print('Risk Neutral Probability Up: ', round(bond_tree.levels[0][0].rn_probUP*100,2),'%')"
   ]
  },
  {
   "cell_type": "markdown",
   "id": "a540f210",
   "metadata": {},
   "source": [
    "\n",
    "## The option contract\n",
    "\n",
    "Consider a single-period swap that pays at time period 1 ($t=0.5$), the expiration payoff (and thus terminal value) is\n",
    "* Payoff = $\\frac{100}{2}(r_1 −c)$\n",
    "* with $c=2\\%$\n",
    "* payments are semiannual\n",
    "\n",
    "Take the viewpoint of a fixed-rate payer, floating rate receiver.\n"
   ]
  },
  {
   "cell_type": "markdown",
   "id": "b4222dfd",
   "metadata": {},
   "source": [
    "\n",
    "### 1.3 \n",
    "What is the replicating trade using the two bonds (period 1 and period 2)?\n"
   ]
  },
  {
   "cell_type": "code",
   "execution_count": 505,
   "id": "ebee4ef1",
   "metadata": {},
   "outputs": [
    {
     "name": "stdout",
     "output_type": "stream",
     "text": [
      "Alpha:  1.0008624033025624\n",
      "Beta:  -1.0109028054163192\n"
     ]
    }
   ],
   "source": [
    "flows_swap=(100/2)*(np.array([x.rate for x in interest_tree.levels[1]]) - 0.02)\n",
    "beta=(flows_swap[0]-flows_swap[1])/(bond_tree.levels[1][0].price-bond_tree.levels[1][1].price)\n",
    "alpha=(flows_swap[0]-beta*bond_tree.levels[1][0].price)/100\n",
    "print('Alpha: ', alpha)\n",
    "print('Beta: ', beta)"
   ]
  },
  {
   "cell_type": "code",
   "execution_count": 506,
   "id": "e74ab3c2",
   "metadata": {},
   "outputs": [
    {
     "name": "stdout",
     "output_type": "stream",
     "text": [
      "Positions: \n",
      "Bonds period 1:  1.0009 \n",
      "Bonds period 2:  -1.0109\n"
     ]
    }
   ],
   "source": [
    "print('Positions: \\nBonds period 1: ', round(alpha,4), '\\nBonds period 2: ', round(beta,4))"
   ]
  },
  {
   "cell_type": "markdown",
   "id": "32b93125",
   "metadata": {},
   "source": [
    "\n",
    "### 1.4 \n",
    "What is the price of the swap?"
   ]
  },
  {
   "cell_type": "code",
   "execution_count": 507,
   "id": "3bb591cf",
   "metadata": {},
   "outputs": [
    {
     "name": "stdout",
     "output_type": "stream",
     "text": [
      "Price of the swap [USD]:  0.2595\n"
     ]
    }
   ],
   "source": [
    "swap_p0=(alpha*term_struct.loc[0.5,'price'])+(beta*term_struct.loc[1,'price'])\n",
    "print('Price of the swap [USD]: ', round(swap_p0,4))"
   ]
  },
  {
   "cell_type": "markdown",
   "id": "0e57d389",
   "metadata": {},
   "source": [
    "# 2. Using the Swap as the Underlying\n",
    "As in the note, W.1, consider pricing the followign interest-rate option,\n",
    "* Payoff is $100\\max(r_K-r_1,0)$\n",
    "* strike is $r_K$ is 2\\%\n",
    "* expires at period 1, ($t=0.5$) \n",
    "\n",
    "Unlike the note, price it with the swap used as the underlying, not the two-period ($t=1$) bond. You will once again use the period-1 ($t=0.5$) bond as the cash account for the no-arbitrage pricing.\n",
    "\n",
    "So instead of replicating the option with the two treasuries, now you're replicating/pricing it with a one-period bond and two-period swap.\n"
   ]
  },
  {
   "cell_type": "markdown",
   "id": "10da74ad",
   "metadata": {},
   "source": [
    "\n",
    "### 2.1\n",
    "Display the tree of swap prices.\n"
   ]
  },
  {
   "cell_type": "code",
   "execution_count": 508,
   "id": "f6e6e63b",
   "metadata": {},
   "outputs": [
    {
     "data": {
      "text/plain": [
       "Interest_tree: [[rate: 1.74%\n",
       "period: 0\n",
       "state: 0], [rate: 3.39%\n",
       "period: 0.5\n",
       "state: 1, rate: 0.95%\n",
       "period: 0.5\n",
       "state: -1]]"
      ]
     },
     "execution_count": 508,
     "metadata": {},
     "output_type": "execute_result"
    }
   ],
   "source": [
    "interest_tree"
   ]
  },
  {
   "cell_type": "code",
   "execution_count": 509,
   "id": "4d92b2a2",
   "metadata": {},
   "outputs": [
    {
     "data": {
      "text/plain": [
       "[0, 1.05]"
      ]
     },
     "execution_count": 509,
     "metadata": {},
     "output_type": "execute_result"
    }
   ],
   "source": [
    "flows=[100*max(y,0) for y in 0.02-np.array([x.rate for x in interest_tree.levels[1]])]\n",
    "flows"
   ]
  },
  {
   "cell_type": "code",
   "execution_count": 510,
   "id": "33c5e65c",
   "metadata": {},
   "outputs": [
    {
     "name": "stdout",
     "output_type": "stream",
     "text": [
      "Swap prices:\n",
      "Period 0 =  0.2595\n",
      "Period 0.5 =  up:  0.695 \\ down:  -0.525\n"
     ]
    }
   ],
   "source": [
    "print('Swap prices:')\n",
    "print('Period 0 = ', round(swap_p0,4))\n",
    "print('Period 0.5 = ', 'up: ', round(flows_swap[0],4), '\\ down: ', round(flows_swap[1],4))"
   ]
  },
  {
   "cell_type": "markdown",
   "id": "8954bc33",
   "metadata": {},
   "source": [
    "\n",
    "### 2.2\n",
    "What is the risk-neutral probability of an upward movement at $t=.5$ implied by the underlying swap tree? \n",
    "\n",
    "Is this the same as the risk-neutral probability we found when the bond was used as the underlying?\n"
   ]
  },
  {
   "cell_type": "code",
   "execution_count": 511,
   "id": "885866eb",
   "metadata": {},
   "outputs": [
    {
     "name": "stdout",
     "output_type": "stream",
     "text": [
      "Probability of swap up:  0.434\n",
      "Probability found through the bond:  0.6449\n"
     ]
    }
   ],
   "source": [
    "probability_swap_up=((swap_p0*interest_tree.levels[0][0].rate)-flows_swap[1])/(flows_swap[0]-flows_swap[1])\n",
    "print('Probability of swap up: ', round(probability_swap_up,4))\n",
    "print('Probability found through the bond: ', round(bond_tree.levels[0][0].rn_probUP,4))"
   ]
  },
  {
   "cell_type": "markdown",
   "id": "fc29390f",
   "metadata": {},
   "source": [
    "\n",
    "### 2.3\n",
    "What is the price of the rate option? Is it the same as we calculated in the note, W.1.?"
   ]
  },
  {
   "cell_type": "code",
   "execution_count": 512,
   "id": "c3c774f6",
   "metadata": {},
   "outputs": [
    {
     "name": "stdout",
     "output_type": "stream",
     "text": [
      "Alpha swap:  0.006\n",
      "Beta swap:  -0.8607\n",
      "\n",
      "Positions swap: \n",
      "Bonds period 1:  0.006 \n",
      "Swaps:  -0.8607\n",
      "\n",
      "Price of the instrument [USD]:  0.3696\n"
     ]
    }
   ],
   "source": [
    "beta_swap=(flows[0]-flows[1])/(flows_swap[0]-flows_swap[1])\n",
    "alpha_swap=(flows[0]-beta_swap*flows_swap[0])/100\n",
    "print('Alpha swap: ', round(alpha_swap,4))\n",
    "print('Beta swap: ', round(beta_swap,4))\n",
    "print('\\nPositions swap: \\nBonds period 1: ', round(alpha_swap,4), '\\nSwaps: ', round(beta_swap,4))\n",
    "print('\\nPrice of the instrument [USD]: ', round(alpha_swap*term_struct.loc[0.5,'price']+beta_swap*swap_p0, 4))"
   ]
  },
  {
   "cell_type": "markdown",
   "id": "2360f491",
   "metadata": {},
   "source": [
    "# 3. Pricing a Call on a Bond\n",
    "\n",
    "Try using the same tree to price a call on the period-2 bond, (1-year), at period 1 (6-months).\n",
    "* Payoff = $\\max(P_{1|2}-K,0)$\n",
    "* Strike = \\$99.00\n",
    "\n",
    "### 3.1 \n",
    "What is the replicating trade using the two bonds (period 1 and period 2) as above? (That is, we are no longer using the swap as the underlying.)\n"
   ]
  },
  {
   "cell_type": "code",
   "execution_count": 513,
   "id": "3f818619",
   "metadata": {},
   "outputs": [
    {
     "data": {
      "text/plain": [
       "[0, 0.5261263409211807]"
      ]
     },
     "execution_count": 513,
     "metadata": {},
     "output_type": "execute_result"
    }
   ],
   "source": [
    "K=99\n",
    "flows_call=[max(y, 0) for y in np.array([x.price for x in bond_tree.levels[1]])-K]\n",
    "flows_call"
   ]
  },
  {
   "cell_type": "code",
   "execution_count": 514,
   "id": "9b3b9c29",
   "metadata": {},
   "outputs": [
    {
     "name": "stdout",
     "output_type": "stream",
     "text": [
      "Alpha call:  -0.4286\n",
      "Beta call:  0.436\n",
      "\n",
      "Positions call: \n",
      "Bonds period 1:  -0.4286 \n",
      "Bonds period 2:  0.436\n"
     ]
    }
   ],
   "source": [
    "beta_call=(flows_call[0]-flows_call[1])/(bond_tree.levels[1][0].price-bond_tree.levels[1][1].price)\n",
    "alpha_call=(flows_call[0]-beta_call*bond_tree.levels[1][0].price)/100\n",
    "print('Alpha call: ', round(alpha_call,4))\n",
    "print('Beta call: ', round(beta_call,4))\n",
    "print('\\nPositions call: \\nBonds period 1: ', round(alpha_call,4), '\\nBonds period 2: ', round(beta_call,4))"
   ]
  },
  {
   "cell_type": "markdown",
   "id": "f3373846",
   "metadata": {},
   "source": [
    "\n",
    "### 3.2 \n",
    "What is the price of the European call option? \n",
    "* expiring at $T=.5$ \n",
    "* written on the bond maturing in 2 periods, ($t=1$)"
   ]
  },
  {
   "cell_type": "code",
   "execution_count": 515,
   "id": "f3358da5",
   "metadata": {},
   "outputs": [
    {
     "name": "stdout",
     "output_type": "stream",
     "text": [
      "Price of the instrument [USD]:  0.1852\n"
     ]
    }
   ],
   "source": [
    "print('Price of the instrument [USD]: ', round(alpha_call*term_struct.loc[0.5,'price']+beta_call*term_struct.loc[1,'price'], 4))"
   ]
  },
  {
   "cell_type": "markdown",
   "id": "4db6785c",
   "metadata": {},
   "source": [
    "# 4 Two-Period Tree\n",
    "\n",
    "Consider an expanded, **2 period** tree. (Two periods of uncertainty, so with the starting point, three periods total.)"
   ]
  },
  {
   "cell_type": "code",
   "execution_count": 516,
   "id": "484577f2",
   "metadata": {},
   "outputs": [
    {
     "data": {
      "text/html": [
       "<style type=\"text/css\">\n",
       "</style>\n",
       "<table id=\"T_78915\">\n",
       "  <thead>\n",
       "    <tr>\n",
       "      <th class=\"index_name level0\" >time $t$</th>\n",
       "      <th id=\"T_78915_level0_col0\" class=\"col_heading level0 col0\" >0</th>\n",
       "      <th id=\"T_78915_level0_col1\" class=\"col_heading level0 col1\" >0.5</th>\n",
       "      <th id=\"T_78915_level0_col2\" class=\"col_heading level0 col2\" >1</th>\n",
       "    </tr>\n",
       "    <tr>\n",
       "      <th class=\"index_name level0\" >node</th>\n",
       "      <th class=\"blank col0\" >&nbsp;</th>\n",
       "      <th class=\"blank col1\" >&nbsp;</th>\n",
       "      <th class=\"blank col2\" >&nbsp;</th>\n",
       "    </tr>\n",
       "  </thead>\n",
       "  <tbody>\n",
       "    <tr>\n",
       "      <th id=\"T_78915_level0_row0\" class=\"row_heading level0 row0\" >0</th>\n",
       "      <td id=\"T_78915_row0_col0\" class=\"data row0 col0\" >1.74%</td>\n",
       "      <td id=\"T_78915_row0_col1\" class=\"data row0 col1\" >3.39%</td>\n",
       "      <td id=\"T_78915_row0_col2\" class=\"data row0 col2\" >5.00%</td>\n",
       "    </tr>\n",
       "    <tr>\n",
       "      <th id=\"T_78915_level0_row1\" class=\"row_heading level0 row1\" >1</th>\n",
       "      <td id=\"T_78915_row1_col0\" class=\"data row1 col0\" ></td>\n",
       "      <td id=\"T_78915_row1_col1\" class=\"data row1 col1\" >0.95%</td>\n",
       "      <td id=\"T_78915_row1_col2\" class=\"data row1 col2\" >2.56%</td>\n",
       "    </tr>\n",
       "    <tr>\n",
       "      <th id=\"T_78915_level0_row2\" class=\"row_heading level0 row2\" >2</th>\n",
       "      <td id=\"T_78915_row2_col0\" class=\"data row2 col0\" ></td>\n",
       "      <td id=\"T_78915_row2_col1\" class=\"data row2 col1\" ></td>\n",
       "      <td id=\"T_78915_row2_col2\" class=\"data row2 col2\" >0.11%</td>\n",
       "    </tr>\n",
       "  </tbody>\n",
       "</table>\n"
      ],
      "text/plain": [
       "<pandas.io.formats.style.Styler at 0x143a19990>"
      ]
     },
     "execution_count": 516,
     "metadata": {},
     "output_type": "execute_result"
    }
   ],
   "source": [
    "new_col = pd.Series([.05,.0256,.0011],name='1')\n",
    "rate_tree_multi = pd.concat([rate_tree,new_col],ignore_index=True,axis=1)\n",
    "rate_tree_multi.columns = pd.Series(['0','0.5','1'],name='time $t$')\n",
    "rate_tree_multi.index.name = 'node'\n",
    "rate_tree_multi.style.format('{:.2%}',na_rep='')"
   ]
  },
  {
   "cell_type": "markdown",
   "id": "7e454eb1",
   "metadata": {},
   "source": [
    "### 4.1\n",
    "\n",
    "Calculate and show the tree of prices for the 3-period bond, $T=1.5$.\n"
   ]
  },
  {
   "cell_type": "code",
   "execution_count": 517,
   "id": "c37b117e",
   "metadata": {},
   "outputs": [
    {
     "data": {
      "text/html": [
       "<div>\n",
       "<style scoped>\n",
       "    .dataframe tbody tr th:only-of-type {\n",
       "        vertical-align: middle;\n",
       "    }\n",
       "\n",
       "    .dataframe tbody tr th {\n",
       "        vertical-align: top;\n",
       "    }\n",
       "\n",
       "    .dataframe thead th {\n",
       "        text-align: right;\n",
       "    }\n",
       "</style>\n",
       "<table border=\"1\" class=\"dataframe\">\n",
       "  <thead>\n",
       "    <tr style=\"text-align: right;\">\n",
       "      <th>time $t$</th>\n",
       "      <th>0</th>\n",
       "      <th>0.5</th>\n",
       "      <th>1</th>\n",
       "    </tr>\n",
       "    <tr>\n",
       "      <th>node</th>\n",
       "      <th></th>\n",
       "      <th></th>\n",
       "      <th></th>\n",
       "    </tr>\n",
       "  </thead>\n",
       "  <tbody>\n",
       "    <tr>\n",
       "      <th>0</th>\n",
       "      <td>0.0174</td>\n",
       "      <td>0.0339</td>\n",
       "      <td>0.0500</td>\n",
       "    </tr>\n",
       "    <tr>\n",
       "      <th>1</th>\n",
       "      <td>NaN</td>\n",
       "      <td>0.0095</td>\n",
       "      <td>0.0256</td>\n",
       "    </tr>\n",
       "    <tr>\n",
       "      <th>2</th>\n",
       "      <td>NaN</td>\n",
       "      <td>NaN</td>\n",
       "      <td>0.0011</td>\n",
       "    </tr>\n",
       "  </tbody>\n",
       "</table>\n",
       "</div>"
      ],
      "text/plain": [
       "time $t$       0     0.5       1\n",
       "node                            \n",
       "0         0.0174  0.0339  0.0500\n",
       "1            NaN  0.0095  0.0256\n",
       "2            NaN     NaN  0.0011"
      ]
     },
     "execution_count": 517,
     "metadata": {},
     "output_type": "execute_result"
    }
   ],
   "source": [
    "rate_tree_multi"
   ]
  },
  {
   "cell_type": "code",
   "execution_count": 518,
   "id": "3ee3fc1b",
   "metadata": {},
   "outputs": [
    {
     "data": {
      "text/html": [
       "<div>\n",
       "<style scoped>\n",
       "    .dataframe tbody tr th:only-of-type {\n",
       "        vertical-align: middle;\n",
       "    }\n",
       "\n",
       "    .dataframe tbody tr th {\n",
       "        vertical-align: top;\n",
       "    }\n",
       "\n",
       "    .dataframe thead th {\n",
       "        text-align: right;\n",
       "    }\n",
       "</style>\n",
       "<table border=\"1\" class=\"dataframe\">\n",
       "  <thead>\n",
       "    <tr style=\"text-align: right;\">\n",
       "      <th>time $t$</th>\n",
       "      <th>0</th>\n",
       "      <th>0.5</th>\n",
       "      <th>1</th>\n",
       "    </tr>\n",
       "    <tr>\n",
       "      <th>node</th>\n",
       "      <th></th>\n",
       "      <th></th>\n",
       "      <th></th>\n",
       "    </tr>\n",
       "  </thead>\n",
       "  <tbody>\n",
       "    <tr>\n",
       "      <th>0</th>\n",
       "      <td>0.0174</td>\n",
       "      <td>0.0339</td>\n",
       "      <td>0.0500</td>\n",
       "    </tr>\n",
       "    <tr>\n",
       "      <th>1</th>\n",
       "      <td>NaN</td>\n",
       "      <td>0.0095</td>\n",
       "      <td>0.0256</td>\n",
       "    </tr>\n",
       "    <tr>\n",
       "      <th>2</th>\n",
       "      <td>NaN</td>\n",
       "      <td>NaN</td>\n",
       "      <td>0.0256</td>\n",
       "    </tr>\n",
       "    <tr>\n",
       "      <th>3</th>\n",
       "      <td>NaN</td>\n",
       "      <td>NaN</td>\n",
       "      <td>0.0011</td>\n",
       "    </tr>\n",
       "  </tbody>\n",
       "</table>\n",
       "</div>"
      ],
      "text/plain": [
       "time $t$       0     0.5       1\n",
       "node                            \n",
       "0         0.0174  0.0339  0.0500\n",
       "1            NaN  0.0095  0.0256\n",
       "2            NaN     NaN  0.0256\n",
       "3            NaN     NaN  0.0011"
      ]
     },
     "execution_count": 518,
     "metadata": {},
     "output_type": "execute_result"
    }
   ],
   "source": [
    "ad_rate_tree_multi = rate_tree_multi.copy()\n",
    "col1 = list(ad_rate_tree_multi['1'])\n",
    "tcol=[]\n",
    "for i in range(len(col1)):\n",
    "    tcol.append(col1[i])\n",
    "    if i==1:\n",
    "        tcol.append(col1[i])\n",
    "\n",
    "ad_rate_tree_multi.loc[len(ad_rate_tree_multi)] = np.nan\n",
    "ad_rate_tree_multi.loc[:,'1'] = tcol\n",
    "ad_rate_tree_multi"
   ]
  },
  {
   "cell_type": "code",
   "execution_count": 519,
   "id": "e9d8233a",
   "metadata": {},
   "outputs": [
    {
     "name": "stdout",
     "output_type": "stream",
     "text": [
      "Binary_Bond_tree:\n",
      "                               Maturity: 1.5\n",
      "period: 0 [state: 0, price: 96.15]\n",
      "period: 0.5 [state: 1, price: 96.99]  [state: -1, price: 96.99]\n",
      "period: 1 [state: 1, price: 97.53]  [state: -1, price: 98.73]  [state: 1, price: 98.73]  [state: -1, price: 99.95]\n"
     ]
    }
   ],
   "source": [
    "interest_tree_multi=Interest_Tree(ad_rate_tree_multi.columns,ad_rate_tree_multi.values.T)\n",
    "bond_tree_multi=Binary_Bond_Tree(ad_rate_tree_multi.columns,term_struct.loc[1.5,'price'],100,interest_tree_multi,1.5)\n",
    "print(bond_tree_multi)"
   ]
  },
  {
   "cell_type": "markdown",
   "id": "e9de5db6",
   "metadata": {},
   "source": [
    "\n",
    "### 4.2\n",
    "Report the risk-neutral probability of an up movement at $t=1$.\n",
    "\n",
    "(The risk-neutral probability of an up movement at $t=0.5$ continues to be as you calculated in 2.3.\n"
   ]
  },
  {
   "cell_type": "code",
   "execution_count": 520,
   "id": "e8adb6e9",
   "metadata": {},
   "outputs": [
    {
     "name": "stdout",
     "output_type": "stream",
     "text": [
      "Risk Neutral Probability Up:  7.01 %\n"
     ]
    }
   ],
   "source": [
    "print('Risk Neutral Probability Up: ', round(bond_tree_multi.levels[1][0].rn_probUP*100,2),'%')"
   ]
  },
  {
   "cell_type": "markdown",
   "id": "7cf9895f",
   "metadata": {},
   "source": [
    "\n",
    "### 4.3\n",
    "Calculate the price of the European **call** option?\n",
    "* expiring at $T=1$ \n",
    "* written on the bond maturing in 3 periods, ($t=1.5$)\n"
   ]
  },
  {
   "cell_type": "markdown",
   "id": "7e72d3e8",
   "metadata": {},
   "source": [
    "\n",
    "### 4.4\n",
    "Consider a finer time grid. Let $dt$ in the tree now be 1/30 instead of 0.5.\n",
    "\n",
    "Using this smaller time step, compute the $t=0$ price of the following option:\n",
    "* option expires at $t=1$\n",
    "* written on bond maturing at $t=1.5"
   ]
  },
  {
   "cell_type": "markdown",
   "id": "46eccfaf",
   "metadata": {},
   "source": [
    "# 5 American Style\n",
    "### 5.1\n",
    "Use the two-period tree from part 4, but this time to price an American-style **put** option.\n",
    "\n",
    "Use a grid of $dt=.5$.\n",
    "* What is its value at $t=0$?\n",
    "* Which nodes would you exercise it early?\n",
    "\n",
    "### 5.2\n",
    "Change the grid to $dt=1/30$, as in 4.4. \n",
    "* What is its value at $t=0$?\n",
    "* Make a visualization showing which nodes have early exercise. (I suggest using a dataframe and the `heatmap` from `seaborn`."
   ]
  }
 ],
 "metadata": {
  "hide_input": true,
  "kernelspec": {
   "display_name": "Python 3 (ipykernel)",
   "language": "python",
   "name": "python3"
  },
  "language_info": {
   "codemirror_mode": {
    "name": "ipython",
    "version": 3
   },
   "file_extension": ".py",
   "mimetype": "text/x-python",
   "name": "python",
   "nbconvert_exporter": "python",
   "pygments_lexer": "ipython3",
   "version": "3.11.6"
  }
 },
 "nbformat": 4,
 "nbformat_minor": 5
}
