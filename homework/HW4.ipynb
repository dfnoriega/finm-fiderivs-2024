{
 "cells": [
  {
   "cell_type": "markdown",
   "id": "4259a0cc",
   "metadata": {},
   "source": [
    "# Homework 4\n",
    "\n",
    "## FINM 37500: Fixed Income Derivatives\n",
    "\n",
    "### Mark Hendricks\n",
    "\n",
    "#### Winter 2024"
   ]
  },
  {
   "cell_type": "markdown",
   "id": "734d0514",
   "metadata": {},
   "source": [
    "***"
   ]
  },
  {
   "cell_type": "code",
   "execution_count": 55,
   "id": "178fbdf8",
   "metadata": {},
   "outputs": [],
   "source": [
    "import pandas as pd\n",
    "import numpy as np\n",
    "import matplotlib.pyplot as plt\n",
    "import seaborn as sns"
   ]
  },
  {
   "cell_type": "code",
   "execution_count": 56,
   "id": "c510624d",
   "metadata": {},
   "outputs": [],
   "source": [
    "from scipy.stats import norm\n",
    "from scipy.optimize import minimize\n",
    "\n",
    "def Blacks_formula(sigma, maturity, strike, F, discount, price='Call'):\n",
    "    '''\n",
    "    Inputs: Volatility, Maturity, strike, Forward, discount, and type of option 'Call' or 'Put'\n",
    "    Returns option's price.\n",
    "    '''\n",
    "    vol=sigma\n",
    "    T=maturity\n",
    "    K=strike\n",
    "    Z=discount\n",
    "    d1=(np.log(F/K)+(((vol**2)*T)/2))/(vol*(T**(1/2)))\n",
    "    d2=d1-(vol*(T**(1/2)))\n",
    "    if price=='Call':\n",
    "        return Z*((F*norm.cdf(d1))-(K*norm.cdf(d2)))\n",
    "    if price=='Put':\n",
    "        return Z*((K*norm.cdf(-d2))-(F*norm.cdf(-d1)))\n",
    "\n",
    "def price_cap_floor(sigma, maturity, strike, F, discount, instrument='Cap', n=4):\n",
    "    if np.isnan(sigma):\n",
    "        return np.nan\n",
    "    if instrument=='Cap':\n",
    "        price='Call'\n",
    "    if instrument == 'Floor':\n",
    "        price='Put'\n",
    "    tp=0\n",
    "    for i in range(2,int(n*maturity)+1):\n",
    "        tp+=Blacks_formula(sigma, (i/n)-(1/n), strike, F[i-1], discount[i-1], price)\n",
    "    return (100/n)*tp\n",
    "\n",
    "def forward_vols_from_instrument_prices(cap_prices, maturities, strikes, Fs, discounts, price='Call'):\n",
    "    cap_prices=np.array(cap_prices)\n",
    "    maturities=np.array(maturities)\n",
    "    strikes=np.array(strikes)\n",
    "    Fs=np.array(Fs)\n",
    "    discounts=np.array(discounts)\n",
    "\n",
    "    n=1/(maturities[1]-maturities[0])\n",
    "    res=np.zeros((len(cap_prices)))\n",
    "    \n",
    "    for i, cap_price in enumerate(cap_prices):\n",
    "        if np.isnan(cap_price):\n",
    "            res[i]=np.nan\n",
    "        else:\n",
    "            tp=0\n",
    "            for ii in range(i):\n",
    "                if not np.isnan(res[ii]):\n",
    "                    tp+=Blacks_formula(res[ii],maturities[ii-1],strikes[i],Fs[ii],discounts[ii],price)\n",
    "            ttp=cap_price-(tp*100/n)\n",
    "            def helper(sigma):\n",
    "                return ((Blacks_formula(sigma, maturities[i-1], strikes[i], Fs[i], discounts[i], price)*100/n) - (ttp))**2\n",
    "            res[i]=minimize(helper,[0.05], tol=1e-8).x[0]\n",
    "    return res\n",
    "\n",
    "def continuous_from_discount(discount, maturity):\n",
    "    '''Returns the continuous rate from the discount factor and the maturity'''\n",
    "    return -np.log(discount)/maturity\n",
    "\n",
    "def compounded_from_discount(discount, maturity, freq=2):\n",
    "    '''Returns the compounded rate from the discount factor and the maturity'''\n",
    "    return ((1/discount)**(1/(maturity*freq))-1)*freq\n",
    "\n",
    "def discount_from_continuous(continuous, maturity):\n",
    "    '''Returns the discount factor from the continuous rate and the maturity'''\n",
    "    return np.exp(-continuous*maturity)\n",
    "\n",
    "def discount_from_compounded(compounded, maturity, freq=2):\n",
    "    '''Returns the discount factor from the compounded rate and the maturity'''\n",
    "    return (1+compounded/freq)**(-maturity*freq)\n",
    "\n",
    "def display_tree(periods, levels, attribute):\n",
    "    temp=pd.DataFrame()\n",
    "    for i in range(1,len(levels)+1):\n",
    "        temp_level=[]\n",
    "        for j in range(len(levels[-i])):\n",
    "            temp_level.append(getattr(levels[-i][j],attribute))\n",
    "        temp[round(periods[-i],2)]=temp_level+['']*(len(levels[-1])-len(temp_level))\n",
    "    temp.sort_index(axis=1, inplace=True)\n",
    "    temp.columns=temp.columns.astype(str)\n",
    "    return temp.style.format(\"{:.2}\")\n",
    "        \n",
    "def display_tree_no_attribute(periods, levels):\n",
    "    temp=pd.DataFrame()\n",
    "    for i in range(1,len(levels)+1):\n",
    "        temp_level=[]\n",
    "        for j in range(len(levels[-i])):\n",
    "            temp_level.append(levels[-i][j])\n",
    "        temp[round(periods[-i],2)]=temp_level+['']*(len(levels[-1])-len(temp_level))\n",
    "    temp.sort_index(axis=1, inplace=True)\n",
    "    temp.columns=temp.columns.astype(str)\n",
    "    return temp\n",
    "    \n",
    "class tree_convention:\n",
    "    UP=1\n",
    "    DOWN=-1\n",
    "    ORIGIN=0\n",
    "    TERMINAL=2\n",
    "    DUMMY=3\n",
    "    \n",
    "class interest_node():\n",
    "    def __init__(self, period, rate, state=tree_convention.DUMMY):\n",
    "        self.period = period\n",
    "        self.rate = rate\n",
    "        self.state = state\n",
    "\n",
    "    def __repr__(self):\n",
    "        return 'rate: {:.2%}\\nperiod: {}\\nstate: {}'.format(self.rate,self.period,self.state)\n",
    "    \n",
    "class Interest_Tree():\n",
    "    def __init__(self, periods, rates=None):\n",
    "        self.periods = periods\n",
    "        self.rates = rates\n",
    "        self.levels = []\n",
    "\n",
    "    def tree_from_discounts_theta_sigma(self,discounts,theta,sigma,freq=4):\n",
    "        self.levels.append([interest_node(0,continuous_from_discount(discounts[0],1/freq),tree_convention.ORIGIN)])\n",
    "        for i in range(1,len(self.periods)):\n",
    "            tlevel=[]\n",
    "            ttheta=theta[i-1]\n",
    "            tsigma=sigma[i-1]\n",
    "            for j in range(len(self.levels[i-1])):\n",
    "                trate=self.levels[i-1][j].rate\n",
    "                tlrate=np.log(trate*100)\n",
    "                tlrateup=tlrate+(ttheta*(1/freq))+(tsigma*np.sqrt(1/freq))\n",
    "                trateup=np.exp(tlrateup)/100                   \n",
    "                node=interest_node(self.periods[i],trateup)\n",
    "                tlevel.append(node)\n",
    "                if j == i-1:\n",
    "                    tlratedown=tlrate+(ttheta*(1/freq))-(tsigma*np.sqrt(1/freq))\n",
    "                    tratedown=np.exp(tlratedown)/100\n",
    "                    node=interest_node(self.periods[i],tratedown)\n",
    "                    tlevel.append(node)\n",
    "            self.levels.append(tlevel)\n",
    "\n",
    "    def __repr__(self):\n",
    "        tree_str = 'Rates_Tree [%]:\\n'\n",
    "        for level_index, level in enumerate(self.levels):\n",
    "            level_str = '  ' * level_index\n",
    "            for node in level:\n",
    "                node_str = '{:.2f}'.format(\n",
    "                    node.rate*100)\n",
    "                level_str += node_str + ' '\n",
    "            tree_str += 'period: {} ||'.format(node.period) + level_str.strip() + '\\n'\n",
    "        return tree_str.strip()\n",
    "                \n",
    "\n",
    "class bond_node():\n",
    "    def __init__(self, period, price, state, maturity,expected_price=None):\n",
    "        self.period = period\n",
    "        self.price = price\n",
    "        self.state = state\n",
    "        self.maturity = maturity\n",
    "        self.expected_price=expected_price\n",
    "        self.rn_probUP=1/2\n",
    "        self.rn_probDOWN=1/2\n",
    "\n",
    "    def __repr__(self):\n",
    "        return 'period: {}\\nstate: {}\\nprice: {:.2f}\\nmaturity: {}'.format(self.period, self.state, self.price, self.maturity)\n",
    "\n",
    "class Binary_Bond_Tree():\n",
    "    def __init__(self, periods=None, price=None, face_value=100, interest_tree=None, maturity=None):\n",
    "        self.periods = np.array(periods)\n",
    "        if len(price)<=1:\n",
    "            self.price=price\n",
    "        else:\n",
    "            self.price=np.array(price)\n",
    "        self.face_value = face_value\n",
    "        self.levels = []\n",
    "        self.interest_tree = interest_tree\n",
    "        self.maturity = maturity\n",
    "        self.thetas=[]\n",
    "        self.sigmas=np.zeros(())\n",
    "\n",
    "    def tree_from_sigmas(self,sigmas,periods=None, prices=None):\n",
    "        sigmas=np.array(sigmas)\n",
    "        if periods is not None:\n",
    "            self.periods=periods\n",
    "        freq=1/(self.periods[1]-self.periods[0])\n",
    "        if prices is not None:\n",
    "            self.price=prices\n",
    "        self.sigmas=sigmas\n",
    "        for i in range(len(self.periods)-2):\n",
    "            def helper(theta):\n",
    "                ttree=Interest_Tree(self.periods[:i+2])\n",
    "                ttree.tree_from_discounts_theta_sigma(self.price[:i+2]/100,np.append(self.thetas[:i],theta),sigmas[:i+2],freq)\n",
    "                tjprices=[]\n",
    "                for j in range(len(ttree.levels[-1])):\n",
    "                    tjprices.append(self.face_value*np.exp(-ttree.levels[-1][j].rate*(1/freq)))\n",
    "                for j in range(2,len(ttree.levels)+1):\n",
    "                    tkprices=[]\n",
    "                    for k in range(len(ttree.levels[-j])):\n",
    "                        average=(tjprices[k]+tjprices[k+1])/2\n",
    "                        tkprice=average*np.exp(-ttree.levels[-j][k].rate*(1/freq))\n",
    "                        tkprices.append(tkprice)\n",
    "                    tjprices=tkprices\n",
    "                if len(tjprices)!=1:\n",
    "                    print('Error', len(tjprices))\n",
    "                return (tjprices[0]-self.price[i+1])**2\n",
    "            theta=minimize(helper,[0.5], tol=1e-8).x[0]\n",
    "            self.thetas.append(theta)\n",
    "        ttree=Interest_Tree(self.periods[:-1])\n",
    "        ttree.tree_from_discounts_theta_sigma(self.price/100,self.thetas,sigmas,freq)\n",
    "        self.interest_tree=ttree\n",
    "\n",
    "    def __repr__(self):\n",
    "        tree_str = 'Binary_Bond_tree:\\n'\n",
    "        tree_str += '                               Maturity: {}\\n'.format(self.maturity)\n",
    "        for level_index, level in enumerate(self.levels[:-1]):\n",
    "            level_str = '  ' * level_index\n",
    "            for node in level:\n",
    "                node_str = '[state: {}, price: {:.2f}]'.format(\n",
    "                    node.state, node.price)\n",
    "                level_str += node_str + '  '\n",
    "            tree_str += 'period: {} '.format(node.period) + level_str.strip() + '\\n'\n",
    "        return tree_str.strip()\n",
    "    \n",
    "\n",
    "import numpy.polynomial.polynomial as poly\n",
    "\n",
    "\n",
    "### SABR\n",
    "\n",
    "def alpha_polynomial(beta, nu, rho, T, volATM, f):\n",
    "    \n",
    "    coefs = np.ones(4)\n",
    "    coefs[0] = (1-beta)**2 * T / (24*f**(2-2*beta))\n",
    "    coefs[1] = rho * beta * nu * T / (4*f**(1-beta))\n",
    "    coefs[2] = 1 + (2-3*rho**2) * nu**2 * T / 24\n",
    "    coefs[3] = -volATM * f**(1-beta)\n",
    "    \n",
    "    return np.poly1d(coefs)\n",
    "\n",
    "def solve_alpha(beta, nu, rho, T, volATM, f):\n",
    "    coefs = np.ones(4)\n",
    "    coefs[3] = (1-beta)**2 * T / (24*f**(2-2*beta))\n",
    "    coefs[2] = rho * beta * nu * T / (4*f**(1-beta))\n",
    "    coefs[1] = 1 + (2-3*rho**2) * nu**2 * T / 24\n",
    "    coefs[0] = -volATM * f**(1-beta)\n",
    "\n",
    "    roots = poly.polyroots(coefs)\n",
    "    alpha = np.real(roots[np.abs(np.imag(roots))<1e-6][0])\n",
    "    return alpha\n",
    "\n",
    "def zfun(beta, nu, alpha, f, K):\n",
    "    return (nu/alpha) * (f*K)**((1-beta)/2) * np.log(f/K)\n",
    "\n",
    "def chi(z, rho):\n",
    "    return np.log((np.sqrt(1-2*rho*z + z**2) + z - rho) / (1-rho))\n",
    "\n",
    "def sabr_slim(beta,nu,rho,f,K,T,volATM):\n",
    "\n",
    "    alpha = solve_alpha(beta, nu, rho, T, volATM, f)\n",
    "    \n",
    "    squareNUM = (((1-beta)**2)/24) * (alpha**2)/((f*K)**(1-beta)) + (1/4) * (rho*beta*nu*alpha)/((f*K)**((1-beta)/2))+((2-3*rho**2)/24)*nu**2\n",
    "    NUM = alpha * (1 + squareNUM * T)\n",
    "    squareDEN = 1 + (((1-beta)**2)/24) * ((np.log(f/K))**2) + (((1-beta)**4)/1920) * ((np.log(f/K))**4)\n",
    "    DEN = (f*K)**((1-beta)/2) * squareDEN\n",
    "    z = zfun(beta,nu,alpha,f,K)\n",
    "    sigmaB = (NUM/DEN) * (z/chi(z,rho))\n",
    "        \n",
    "    if (type(K) is np.float64) | (type(K) is float):\n",
    "        if (f==K):\n",
    "            sigmaB = sabrATM(beta,nu,rho,alpha,f,K,T)\n",
    "    else:\n",
    "        mask = f==K\n",
    "        sigmaB[mask] = sabrATM(beta,nu,rho,alpha,f,K[mask],T)\n",
    "        \n",
    "    return sigmaB\n",
    "\n",
    "\n",
    "\n",
    "\n",
    "def sabr(beta,nu,rho,alpha,f,K,T):\n",
    "   \n",
    "    squareNUM = (((1-beta)**2)/24) * (alpha**2)/((f*K)**(1-beta)) + (1/4) * (rho*beta*nu*alpha)/((f*K)**((1-beta)/2))+((2-3*rho**2)/24)*nu**2\n",
    "    NUM = alpha * (1 + squareNUM * T)\n",
    "    squareDEN = 1 + (((1-beta)**2)/24) * (np.log(f/K)**2) + (((1-beta)**4)/1920) * (np.log(f/K)**4)\n",
    "    DEN = (f*K)**((1-beta)/2) * squareDEN\n",
    "    z = zfun(beta,nu,alpha,f,K)        \n",
    "    sigmaB = (NUM/DEN) * (z/chi(z,rho))\n",
    "    \n",
    "    if (type(K) is np.float64) | (type(K) is float):\n",
    "        if f==K:\n",
    "            sigmaB = sabrATM(beta,nu,rho,alpha,f,K,T)\n",
    "    else:\n",
    "        mask = f==K\n",
    "        sigmaB[mask] = sabrATM(beta,nu,rho,alpha,f,K[mask],T)\n",
    "        \n",
    "    return sigmaB\n",
    "\n",
    "\n",
    "\n",
    "def sabrATM(beta,nu,rho,alpha,f,K,T):\n",
    "    brack = (((1-beta)**2)/24) * ((alpha**2)/(f**(2-2*beta))) + (rho * beta * nu * alpha)/(4*f**(1-beta)) + ((2-3*rho**2)/24) * nu**2\n",
    "    \n",
    "    sigma = alpha * (1+brack*T) / f**(1-beta)\n",
    "\n",
    "    return sigma\n",
    "\n",
    "\n",
    "def get_strikes_from_vol_moneyness(ISCALL,opts,ts):\n",
    "\n",
    "    phi = ISCALL * 2 - 1\n",
    "\n",
    "    deltas = pd.DataFrame(np.array([float(col[1:3])/100 for col in opts.columns]) * phi, index=opts.columns,columns = ['delta'])\n",
    "\n",
    "    strikes = pd.DataFrame(index=opts.index, columns=opts.columns, dtype=float)\n",
    "    for t in opts.index:\n",
    "        T = ts.loc[t,'Expiration Option']\n",
    "        for col in deltas.index:\n",
    "            strikes.loc[t,col] = bs_delta_to_strike(under = ts.loc[t,'Future Price'], delta=deltas.loc[col,'delta'], sigma=opts.loc[t,col], T=T, isCall=ISCALL)\n",
    "            \n",
    "            \n",
    "    return strikes\n",
    "\n",
    "def graph_vol_surface_as_strikes(dtgrid,opts,strikes,ts,label):\n",
    "\n",
    "    fig, ax = plt.subplots(2,1,figsize=(10,10))\n",
    "\n",
    "    for j, dt in enumerate(dtgrid.columns):\n",
    "\n",
    "        colorgrid = ['b','r','g']\n",
    "\n",
    "        for i, tstep in enumerate(dtgrid[dt]):\n",
    "            tstep = tstep.strftime('%Y-%m-%d')\n",
    "            plotdata = pd.concat([opts.loc[tstep,:],strikes.loc[tstep,:]],axis=1)\n",
    "            plotdata.columns = [tstep,'strike']\n",
    "            plotdata.set_index('strike',inplace=True)\n",
    "            plotdata.plot(ax=ax[j],color=colorgrid[i]);\n",
    "\n",
    "            ax[j].axvline(x=ts.loc[tstep,'Future Price'],color=colorgrid[i],linestyle='--')\n",
    "\n",
    "            if j==0:        \n",
    "                ax[j].set_title(f'Curve shock: {label}')\n",
    "            elif j==1:\n",
    "                ax[j].set_title(f'Underlying shock: {label}')\n",
    "\n",
    "            if label.split(' ')[-2] == 'ED':\n",
    "                ax[j].set_xlim(xmin=0,xmax=.08)\n",
    "            \n",
    "            plt.tight_layout()"
   ]
  },
  {
   "cell_type": "markdown",
   "id": "3867fea1",
   "metadata": {},
   "source": [
    "# Data"
   ]
  },
  {
   "cell_type": "markdown",
   "id": "7253d4eb",
   "metadata": {},
   "source": [
    "### Note\n",
    "This homework continues with the data from `Homework 3`."
   ]
  },
  {
   "cell_type": "markdown",
   "id": "950d16bf",
   "metadata": {},
   "source": [
    "### Swaption Vol Data\n",
    "\n",
    "The file `data/swaption_vol_data_2024-02-20.xlsx` has market data on the implied volatility skews for swaptions. Note that it has several columns:\n",
    "* `expry`: expiration of the swaption\n",
    "* `tenor`: tenor of the underlying swap\n",
    "* `model`: the model by which the volatility is quoted. (All are Black.)\n",
    "* `-200`, `-100`, etc.: The strike listed as difference from ATM strike (bps). Note that ATM is considered to be the **forward swap rate** which you can calculate."
   ]
  },
  {
   "cell_type": "markdown",
   "id": "81df7b2e",
   "metadata": {},
   "source": [
    "Your data: ywill use a single row of this data for the `1x4` swaption.\n",
    "* date: `2024-02-20`\n",
    "* expiration: 1yr\n",
    "* tenor: 4yrs\n",
    "\n",
    "As in `Homework 3`, you will need the forward swap value and the actual strikes being referred to in the provided data (which quotes relative strikes.)"
   ]
  },
  {
   "cell_type": "markdown",
   "id": "f95bcb98",
   "metadata": {},
   "source": [
    "# 1. SABR Volatility Modeling"
   ]
  },
  {
   "cell_type": "markdown",
   "id": "79df5eed",
   "metadata": {},
   "source": [
    "Use the quoted volatility skew to fit a SABR model.\n",
    "* Throughout, parameterize, `beta=.75`."
   ]
  },
  {
   "cell_type": "code",
   "execution_count": 57,
   "id": "3311be7a",
   "metadata": {},
   "outputs": [
    {
     "data": {
      "text/plain": [
       "3.668557489963309"
      ]
     },
     "execution_count": 57,
     "metadata": {},
     "output_type": "execute_result"
    }
   ],
   "source": [
    "rate_data=pd.read_excel('../data/cap_curves_2024-02-20.xlsx')\n",
    "discount5=rate_data['discounts'].iloc[19]\n",
    "discount1=rate_data['discounts'].iloc[3]\n",
    "discount_swap=discount5/discount1\n",
    "swap_rate=compounded_from_discount(discount_swap,4,4)\n",
    "swap_rate*100"
   ]
  },
  {
   "cell_type": "code",
   "execution_count": 58,
   "id": "dc68460f",
   "metadata": {},
   "outputs": [],
   "source": [
    "data=pd.read_excel('../data/swaption_vol_data.xlsx')\n",
    "vols=np.array(data.iloc[0,6:])/100\n",
    "strikes=(np.array(data.columns[6:],dtype=float)/10000)+swap_rate\n",
    "scale=np.sum(rate_data['discounts'].iloc[4:20])/4"
   ]
  },
  {
   "cell_type": "markdown",
   "id": "4153c6c6",
   "metadata": {},
   "source": [
    "## 1.1\n",
    "Estimate $(\\alpha,\\rho,\\nu)$ via the SABR formula. Feel free to use the `sabr` function in `cmds/volskew.py`.\n",
    "\n",
    "Report the values of these parameters."
   ]
  },
  {
   "cell_type": "code",
   "execution_count": 59,
   "id": "21da7f58",
   "metadata": {},
   "outputs": [
    {
     "data": {
      "text/plain": [
       "[7.202086165489279,\n",
       " 4.063798009429432,\n",
       " 2.7381565055448984,\n",
       " 2.173136435377561,\n",
       " 1.6857037328339315,\n",
       " 1.2796104825461665,\n",
       " 0.9541191963114497,\n",
       " 0.5121759203056722,\n",
       " 0.14674956316667265]"
      ]
     },
     "execution_count": 59,
     "metadata": {},
     "output_type": "execute_result"
    }
   ],
   "source": [
    "prices=[]\n",
    "for i in range(len(vols)):\n",
    "    prices.append(100*Blacks_formula(vols[i],1,strikes[i],swap_rate,scale))\n",
    "prices"
   ]
  },
  {
   "cell_type": "code",
   "execution_count": 60,
   "id": "b81514e1",
   "metadata": {},
   "outputs": [],
   "source": [
    "doSLIM = False\n",
    "BETA = 0.75\n",
    "F = swap_rate-1e-8\n",
    "volATM=vols[-5]\n",
    "Topt=1\n",
    "\n",
    "def obj_fun(xargs):\n",
    "    nu = xargs[0]\n",
    "    rho = xargs[1]\n",
    "    alpha = xargs[2]\n",
    "    \n",
    "    ivolSABR = np.zeros(len(strikes))\n",
    "    \n",
    "    for i,strike in enumerate(strikes):\n",
    "         ivolSABR[i] = sabr(BETA,nu,rho,alpha,F,strike,Topt)\n",
    "    \n",
    "    error = ((ivolSABR - vols)**2).sum()\n",
    "    \n",
    "    return error\n",
    "\n",
    "\n",
    "def obj_fun_slim(xargs):\n",
    "    nu = xargs[0]\n",
    "    rho = xargs[1]\n",
    "    ivolSABR = np.zeros(len(strikes))\n",
    "    \n",
    "    for i,strike in enumerate(strikes):\n",
    "         ivolSABR[i] = sabr_slim(BETA,nu,rho,F,strike,Topt,volATM)\n",
    "    \n",
    "    error = ((ivolSABR - vols)**2).sum()\n",
    "    \n",
    "    return error\n",
    "\n",
    "if not doSLIM:\n",
    "    x0 = np.array([.6,0,.1])\n",
    "    fun = obj_fun\n",
    "else:\n",
    "    fun = obj_fun_slim\n",
    "    x0 = np.array([.6,0,.1])\n",
    "\n",
    "optim = minimize(fun,x0)\n",
    "xstar = optim.x\n",
    "nustar = xstar[0]\n",
    "rhostar = xstar[1]\n",
    "   \n",
    "if doSLIM:\n",
    "    alphastar = solve_alpha(BETA,nustar,rhostar,Topt,volATM,F)\n",
    "    ivolSABR = sabr_slim(BETA,nustar,rhostar,F,strikes,Topt,volATM)\n",
    "else:\n",
    "    alphastar = xstar[2]\n",
    "    ivolSABR = sabr(BETA,nustar,rhostar,alphastar,F,strikes,Topt)\n",
    "\n",
    "error = optim.fun"
   ]
  },
  {
   "cell_type": "code",
   "execution_count": 61,
   "id": "1098584e",
   "metadata": {},
   "outputs": [
    {
     "data": {
      "text/html": [
       "<style type=\"text/css\">\n",
       "</style>\n",
       "<table id=\"T_9ea91\">\n",
       "  <thead>\n",
       "    <tr>\n",
       "      <th class=\"blank level0\" >&nbsp;</th>\n",
       "      <th id=\"T_9ea91_level0_col0\" class=\"col_heading level0 col0\" >SABR Parameters</th>\n",
       "    </tr>\n",
       "  </thead>\n",
       "  <tbody>\n",
       "    <tr>\n",
       "      <th id=\"T_9ea91_level0_row0\" class=\"row_heading level0 row0\" >beta ($\\beta$)</th>\n",
       "      <td id=\"T_9ea91_row0_col0\" class=\"data row0 col0\" >0.7500</td>\n",
       "    </tr>\n",
       "    <tr>\n",
       "      <th id=\"T_9ea91_level0_row1\" class=\"row_heading level0 row1\" >alpha ($\\alpha$)</th>\n",
       "      <td id=\"T_9ea91_row1_col0\" class=\"data row1 col0\" >0.1411</td>\n",
       "    </tr>\n",
       "    <tr>\n",
       "      <th id=\"T_9ea91_level0_row2\" class=\"row_heading level0 row2\" >nu ($\\nu$)</th>\n",
       "      <td id=\"T_9ea91_row2_col0\" class=\"data row2 col0\" >0.7758</td>\n",
       "    </tr>\n",
       "    <tr>\n",
       "      <th id=\"T_9ea91_level0_row3\" class=\"row_heading level0 row3\" >rho ($\\rho$)</th>\n",
       "      <td id=\"T_9ea91_row3_col0\" class=\"data row3 col0\" >-0.4259</td>\n",
       "    </tr>\n",
       "    <tr>\n",
       "      <th id=\"T_9ea91_level0_row4\" class=\"row_heading level0 row4\" >fit error</th>\n",
       "      <td id=\"T_9ea91_row4_col0\" class=\"data row4 col0\" >0.0001</td>\n",
       "    </tr>\n",
       "  </tbody>\n",
       "</table>\n"
      ],
      "text/plain": [
       "<pandas.io.formats.style.Styler at 0x177ff0ad0>"
      ]
     },
     "execution_count": 61,
     "metadata": {},
     "output_type": "execute_result"
    }
   ],
   "source": [
    "param = pd.DataFrame([BETA,alphastar,nustar,rhostar,error],index=['beta ($\\\\beta$)','alpha ($\\\\alpha$)','nu ($\\\\nu$)','rho ($\\\\rho$)','fit error'],columns=['SABR Parameters']).style.format('{:.4f}')\n",
    "param"
   ]
  },
  {
   "cell_type": "markdown",
   "id": "69767d05",
   "metadata": {},
   "source": [
    "## 1.2\n",
    "Create a grid of strikes of `[.0025, .09]`, with grid spacing of `10bps`, (.0010).\n",
    "\n",
    "Use the SABR model parameterized above to calculate the volatility for each of these strikes.\n",
    "\n",
    "* Plot the SABR curve, and also include the market quotes in the plot.\n",
    "\n",
    "* Conceptually, does the SABR curve fit these points well? Perfectly?"
   ]
  },
  {
   "cell_type": "code",
   "execution_count": 62,
   "id": "9c44b0c0",
   "metadata": {},
   "outputs": [
    {
     "data": {
      "text/plain": [
       "<matplotlib.legend.Legend at 0x177c7c310>"
      ]
     },
     "execution_count": 62,
     "metadata": {},
     "output_type": "execute_result"
    },
    {
     "data": {
      "image/png": "[encoded data removed]",
      "text/plain": [
       "<Figure size 640x480 with 1 Axes>"
      ]
     },
     "metadata": {},
     "output_type": "display_data"
    }
   ],
   "source": [
    "strikegrid = np.arange(.0025,.09,.001)\n",
    "if doSLIM:\n",
    "    ivolgrid = sabr_slim(BETA,nustar,rhostar,F,strikegrid,Topt,volATM)\n",
    "else:\n",
    "    ivolgrid = sabr(BETA,nustar,rhostar,alphastar,F,strikegrid,Topt)\n",
    "    \n",
    "sabrcurve = pd.DataFrame(ivolgrid,index=strikegrid,columns=['SABR'])\n",
    "\n",
    "volquotes = pd.DataFrame()\n",
    "volquotes['market quotes']=vols\n",
    "volquotes['strike'] = strikes\n",
    "volquotes = volquotes.set_index('strike')\n",
    "\n",
    "fig, ax = plt.subplots()\n",
    "sabrcurve.plot(ax=ax)\n",
    "volquotes.plot(linestyle='',marker='o',markersize=8,ax=ax)\n",
    "plt.legend()"
   ]
  },
  {
   "cell_type": "code",
   "execution_count": 63,
   "id": "ddf47c9a",
   "metadata": {},
   "outputs": [
    {
     "data": {
      "text/plain": [
       "0.03668557489963309"
      ]
     },
     "execution_count": 63,
     "metadata": {},
     "output_type": "execute_result"
    }
   ],
   "source": [
    "strikes[-5]"
   ]
  },
  {
   "cell_type": "markdown",
   "id": "4a0568ef",
   "metadata": {},
   "source": [
    "## 1.3\n",
    "Suppose we want to price the `1y4y` swaption but with a far out-of-the-money strike of `5%`. \n",
    "\n",
    "* Use the SABR vol at this strike to price the swaption.\n",
    "\n",
    "(Note that this strike is far outside the range for which we have market quotes, and even if we do have quotes, they likely are not liquid on a given day.)\n",
    "\n"
   ]
  },
  {
   "cell_type": "code",
   "execution_count": 64,
   "id": "6c1f6e31",
   "metadata": {},
   "outputs": [
    {
     "data": {
      "text/plain": [
       "'Price of the OTM swaption at strike 5.00% is $0.3313.'"
      ]
     },
     "metadata": {},
     "output_type": "display_data"
    }
   ],
   "source": [
    "NEWSTRIKE = .05\n",
    "\n",
    "if doSLIM:\n",
    "    newvol = sabr_slim(BETA,nustar,rhostar,F,NEWSTRIKE,Topt,volATM)\n",
    "else:\n",
    "    newvol = sabr(BETA,nustar,rhostar,alphastar,F,NEWSTRIKE,Topt)\n",
    "\n",
    "newprice = 100 * Blacks_formula(newvol,Topt,NEWSTRIKE, swap_rate,scale)\n",
    "display(f'Price of the OTM swaption at strike {NEWSTRIKE:.2%} is ${newprice:.4f}.')"
   ]
  },
  {
   "cell_type": "markdown",
   "id": "4cd6d4e2",
   "metadata": {},
   "source": [
    "## 1.4\n",
    "\n",
    "Use the ATM implied volatility to fit $\\alpha$, (sometimes denoted $\\sigma_0$.) That is, for any choice of $(\\rho,\\nu)$, solve a quadratic equation to get $\\alpha$ as a function of those two parameters, along with $\\beta$, which is at its selected (not estimated) value.\n",
    "\n",
    "Recall that we have a simple relationship between ATM vol and $\\alpha$.\n",
    "$$\\sigma_\\text{ATM} = \\alpha\\frac{B}{F^{1-\\beta}}$$\n",
    "where $B$ is defined in the discussion note. It is a quadratic expression of $\\alpha$ along with $(\\beta,\\rho,\\nu)$.\n",
    "\n",
    "This decouples the optimization. We solve for $(\\rho,\\nu)$ and $\\alpha$ as a function of the other two parameters.\n",
    "\n",
    "Consider using the function `sabrATM` in `cmds/volskew.py`."
   ]
  },
  {
   "cell_type": "markdown",
   "id": "dffcd7d1",
   "metadata": {},
   "source": [
    "***"
   ]
  },
  {
   "cell_type": "markdown",
   "id": "b2d70615",
   "metadata": {},
   "source": [
    "# 2. SABR and Risk Management"
   ]
  },
  {
   "cell_type": "markdown",
   "id": "e4207d40",
   "metadata": {},
   "source": [
    "Consider how an **increase** of `50bps` in the underlying rate impacts the price of the `1y4y` ATM swaption.\n",
    "\n",
    "Here, we are assuming that\n",
    "* the rate change will impact the forward swap rate directly, one-for-one with other rates.\n",
    "* the shift happens on `Feb 21, 2024`.\n",
    "\n",
    "Of course, in reality, a rate change\n",
    "* may price in early to some degree if it is expected\n",
    "* may not impact the forward swap rate one-for-one. We would need to model how the discount curve changes and what that change (level, slope, curvature?) would do to the forward swap rate."
   ]
  },
  {
   "cell_type": "markdown",
   "id": "6f99f98e",
   "metadata": {},
   "source": [
    "## 2.1\n",
    "\n",
    "Use Black's equation to re-price the `1y4y` swaption with\n",
    "* the same ATM volatility\n",
    "* an underlying (forward swap) rate increased `50bps`.\n",
    "* the same time-to-maturities. (We should decrease these all by 1/365, but we focus here on the delta effects rather than the theta. And it would be a small impact anyone.)\n",
    "\n",
    "Report \n",
    "* the new price\n",
    "* the change in price divided by `50bps`, (a numerical delta.)"
   ]
  },
  {
   "cell_type": "code",
   "execution_count": 65,
   "id": "a0e84577",
   "metadata": {},
   "outputs": [
    {
     "data": {
      "image/png": "[encoded data removed]",
      "text/plain": [
       "<Figure size 640x480 with 1 Axes>"
      ]
     },
     "metadata": {},
     "output_type": "display_data"
    }
   ],
   "source": [
    "DATE = '2024-02-20'\n",
    "freqcurve = 4\n",
    "SHIFT = 50/100/100\n",
    "\n",
    "sabrcurve.rename(columns={'SABR':f'SABR: underlying at {DATE}'},inplace=True)\n",
    "if doSLIM:\n",
    "    sabrcurve[f'SABR: underlying + {SHIFT*100*100:.0f}bps'] = sabr_slim(BETA,nustar,rhostar,F+SHIFT,strikegrid,Topt,volATM)\n",
    "else:\n",
    "    sabrcurve[f'SABR: underlying + {SHIFT*100*100:.0f}bps'] = sabr(BETA,nustar,rhostar,alphastar,F+SHIFT,strikegrid,Topt)\n",
    "\n",
    "fig, ax = plt.subplots()\n",
    "sabrcurve.plot(ax=ax)\n",
    "plt.xlim([F-.01,F+.01])\n",
    "plt.ylim([volATM-.05,volATM+.05])\n",
    "plt.axvline(F,color='k',linestyle='--',label=f'underlying at {DATE}')\n",
    "plt.axvline(F+SHIFT,color='k',linestyle=':',label=f'underlying + {SHIFT*100*100:.0f}bps')\n",
    "plt.ylabel('swaption implied volatility');\n",
    "plt.xlabel('strike')\n",
    "plt.legend();"
   ]
  },
  {
   "cell_type": "markdown",
   "id": "8e590904",
   "metadata": {},
   "source": [
    "## 2.2\n",
    "\n",
    "Now, we consider how the volatility may change with the underlying shift of `50bps`.\n",
    "\n",
    "Using the same SABR parameters from `1.1`, and the strike grid from `1.2`, plot the new SABR curve accounting for the underlying rate shifting up `50bps`."
   ]
  },
  {
   "cell_type": "code",
   "execution_count": 71,
   "id": "16b91706",
   "metadata": {},
   "outputs": [
    {
     "data": {
      "text/html": [
       "<div>\n",
       "<style scoped>\n",
       "    .dataframe tbody tr th:only-of-type {\n",
       "        vertical-align: middle;\n",
       "    }\n",
       "\n",
       "    .dataframe tbody tr th {\n",
       "        vertical-align: top;\n",
       "    }\n",
       "\n",
       "    .dataframe thead th {\n",
       "        text-align: right;\n",
       "    }\n",
       "</style>\n",
       "<table border=\"1\" class=\"dataframe\">\n",
       "  <thead>\n",
       "    <tr style=\"text-align: right;\">\n",
       "      <th></th>\n",
       "      <th>SABR: underlying at 2024-02-20</th>\n",
       "      <th>SABR: underlying + 50bps</th>\n",
       "    </tr>\n",
       "  </thead>\n",
       "  <tbody>\n",
       "    <tr>\n",
       "      <th>0.0025</th>\n",
       "      <td>1.050261</td>\n",
       "      <td>1.067995</td>\n",
       "    </tr>\n",
       "    <tr>\n",
       "      <th>0.0035</th>\n",
       "      <td>0.964115</td>\n",
       "      <td>0.983113</td>\n",
       "    </tr>\n",
       "    <tr>\n",
       "      <th>0.0045</th>\n",
       "      <td>0.898764</td>\n",
       "      <td>0.918724</td>\n",
       "    </tr>\n",
       "    <tr>\n",
       "      <th>0.0055</th>\n",
       "      <td>0.845930</td>\n",
       "      <td>0.866675</td>\n",
       "    </tr>\n",
       "    <tr>\n",
       "      <th>0.0065</th>\n",
       "      <td>0.801484</td>\n",
       "      <td>0.822893</td>\n",
       "    </tr>\n",
       "    <tr>\n",
       "      <th>...</th>\n",
       "      <td>...</td>\n",
       "      <td>...</td>\n",
       "    </tr>\n",
       "    <tr>\n",
       "      <th>0.0855</th>\n",
       "      <td>0.349054</td>\n",
       "      <td>0.324214</td>\n",
       "    </tr>\n",
       "    <tr>\n",
       "      <th>0.0865</th>\n",
       "      <td>0.350780</td>\n",
       "      <td>0.325865</td>\n",
       "    </tr>\n",
       "    <tr>\n",
       "      <th>0.0875</th>\n",
       "      <td>0.352492</td>\n",
       "      <td>0.327509</td>\n",
       "    </tr>\n",
       "    <tr>\n",
       "      <th>0.0885</th>\n",
       "      <td>0.354191</td>\n",
       "      <td>0.329146</td>\n",
       "    </tr>\n",
       "    <tr>\n",
       "      <th>0.0895</th>\n",
       "      <td>0.355875</td>\n",
       "      <td>0.330774</td>\n",
       "    </tr>\n",
       "  </tbody>\n",
       "</table>\n",
       "<p>88 rows × 2 columns</p>\n",
       "</div>"
      ],
      "text/plain": [
       "        SABR: underlying at 2024-02-20  SABR: underlying + 50bps\n",
       "0.0025                        1.050261                  1.067995\n",
       "0.0035                        0.964115                  0.983113\n",
       "0.0045                        0.898764                  0.918724\n",
       "0.0055                        0.845930                  0.866675\n",
       "0.0065                        0.801484                  0.822893\n",
       "...                                ...                       ...\n",
       "0.0855                        0.349054                  0.324214\n",
       "0.0865                        0.350780                  0.325865\n",
       "0.0875                        0.352492                  0.327509\n",
       "0.0885                        0.354191                  0.329146\n",
       "0.0895                        0.355875                  0.330774\n",
       "\n",
       "[88 rows x 2 columns]"
      ]
     },
     "execution_count": 71,
     "metadata": {},
     "output_type": "execute_result"
    }
   ],
   "source": [
    "sabrcurve"
   ]
  },
  {
   "cell_type": "code",
   "execution_count": 66,
   "id": "daa7b30a",
   "metadata": {},
   "outputs": [],
   "source": [
    "fwdswap=swap_rate\n",
    "idloc = (sabrcurve.index.to_series()-fwdswap).abs().idxmin()\n",
    "\n",
    "newvols = sabrcurve.loc[idloc]\n",
    "strikeATM = strikes[-5]\n",
    "\n",
    "Frange = F + [0,SHIFT]"
   ]
  },
  {
   "cell_type": "code",
   "execution_count": 70,
   "id": "c2bfde7b",
   "metadata": {},
   "outputs": [
    {
     "name": "stderr",
     "output_type": "stream",
     "text": [
      "/var/folders/80/2zgw65dd0msb1psqhn1c195w0000gn/T/ipykernel_94924/3675701037.py:6: FutureWarning: Series.__getitem__ treating keys as positions is deprecated. In a future version, integer keys will always be treated as labels (consistent with DataFrame behavior). To access a value by position, use `ser.iloc[pos]`\n",
      "  blackprices = pd.Series(100 * Blacks_formula(newvols[0],1,NEWSTRIKE,Frange,scale), index=['no change in rates','shift in rates'], name='no change in vol').to_frame().T\n",
      "/var/folders/80/2zgw65dd0msb1psqhn1c195w0000gn/T/ipykernel_94924/3675701037.py:7: FutureWarning: Series.__getitem__ treating keys as positions is deprecated. In a future version, integer keys will always be treated as labels (consistent with DataFrame behavior). To access a value by position, use `ser.iloc[pos]`\n",
      "  blackprices.loc['dynamic vol','shift in rates'] = 100 * Blacks_formula(newvols[1],1,NEWSTRIKE,Frange[1],scale)\n"
     ]
    },
    {
     "data": {
      "text/html": [
       "<style type=\"text/css\">\n",
       "</style>\n",
       "<table id=\"T_019cf\">\n",
       "  <thead>\n",
       "    <tr>\n",
       "      <th class=\"blank level0\" >&nbsp;</th>\n",
       "      <th id=\"T_019cf_level0_col0\" class=\"col_heading level0 col0\" >no change in rates</th>\n",
       "      <th id=\"T_019cf_level0_col1\" class=\"col_heading level0 col1\" >shift in rates</th>\n",
       "    </tr>\n",
       "  </thead>\n",
       "  <tbody>\n",
       "    <tr>\n",
       "      <th id=\"T_019cf_level0_row0\" class=\"row_heading level0 row0\" >no change in vol</th>\n",
       "      <td id=\"T_019cf_row0_col0\" class=\"data row0 col0\" >0.46</td>\n",
       "      <td id=\"T_019cf_row0_col1\" class=\"data row0 col1\" >0.96</td>\n",
       "    </tr>\n",
       "    <tr>\n",
       "      <th id=\"T_019cf_level0_row1\" class=\"row_heading level0 row1\" >dynamic vol</th>\n",
       "      <td id=\"T_019cf_row1_col0\" class=\"data row1 col0\" >nan</td>\n",
       "      <td id=\"T_019cf_row1_col1\" class=\"data row1 col1\" >1.06</td>\n",
       "    </tr>\n",
       "  </tbody>\n",
       "</table>\n"
      ],
      "text/plain": [
       "<pandas.io.formats.style.Styler at 0x290254e90>"
      ]
     },
     "execution_count": 70,
     "metadata": {},
     "output_type": "execute_result"
    }
   ],
   "source": [
    "period_fwd = 1\n",
    "period_swap = 5\n",
    "\n",
    "scale=np.sum(rate_data['discounts'].iloc[4:20])/4\n",
    "\n",
    "blackprices = pd.Series(100 * Blacks_formula(newvols[0],1,NEWSTRIKE,Frange,scale), index=['no change in rates','shift in rates'], name='no change in vol').to_frame().T\n",
    "blackprices.loc['dynamic vol','shift in rates'] = 100 * Blacks_formula(newvols[1],1,NEWSTRIKE,Frange[1],scale)\n",
    "blackprices.style.format('{:.2f}')"
   ]
  },
  {
   "cell_type": "markdown",
   "id": "3eac1381",
   "metadata": {},
   "source": [
    "## 2.3\n",
    "\n",
    "Calculate the new volatility specifically for the pre-shift ATM strike.\n",
    "\n",
    "Use this in Black's formula similar to `2.1`, where the only change is the volatility now reflects the shift in the underlying (not the strike).\n",
    "\n",
    "Report\n",
    "* the new price\n",
    "* the change in price divided by `50bps`"
   ]
  },
  {
   "cell_type": "code",
   "execution_count": 72,
   "id": "db7005e7",
   "metadata": {},
   "outputs": [
    {
     "data": {
      "text/html": [
       "<style type=\"text/css\">\n",
       "</style>\n",
       "<table id=\"T_34a6b\">\n",
       "  <thead>\n",
       "    <tr>\n",
       "      <th class=\"blank level0\" >&nbsp;</th>\n",
       "      <th id=\"T_34a6b_level0_col0\" class=\"col_heading level0 col0\" >price change</th>\n",
       "    </tr>\n",
       "  </thead>\n",
       "  <tbody>\n",
       "    <tr>\n",
       "      <th id=\"T_34a6b_level0_row0\" class=\"row_heading level0 row0\" >no change in vol</th>\n",
       "      <td id=\"T_34a6b_row0_col0\" class=\"data row0 col0\" >99.59</td>\n",
       "    </tr>\n",
       "    <tr>\n",
       "      <th id=\"T_34a6b_level0_row1\" class=\"row_heading level0 row1\" >dynamic vol</th>\n",
       "      <td id=\"T_34a6b_row1_col0\" class=\"data row1 col0\" >121.22</td>\n",
       "    </tr>\n",
       "  </tbody>\n",
       "</table>\n"
      ],
      "text/plain": [
       "<pandas.io.formats.style.Styler at 0x177ca4250>"
      ]
     },
     "execution_count": 72,
     "metadata": {},
     "output_type": "execute_result"
    }
   ],
   "source": [
    "dprices = (blackprices[['shift in rates']] - blackprices.loc['no change in vol','no change in rates']).rename(columns={'shift in rates':'price change'})\n",
    "delta = dprices / SHIFT\n",
    "delta.style.format('{:.2f}')"
   ]
  },
  {
   "cell_type": "markdown",
   "id": "651dee83",
   "metadata": {},
   "source": [
    "## 2.4\n",
    "\n",
    "How much different is the (dynamic) delta which accounts for the shift in volatility from the (static) delta in `2.1`?"
   ]
  },
  {
   "cell_type": "code",
   "execution_count": 73,
   "id": "a8a273b5",
   "metadata": {},
   "outputs": [
    {
     "data": {
      "text/plain": [
       "'Relative change to delta:  21.72%.'"
      ]
     },
     "metadata": {},
     "output_type": "display_data"
    }
   ],
   "source": [
    "delta_relative_change = delta.pct_change().loc['dynamic vol','price change']\n",
    "display(f'Relative change to delta: {delta_relative_change : .2%}.')"
   ]
  },
  {
   "cell_type": "code",
   "execution_count": null,
   "id": "e5c3db38",
   "metadata": {},
   "outputs": [],
   "source": []
  },
  {
   "cell_type": "markdown",
   "id": "efcd09ea",
   "metadata": {},
   "source": [
    "***"
   ]
  }
 ],
 "metadata": {
  "hide_input": false,
  "kernelspec": {
   "display_name": "Python 3 (ipykernel)",
   "language": "python",
   "name": "python3"
  },
  "language_info": {
   "codemirror_mode": {
    "name": "ipython",
    "version": 3
   },
   "file_extension": ".py",
   "mimetype": "text/x-python",
   "name": "python",
   "nbconvert_exporter": "python",
   "pygments_lexer": "ipython3",
   "version": "3.11.6"
  }
 },
 "nbformat": 4,
 "nbformat_minor": 5
}
