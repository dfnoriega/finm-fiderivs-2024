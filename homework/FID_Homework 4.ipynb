{
 "cells": [
  {
   "cell_type": "markdown",
   "id": "4259a0cc",
   "metadata": {},
   "source": [
    "# Homework 4\n",
    "\n",
    "## FINM 37500: Fixed Income Derivatives\n",
    "\n",
    "### Mark Hendricks\n",
    "\n",
    "#### Winter 2024"
   ]
  },
  {
   "cell_type": "markdown",
   "id": "734d0514",
   "metadata": {},
   "source": [
    "***"
   ]
  },
  {
   "cell_type": "code",
   "execution_count": 1,
   "id": "0ccf7f98",
   "metadata": {},
   "outputs": [],
   "source": [
    "import numpy as np\n",
    "import pandas as pd\n",
    "\n",
    "import datetime\n",
    "import warnings\n",
    "\n",
    "import matplotlib.pyplot as plt\n",
    "import seaborn as sns\n",
    "%matplotlib inline\n",
    "plt.rcParams['figure.figsize'] = (12,6)\n",
    "plt.rcParams['font.size'] = 15\n",
    "plt.rcParams['legend.fontsize'] = 13\n",
    "\n",
    "from matplotlib.ticker import (MultipleLocator,\n",
    "                               FormatStrFormatter,\n",
    "                               AutoMinorLocator)\n",
    "\n",
    "from scipy.optimize import fsolve\n",
    "from scipy.stats import norm"
   ]
  },
  {
   "cell_type": "markdown",
   "id": "3867fea1",
   "metadata": {},
   "source": [
    "# Data"
   ]
  },
  {
   "cell_type": "markdown",
   "id": "7253d4eb",
   "metadata": {},
   "source": [
    "### Note\n",
    "This homework continues with the data from `Homework 3`."
   ]
  },
  {
   "cell_type": "code",
   "execution_count": 2,
   "id": "a384fa12",
   "metadata": {},
   "outputs": [
    {
     "data": {
      "text/html": [
       "<div>\n",
       "<style scoped>\n",
       "    .dataframe tbody tr th:only-of-type {\n",
       "        vertical-align: middle;\n",
       "    }\n",
       "\n",
       "    .dataframe tbody tr th {\n",
       "        vertical-align: top;\n",
       "    }\n",
       "\n",
       "    .dataframe thead th {\n",
       "        text-align: right;\n",
       "    }\n",
       "</style>\n",
       "<table border=\"1\" class=\"dataframe\">\n",
       "  <thead>\n",
       "    <tr style=\"text-align: right;\">\n",
       "      <th></th>\n",
       "      <th>reference</th>\n",
       "      <th>instrument</th>\n",
       "      <th>model</th>\n",
       "      <th>date</th>\n",
       "      <th>expiration</th>\n",
       "      <th>tenor</th>\n",
       "      <th>-200</th>\n",
       "      <th>-100</th>\n",
       "      <th>-50</th>\n",
       "      <th>-25</th>\n",
       "      <th>0</th>\n",
       "      <th>25</th>\n",
       "      <th>50</th>\n",
       "      <th>100</th>\n",
       "      <th>200</th>\n",
       "    </tr>\n",
       "  </thead>\n",
       "  <tbody>\n",
       "    <tr>\n",
       "      <th>0</th>\n",
       "      <td>SOFR</td>\n",
       "      <td>swaption</td>\n",
       "      <td>black</td>\n",
       "      <td>2024-02-20</td>\n",
       "      <td>1</td>\n",
       "      <td>4</td>\n",
       "      <td>54.54</td>\n",
       "      <td>40.37</td>\n",
       "      <td>35.94</td>\n",
       "      <td>34.23</td>\n",
       "      <td>32.83</td>\n",
       "      <td>31.71</td>\n",
       "      <td>30.86</td>\n",
       "      <td>29.83</td>\n",
       "      <td>29.54</td>\n",
       "    </tr>\n",
       "  </tbody>\n",
       "</table>\n",
       "</div>"
      ],
      "text/plain": [
       "  reference instrument  model       date  expiration  tenor   -200   -100  \\\n",
       "0      SOFR   swaption  black 2024-02-20           1      4  54.54  40.37   \n",
       "\n",
       "     -50    -25      0     25     50    100    200  \n",
       "0  35.94  34.23  32.83  31.71  30.86  29.83  29.54  "
      ]
     },
     "execution_count": 2,
     "metadata": {},
     "output_type": "execute_result"
    }
   ],
   "source": [
    "import_path2 = \"/Users/adriana/Jupyter_Files/FINM37500_Fixed_Income_Derivatives/data/swaption_vol_data.xlsx\"\n",
    "\n",
    "swaption = pd.read_excel(import_path2,sheet_name = 'bloomberg vcub')\n",
    "swaption"
   ]
  },
  {
   "cell_type": "code",
   "execution_count": 3,
   "id": "615a4c05",
   "metadata": {},
   "outputs": [
    {
     "data": {
      "text/html": [
       "<div>\n",
       "<style scoped>\n",
       "    .dataframe tbody tr th:only-of-type {\n",
       "        vertical-align: middle;\n",
       "    }\n",
       "\n",
       "    .dataframe tbody tr th {\n",
       "        vertical-align: top;\n",
       "    }\n",
       "\n",
       "    .dataframe thead th {\n",
       "        text-align: right;\n",
       "    }\n",
       "</style>\n",
       "<table border=\"1\" class=\"dataframe\">\n",
       "  <thead>\n",
       "    <tr style=\"text-align: right;\">\n",
       "      <th></th>\n",
       "      <th>USCNSQ1 SMKO Curncy</th>\n",
       "      <th>USCNSQ2 SMKO Curncy</th>\n",
       "      <th>USCNSQ3 SMKO Curncy</th>\n",
       "      <th>USCNSQ4 SMKO Curncy</th>\n",
       "      <th>USCNSQ5 SMKO Curncy</th>\n",
       "      <th>USCNSQ6 SMKO Curncy</th>\n",
       "      <th>USCNSQ7 SMKO Curncy</th>\n",
       "      <th>USCNSQ8 SMKO Curncy</th>\n",
       "      <th>USCNSQ9 SMKO Curncy</th>\n",
       "      <th>USCNSQ10 SMKO Curncy</th>\n",
       "    </tr>\n",
       "    <tr>\n",
       "      <th>date</th>\n",
       "      <th></th>\n",
       "      <th></th>\n",
       "      <th></th>\n",
       "      <th></th>\n",
       "      <th></th>\n",
       "      <th></th>\n",
       "      <th></th>\n",
       "      <th></th>\n",
       "      <th></th>\n",
       "      <th></th>\n",
       "    </tr>\n",
       "  </thead>\n",
       "  <tbody>\n",
       "    <tr>\n",
       "      <th>2022-03-17</th>\n",
       "      <td>127.3</td>\n",
       "      <td>108.5</td>\n",
       "      <td>109.9</td>\n",
       "      <td>108.5</td>\n",
       "      <td>107.3</td>\n",
       "      <td>104.3</td>\n",
       "      <td>101.0</td>\n",
       "      <td>97.7</td>\n",
       "      <td>95.2</td>\n",
       "      <td>93.2</td>\n",
       "    </tr>\n",
       "    <tr>\n",
       "      <th>2022-03-18</th>\n",
       "      <td>96.2</td>\n",
       "      <td>104.9</td>\n",
       "      <td>108.0</td>\n",
       "      <td>108.5</td>\n",
       "      <td>108.0</td>\n",
       "      <td>105.0</td>\n",
       "      <td>101.8</td>\n",
       "      <td>98.3</td>\n",
       "      <td>95.4</td>\n",
       "      <td>93.4</td>\n",
       "    </tr>\n",
       "    <tr>\n",
       "      <th>2022-03-21</th>\n",
       "      <td>96.2</td>\n",
       "      <td>105.0</td>\n",
       "      <td>108.1</td>\n",
       "      <td>108.5</td>\n",
       "      <td>107.9</td>\n",
       "      <td>105.0</td>\n",
       "      <td>101.7</td>\n",
       "      <td>98.2</td>\n",
       "      <td>95.4</td>\n",
       "      <td>93.4</td>\n",
       "    </tr>\n",
       "    <tr>\n",
       "      <th>2022-03-22</th>\n",
       "      <td>75.1</td>\n",
       "      <td>108.3</td>\n",
       "      <td>115.2</td>\n",
       "      <td>115.3</td>\n",
       "      <td>113.6</td>\n",
       "      <td>109.9</td>\n",
       "      <td>106.3</td>\n",
       "      <td>102.8</td>\n",
       "      <td>99.9</td>\n",
       "      <td>97.5</td>\n",
       "    </tr>\n",
       "    <tr>\n",
       "      <th>2022-03-23</th>\n",
       "      <td>94.1</td>\n",
       "      <td>111.0</td>\n",
       "      <td>117.9</td>\n",
       "      <td>117.1</td>\n",
       "      <td>114.6</td>\n",
       "      <td>110.7</td>\n",
       "      <td>107.2</td>\n",
       "      <td>103.5</td>\n",
       "      <td>100.5</td>\n",
       "      <td>98.1</td>\n",
       "    </tr>\n",
       "  </tbody>\n",
       "</table>\n",
       "</div>"
      ],
      "text/plain": [
       "            USCNSQ1 SMKO Curncy  USCNSQ2 SMKO Curncy  USCNSQ3 SMKO Curncy  \\\n",
       "date                                                                        \n",
       "2022-03-17                127.3                108.5                109.9   \n",
       "2022-03-18                 96.2                104.9                108.0   \n",
       "2022-03-21                 96.2                105.0                108.1   \n",
       "2022-03-22                 75.1                108.3                115.2   \n",
       "2022-03-23                 94.1                111.0                117.9   \n",
       "\n",
       "            USCNSQ4 SMKO Curncy  USCNSQ5 SMKO Curncy  USCNSQ6 SMKO Curncy  \\\n",
       "date                                                                        \n",
       "2022-03-17                108.5                107.3                104.3   \n",
       "2022-03-18                108.5                108.0                105.0   \n",
       "2022-03-21                108.5                107.9                105.0   \n",
       "2022-03-22                115.3                113.6                109.9   \n",
       "2022-03-23                117.1                114.6                110.7   \n",
       "\n",
       "            USCNSQ7 SMKO Curncy  USCNSQ8 SMKO Curncy  USCNSQ9 SMKO Curncy  \\\n",
       "date                                                                        \n",
       "2022-03-17                101.0                 97.7                 95.2   \n",
       "2022-03-18                101.8                 98.3                 95.4   \n",
       "2022-03-21                101.7                 98.2                 95.4   \n",
       "2022-03-22                106.3                102.8                 99.9   \n",
       "2022-03-23                107.2                103.5                100.5   \n",
       "\n",
       "            USCNSQ10 SMKO Curncy  \n",
       "date                              \n",
       "2022-03-17                  93.2  \n",
       "2022-03-18                  93.4  \n",
       "2022-03-21                  93.4  \n",
       "2022-03-22                  97.5  \n",
       "2022-03-23                  98.1  "
      ]
     },
     "execution_count": 3,
     "metadata": {},
     "output_type": "execute_result"
    }
   ],
   "source": [
    "import_path1 = \"/Users/adriana/Jupyter_Files/FINM37500_Fixed_Income_Derivatives/data/cap_quotes_2024-02-20.xlsx\"\n",
    "\n",
    "quotes_cap = pd.read_excel(import_path1,sheet_name = 'cap', index_col = 0)\n",
    "maturities_cap = pd.DataFrame(quotes_cap.iloc[0,0:])\n",
    "quotes_cap = quotes_cap.iloc[1:,:]\n",
    "quotes_cap.index = pd.to_datetime(quotes_cap.index)\n",
    "quotes_cap.head()"
   ]
  },
  {
   "cell_type": "code",
   "execution_count": 4,
   "id": "130a6e9e",
   "metadata": {},
   "outputs": [
    {
     "data": {
      "text/html": [
       "<div>\n",
       "<style scoped>\n",
       "    .dataframe tbody tr th:only-of-type {\n",
       "        vertical-align: middle;\n",
       "    }\n",
       "\n",
       "    .dataframe tbody tr th {\n",
       "        vertical-align: top;\n",
       "    }\n",
       "\n",
       "    .dataframe thead th {\n",
       "        text-align: right;\n",
       "    }\n",
       "</style>\n",
       "<table border=\"1\" class=\"dataframe\">\n",
       "  <thead>\n",
       "    <tr style=\"text-align: right;\">\n",
       "      <th></th>\n",
       "      <th>USOSFRC Curncy</th>\n",
       "      <th>USOSFRF Curncy</th>\n",
       "      <th>USOSFRI Curncy</th>\n",
       "      <th>USOSFR1 Curncy</th>\n",
       "      <th>USOSFR1C Curncy</th>\n",
       "      <th>USOSFR1F Curncy</th>\n",
       "      <th>USOSFR1I Curncy</th>\n",
       "      <th>USOSFR2 Curncy</th>\n",
       "      <th>USOSFR2C Curncy</th>\n",
       "      <th>USOSFR2F Curncy</th>\n",
       "      <th>...</th>\n",
       "      <th>USOSFR4F Curncy</th>\n",
       "      <th>USOSFR5 Curncy</th>\n",
       "      <th>USOSFR6 Curncy</th>\n",
       "      <th>USOSFR7 Curncy</th>\n",
       "      <th>USOSFR8 Curncy</th>\n",
       "      <th>USOSFR9 Curncy</th>\n",
       "      <th>USOSFR10F Curncy</th>\n",
       "      <th>USOSFR10 Curncy</th>\n",
       "      <th>USOSFR10C Curncy</th>\n",
       "      <th>USOSFR10I Curncy</th>\n",
       "    </tr>\n",
       "    <tr>\n",
       "      <th>date</th>\n",
       "      <th></th>\n",
       "      <th></th>\n",
       "      <th></th>\n",
       "      <th></th>\n",
       "      <th></th>\n",
       "      <th></th>\n",
       "      <th></th>\n",
       "      <th></th>\n",
       "      <th></th>\n",
       "      <th></th>\n",
       "      <th></th>\n",
       "      <th></th>\n",
       "      <th></th>\n",
       "      <th></th>\n",
       "      <th></th>\n",
       "      <th></th>\n",
       "      <th></th>\n",
       "      <th></th>\n",
       "      <th></th>\n",
       "      <th></th>\n",
       "      <th></th>\n",
       "    </tr>\n",
       "  </thead>\n",
       "  <tbody>\n",
       "    <tr>\n",
       "      <th>2022-01-03</th>\n",
       "      <td>0.0907</td>\n",
       "      <td>0.2000</td>\n",
       "      <td>0.3067</td>\n",
       "      <td>0.4060</td>\n",
       "      <td>0.4970</td>\n",
       "      <td>0.5920</td>\n",
       "      <td>0.6795</td>\n",
       "      <td>0.7629</td>\n",
       "      <td>0.8325</td>\n",
       "      <td>0.8910</td>\n",
       "      <td>...</td>\n",
       "      <td>1.1550</td>\n",
       "      <td>1.2022</td>\n",
       "      <td>1.2636</td>\n",
       "      <td>1.3149</td>\n",
       "      <td>1.3568</td>\n",
       "      <td>1.3909</td>\n",
       "      <td>1.4237</td>\n",
       "      <td>1.4237</td>\n",
       "      <td>1.4237</td>\n",
       "      <td>1.4237</td>\n",
       "    </tr>\n",
       "    <tr>\n",
       "      <th>2022-01-04</th>\n",
       "      <td>0.0908</td>\n",
       "      <td>0.1974</td>\n",
       "      <td>0.2981</td>\n",
       "      <td>0.3949</td>\n",
       "      <td>0.4875</td>\n",
       "      <td>0.5807</td>\n",
       "      <td>0.6670</td>\n",
       "      <td>0.7515</td>\n",
       "      <td>0.8215</td>\n",
       "      <td>0.8820</td>\n",
       "      <td>...</td>\n",
       "      <td>1.1560</td>\n",
       "      <td>1.1996</td>\n",
       "      <td>1.2663</td>\n",
       "      <td>1.3227</td>\n",
       "      <td>1.3668</td>\n",
       "      <td>1.4028</td>\n",
       "      <td>1.4370</td>\n",
       "      <td>1.4370</td>\n",
       "      <td>1.4370</td>\n",
       "      <td>1.4370</td>\n",
       "    </tr>\n",
       "    <tr>\n",
       "      <th>2022-01-05</th>\n",
       "      <td>0.0982</td>\n",
       "      <td>0.2180</td>\n",
       "      <td>0.3313</td>\n",
       "      <td>0.4400</td>\n",
       "      <td>0.5390</td>\n",
       "      <td>0.6395</td>\n",
       "      <td>0.7355</td>\n",
       "      <td>0.8203</td>\n",
       "      <td>0.8930</td>\n",
       "      <td>0.9525</td>\n",
       "      <td>...</td>\n",
       "      <td>1.2295</td>\n",
       "      <td>1.2746</td>\n",
       "      <td>1.3410</td>\n",
       "      <td>1.3943</td>\n",
       "      <td>1.4348</td>\n",
       "      <td>1.4678</td>\n",
       "      <td>1.4994</td>\n",
       "      <td>1.4994</td>\n",
       "      <td>1.4994</td>\n",
       "      <td>1.4994</td>\n",
       "    </tr>\n",
       "    <tr>\n",
       "      <th>2022-01-06</th>\n",
       "      <td>0.1117</td>\n",
       "      <td>0.2390</td>\n",
       "      <td>0.3569</td>\n",
       "      <td>0.4630</td>\n",
       "      <td>0.5655</td>\n",
       "      <td>0.6670</td>\n",
       "      <td>0.7650</td>\n",
       "      <td>0.8530</td>\n",
       "      <td>0.9270</td>\n",
       "      <td>0.9930</td>\n",
       "      <td>...</td>\n",
       "      <td>1.2745</td>\n",
       "      <td>1.3161</td>\n",
       "      <td>1.3794</td>\n",
       "      <td>1.4286</td>\n",
       "      <td>1.4654</td>\n",
       "      <td>1.4946</td>\n",
       "      <td>1.5240</td>\n",
       "      <td>1.5240</td>\n",
       "      <td>1.5240</td>\n",
       "      <td>1.5240</td>\n",
       "    </tr>\n",
       "    <tr>\n",
       "      <th>2022-01-07</th>\n",
       "      <td>0.1143</td>\n",
       "      <td>0.2373</td>\n",
       "      <td>0.3505</td>\n",
       "      <td>0.4584</td>\n",
       "      <td>0.5625</td>\n",
       "      <td>0.6660</td>\n",
       "      <td>0.7665</td>\n",
       "      <td>0.8598</td>\n",
       "      <td>0.9365</td>\n",
       "      <td>1.0090</td>\n",
       "      <td>...</td>\n",
       "      <td>1.3020</td>\n",
       "      <td>1.3440</td>\n",
       "      <td>1.4133</td>\n",
       "      <td>1.4665</td>\n",
       "      <td>1.5058</td>\n",
       "      <td>1.5354</td>\n",
       "      <td>1.5647</td>\n",
       "      <td>1.5647</td>\n",
       "      <td>1.5647</td>\n",
       "      <td>1.5647</td>\n",
       "    </tr>\n",
       "  </tbody>\n",
       "</table>\n",
       "<p>5 rows × 24 columns</p>\n",
       "</div>"
      ],
      "text/plain": [
       "            USOSFRC Curncy  USOSFRF Curncy  USOSFRI Curncy  USOSFR1 Curncy  \\\n",
       "date                                                                         \n",
       "2022-01-03          0.0907          0.2000          0.3067          0.4060   \n",
       "2022-01-04          0.0908          0.1974          0.2981          0.3949   \n",
       "2022-01-05          0.0982          0.2180          0.3313          0.4400   \n",
       "2022-01-06          0.1117          0.2390          0.3569          0.4630   \n",
       "2022-01-07          0.1143          0.2373          0.3505          0.4584   \n",
       "\n",
       "            USOSFR1C Curncy  USOSFR1F Curncy  USOSFR1I Curncy  USOSFR2 Curncy  \\\n",
       "date                                                                            \n",
       "2022-01-03           0.4970           0.5920           0.6795          0.7629   \n",
       "2022-01-04           0.4875           0.5807           0.6670          0.7515   \n",
       "2022-01-05           0.5390           0.6395           0.7355          0.8203   \n",
       "2022-01-06           0.5655           0.6670           0.7650          0.8530   \n",
       "2022-01-07           0.5625           0.6660           0.7665          0.8598   \n",
       "\n",
       "            USOSFR2C Curncy  USOSFR2F Curncy  ...  USOSFR4F Curncy  \\\n",
       "date                                          ...                    \n",
       "2022-01-03           0.8325           0.8910  ...           1.1550   \n",
       "2022-01-04           0.8215           0.8820  ...           1.1560   \n",
       "2022-01-05           0.8930           0.9525  ...           1.2295   \n",
       "2022-01-06           0.9270           0.9930  ...           1.2745   \n",
       "2022-01-07           0.9365           1.0090  ...           1.3020   \n",
       "\n",
       "            USOSFR5 Curncy  USOSFR6 Curncy  USOSFR7 Curncy  USOSFR8 Curncy  \\\n",
       "date                                                                         \n",
       "2022-01-03          1.2022          1.2636          1.3149          1.3568   \n",
       "2022-01-04          1.1996          1.2663          1.3227          1.3668   \n",
       "2022-01-05          1.2746          1.3410          1.3943          1.4348   \n",
       "2022-01-06          1.3161          1.3794          1.4286          1.4654   \n",
       "2022-01-07          1.3440          1.4133          1.4665          1.5058   \n",
       "\n",
       "            USOSFR9 Curncy  USOSFR10F Curncy  USOSFR10 Curncy  \\\n",
       "date                                                            \n",
       "2022-01-03          1.3909            1.4237           1.4237   \n",
       "2022-01-04          1.4028            1.4370           1.4370   \n",
       "2022-01-05          1.4678            1.4994           1.4994   \n",
       "2022-01-06          1.4946            1.5240           1.5240   \n",
       "2022-01-07          1.5354            1.5647           1.5647   \n",
       "\n",
       "            USOSFR10C Curncy  USOSFR10I Curncy  \n",
       "date                                            \n",
       "2022-01-03            1.4237            1.4237  \n",
       "2022-01-04            1.4370            1.4370  \n",
       "2022-01-05            1.4994            1.4994  \n",
       "2022-01-06            1.5240            1.5240  \n",
       "2022-01-07            1.5647            1.5647  \n",
       "\n",
       "[5 rows x 24 columns]"
      ]
     },
     "execution_count": 4,
     "metadata": {},
     "output_type": "execute_result"
    }
   ],
   "source": [
    "quotes_sofr = pd.read_excel(import_path1,sheet_name = 'sofr', index_col = 0)\n",
    "maturities_sofr = pd.DataFrame(quotes_sofr.iloc[0,0:])\n",
    "quotes_sofr = quotes_sofr.iloc[1:,:]\n",
    "quotes_sofr.index = pd.to_datetime(quotes_sofr.index)\n",
    "quotes_sofr.head()"
   ]
  },
  {
   "cell_type": "markdown",
   "id": "950d16bf",
   "metadata": {},
   "source": [
    "### Swaption Vol Data\n",
    "\n",
    "The file `data/swaption_vol_data_2024-02-20.xlsx` has market data on the implied volatility skews for swaptions. Note that it has several columns:\n",
    "* `expry`: expiration of the swaption\n",
    "* `tenor`: tenor of the underlying swap\n",
    "* `model`: the model by which the volatility is quoted. (All are Black.)\n",
    "* `-200`, `-100`, etc.: The strike listed as difference from ATM strike (bps). Note that ATM is considered to be the **forward swap rate** which you can calculate."
   ]
  },
  {
   "cell_type": "markdown",
   "id": "81df7b2e",
   "metadata": {},
   "source": [
    "Your data: ywill use a single row of this data for the `1x4` swaption.\n",
    "* date: `2024-02-20`\n",
    "* expiration: 1yr\n",
    "* tenor: 4yrs\n",
    "\n",
    "As in `Homework 3`, you will need the forward swap value and the actual strikes being referred to in the provided data (which quotes relative strikes.)"
   ]
  },
  {
   "cell_type": "markdown",
   "id": "f95bcb98",
   "metadata": {},
   "source": [
    "# 1. SABR Volatility Modeling"
   ]
  },
  {
   "cell_type": "markdown",
   "id": "d51f0757",
   "metadata": {},
   "source": [
    "**Compute the forward swap price**"
   ]
  },
  {
   "cell_type": "code",
   "execution_count": 5,
   "id": "aec03422",
   "metadata": {},
   "outputs": [],
   "source": [
    "def calc_fwdswaprate(discounts, Tfwd, Tswap, freqswap):\n",
    "    freqdisc = round(1/discounts.index.to_series().diff().mean())\n",
    "    step = round(freqdisc / freqswap)\n",
    "    \n",
    "    periods_fwd = discounts.index.get_loc(Tfwd)\n",
    "    periods_swap = discounts.index.get_loc(Tswap)\n",
    "    # get exclusive of left and inclusive of right by shifting both by 1\n",
    "    periods_fwd += step\n",
    "    periods_swap += 1\n",
    "    \n",
    "    fwdswaprate = freqswap * (discounts.loc[Tfwd] - discounts.loc[Tswap]) / discounts.iloc[periods_fwd:periods_swap:step].sum()\n",
    "    return fwdswaprate"
   ]
  },
  {
   "cell_type": "code",
   "execution_count": 6,
   "id": "9c72a7bc",
   "metadata": {},
   "outputs": [],
   "source": [
    "freqcurve = 4\n",
    "freqswap = 1\n",
    "\n",
    "expry = 1\n",
    "tenor = 4\n",
    "\n",
    "Topt = expry\n",
    "Tswap = expry + tenor\n",
    "freqswap = freqswap"
   ]
  },
  {
   "cell_type": "code",
   "execution_count": 8,
   "id": "cbf448ec",
   "metadata": {},
   "outputs": [
    {
     "name": "stdout",
     "output_type": "stream",
     "text": [
      "The forward swap rate is 3.72%\n"
     ]
    }
   ],
   "source": [
    "import_path = \"/Users/adriana/Jupyter_Files/FINM37500_Fixed_Income_Derivatives/data/cap_curves_2024-02-20.xlsx\"\n",
    "curves = pd.read_excel(import_path,sheet_name = 'rate curves 2024-02-20', index_col = 0)\n",
    "curves.head()\n",
    "\n",
    "fwdrate = curves['forwards'][Topt]\n",
    "fwdswap = calc_fwdswaprate(curves['discounts'], Topt, Tswap, freqswap=freqswap)\n",
    "print(f'The forward swap rate is {fwdswap:.2%}')"
   ]
  },
  {
   "cell_type": "code",
   "execution_count": 13,
   "id": "96377ed5",
   "metadata": {},
   "outputs": [],
   "source": [
    "swaption.index = ['implied vol']\n",
    "\n",
    "strikerange = np.array(swaption.columns[-9:].tolist())\n",
    "volatility = swaption[strikerange]\n",
    "volatility /= 100\n",
    "\n",
    "strikes = fwdswap + strikerange/100/100\n",
    "\n",
    "idstrikeATM = np.where(strikerange == 0)[0][0]\n",
    "\n",
    "cap_vol = curves.loc[Topt,'fwd vols']\n",
    "\n",
    "strikeATM = strikes[idstrikeATM]\n",
    "volATM = volatility.iloc[0,idstrikeATM]"
   ]
  },
  {
   "cell_type": "code",
   "execution_count": 25,
   "id": "410ae50c",
   "metadata": {},
   "outputs": [],
   "source": [
    "def blacks_formula(T,vol,strike,fwd,discount=1,isCall=True):\n",
    "        \n",
    "    sigT = vol * np.sqrt(T)\n",
    "    d1 = (1/sigT) * np.log(fwd/strike) + .5*sigT\n",
    "    d2 = d1-sigT\n",
    "    \n",
    "    if isCall:\n",
    "        val = discount * (fwd * norm.cdf(d1) - strike * norm.cdf(d2))\n",
    "    else:\n",
    "        val = discount * (strike * norm.cdf(-d2) - fwd * norm.cdf(-d1))\n",
    "    return val"
   ]
  },
  {
   "cell_type": "code",
   "execution_count": 26,
   "id": "899f9f62",
   "metadata": {},
   "outputs": [
    {
     "data": {
      "text/html": [
       "<style type=\"text/css\">\n",
       "</style>\n",
       "<table id=\"T_2649a\">\n",
       "  <thead>\n",
       "    <tr>\n",
       "      <th class=\"blank level0\" >&nbsp;</th>\n",
       "      <th id=\"T_2649a_level0_col0\" class=\"col_heading level0 col0\" >-200</th>\n",
       "      <th id=\"T_2649a_level0_col1\" class=\"col_heading level0 col1\" >-100</th>\n",
       "      <th id=\"T_2649a_level0_col2\" class=\"col_heading level0 col2\" >-50</th>\n",
       "      <th id=\"T_2649a_level0_col3\" class=\"col_heading level0 col3\" >-25</th>\n",
       "      <th id=\"T_2649a_level0_col4\" class=\"col_heading level0 col4\" >0</th>\n",
       "      <th id=\"T_2649a_level0_col5\" class=\"col_heading level0 col5\" >25</th>\n",
       "      <th id=\"T_2649a_level0_col6\" class=\"col_heading level0 col6\" >50</th>\n",
       "      <th id=\"T_2649a_level0_col7\" class=\"col_heading level0 col7\" >100</th>\n",
       "      <th id=\"T_2649a_level0_col8\" class=\"col_heading level0 col8\" >200</th>\n",
       "    </tr>\n",
       "  </thead>\n",
       "  <tbody>\n",
       "    <tr>\n",
       "      <th id=\"T_2649a_level0_row0\" class=\"row_heading level0 row0\" >strike</th>\n",
       "      <td id=\"T_2649a_row0_col0\" class=\"data row0 col0\" >0.0172</td>\n",
       "      <td id=\"T_2649a_row0_col1\" class=\"data row0 col1\" >0.0272</td>\n",
       "      <td id=\"T_2649a_row0_col2\" class=\"data row0 col2\" >0.0322</td>\n",
       "      <td id=\"T_2649a_row0_col3\" class=\"data row0 col3\" >0.0347</td>\n",
       "      <td id=\"T_2649a_row0_col4\" class=\"data row0 col4\" >0.0372</td>\n",
       "      <td id=\"T_2649a_row0_col5\" class=\"data row0 col5\" >0.0397</td>\n",
       "      <td id=\"T_2649a_row0_col6\" class=\"data row0 col6\" >0.0422</td>\n",
       "      <td id=\"T_2649a_row0_col7\" class=\"data row0 col7\" >0.0472</td>\n",
       "      <td id=\"T_2649a_row0_col8\" class=\"data row0 col8\" >0.0572</td>\n",
       "    </tr>\n",
       "    <tr>\n",
       "      <th id=\"T_2649a_level0_row1\" class=\"row_heading level0 row1\" >implied vol</th>\n",
       "      <td id=\"T_2649a_row1_col0\" class=\"data row1 col0\" >0.5454</td>\n",
       "      <td id=\"T_2649a_row1_col1\" class=\"data row1 col1\" >0.4037</td>\n",
       "      <td id=\"T_2649a_row1_col2\" class=\"data row1 col2\" >0.3594</td>\n",
       "      <td id=\"T_2649a_row1_col3\" class=\"data row1 col3\" >0.3423</td>\n",
       "      <td id=\"T_2649a_row1_col4\" class=\"data row1 col4\" >0.3283</td>\n",
       "      <td id=\"T_2649a_row1_col5\" class=\"data row1 col5\" >0.3171</td>\n",
       "      <td id=\"T_2649a_row1_col6\" class=\"data row1 col6\" >0.3086</td>\n",
       "      <td id=\"T_2649a_row1_col7\" class=\"data row1 col7\" >0.2983</td>\n",
       "      <td id=\"T_2649a_row1_col8\" class=\"data row1 col8\" >0.2954</td>\n",
       "    </tr>\n",
       "    <tr>\n",
       "      <th id=\"T_2649a_level0_row2\" class=\"row_heading level0 row2\" >price</th>\n",
       "      <td id=\"T_2649a_row2_col0\" class=\"data row2 col0\" >7.1185</td>\n",
       "      <td id=\"T_2649a_row2_col1\" class=\"data row2 col1\" >4.0306</td>\n",
       "      <td id=\"T_2649a_row2_col2\" class=\"data row2 col2\" >2.7256</td>\n",
       "      <td id=\"T_2649a_row2_col3\" class=\"data row2 col3\" >2.1687</td>\n",
       "      <td id=\"T_2649a_row2_col4\" class=\"data row2 col4\" >1.6874</td>\n",
       "      <td id=\"T_2649a_row2_col5\" class=\"data row2 col5\" >1.2855</td>\n",
       "      <td id=\"T_2649a_row2_col6\" class=\"data row2 col6\" >0.9625</td>\n",
       "      <td id=\"T_2649a_row2_col7\" class=\"data row2 col7\" >0.5215</td>\n",
       "      <td id=\"T_2649a_row2_col8\" class=\"data row2 col8\" >0.1524</td>\n",
       "    </tr>\n",
       "  </tbody>\n",
       "</table>\n"
      ],
      "text/plain": [
       "<pandas.io.formats.style.Styler at 0x7fcb6dbcf910>"
      ]
     },
     "execution_count": 26,
     "metadata": {},
     "output_type": "execute_result"
    }
   ],
   "source": [
    "period_fwd = curves.index.get_loc(Topt)\n",
    "period_swap = curves.index.get_loc(Tswap)+1\n",
    "\n",
    "step = round(freqcurve / freqswap)\n",
    "\n",
    "discount = curves['discounts'].iloc[period_fwd+step : period_swap : step].sum()\n",
    "\n",
    "blacks_quotes = volatility.copy()\n",
    "blacks_quotes.loc['price'] = 100 * blacks_formula(Topt,volatility,strikes,fwdswap,discount,isCall=True)[0]\n",
    "blacks_quotes.loc['strike'] = strikes\n",
    "blacks_quotes = blacks_quotes.loc[['strike','implied vol','price']]\n",
    "\n",
    "blacks_quotes.style.format('{:.4f}')"
   ]
  },
  {
   "cell_type": "markdown",
   "id": "79df5eed",
   "metadata": {},
   "source": [
    "Use the quoted volatility skew to fit a SABR model.\n",
    "* Throughout, parameterize, `beta=.75`."
   ]
  },
  {
   "cell_type": "code",
   "execution_count": 10,
   "id": "fd32588b",
   "metadata": {},
   "outputs": [],
   "source": [
    "doSLIM = False\n",
    "BETA = 0.75\n",
    "F = fwdswap-1e-8"
   ]
  },
  {
   "cell_type": "markdown",
   "id": "4153c6c6",
   "metadata": {},
   "source": [
    "## 1.1\n",
    "Estimate $(\\alpha,\\rho,\\nu)$ via the SABR formula. Feel free to use the `sabr` function in `cmds/volskew.py`.\n",
    "\n",
    "Report the values of these parameters."
   ]
  },
  {
   "cell_type": "code",
   "execution_count": 15,
   "id": "9c28f1e1",
   "metadata": {},
   "outputs": [],
   "source": [
    "from scipy.optimize import fsolve\n",
    "from scipy.optimize import minimize\n",
    "\n",
    "from pandas.tseries.offsets import Day, BDay\n",
    "from datetime import date\n",
    "\n",
    "import numpy.polynomial.polynomial as poly\n",
    "\n",
    "def zfun(beta, nu, alpha, f, K):\n",
    "    return (nu/alpha) * (f*K)**((1-beta)/2) * np.log(f/K)\n",
    "\n",
    "def chi(z, rho):\n",
    "    return np.log((np.sqrt(1-2*rho*z + z**2) + z - rho) / (1-rho))\n",
    "\n",
    "def sabr(beta,nu,rho,alpha,f,K,T):\n",
    "   \n",
    "    squareNUM = (((1-beta)**2)/24) * (alpha**2)/((f*K)**(1-beta)) + (1/4) * (rho*beta*nu*alpha)/((f*K)**((1-beta)/2))+((2-3*rho**2)/24)*nu**2\n",
    "    NUM = alpha * (1 + squareNUM * T)\n",
    "    squareDEN = 1 + (((1-beta)**2)/24) * (np.log(f/K)**2) + (((1-beta)**4)/1920) * (np.log(f/K)**4)\n",
    "    DEN = (f*K)**((1-beta)/2) * squareDEN\n",
    "    z = zfun(beta,nu,alpha,f,K)        \n",
    "    sigmaB = (NUM/DEN) * (z/chi(z,rho))\n",
    "    \n",
    "    if (type(K) is np.float64) | (type(K) is float):\n",
    "        if f==K:\n",
    "            sigmaB = sabrATM(beta,nu,rho,alpha,f,K,T)\n",
    "    else:\n",
    "        mask = f==K\n",
    "        sigmaB[mask] = sabrATM(beta,nu,rho,alpha,f,K[mask],T)\n",
    "        \n",
    "    return sigmaB\n",
    "\n",
    "def sabrATM(beta,nu,rho,alpha,f,K,T):\n",
    "    brack = (((1-beta)**2)/24) * ((alpha**2)/(f**(2-2*beta))) + (rho * beta * nu * alpha)/(4*f**(1-beta)) + ((2-3*rho**2)/24) * nu**2\n",
    "    \n",
    "    sigma = alpha * (1+brack*T) / f**(1-beta)\n",
    "\n",
    "    return sigma\n",
    "\n",
    "def solve_alpha(beta, nu, rho, T, volATM, f):\n",
    "    coefs = np.ones(4)\n",
    "    coefs[3] = (1-beta)**2 * T / (24*f**(2-2*beta))\n",
    "    coefs[2] = rho * beta * nu * T / (4*f**(1-beta))\n",
    "    coefs[1] = 1 + (2-3*rho**2) * nu**2 * T / 24\n",
    "    coefs[0] = -volATM * f**(1-beta)\n",
    "\n",
    "    roots = poly.polyroots(coefs)\n",
    "    alpha = np.real(roots[np.abs(np.imag(roots))<1e-6][0])\n",
    "    return alpha\n",
    "\n",
    "def sabr_slim(beta,nu,rho,f,K,T,volATM):\n",
    "\n",
    "    alpha = solve_alpha(beta, nu, rho, T, volATM, f)\n",
    "    \n",
    "    squareNUM = (((1-beta)**2)/24) * (alpha**2)/((f*K)**(1-beta)) + (1/4) * (rho*beta*nu*alpha)/((f*K)**((1-beta)/2))+((2-3*rho**2)/24)*nu**2\n",
    "    NUM = alpha * (1 + squareNUM * T)\n",
    "    squareDEN = 1 + (((1-beta)**2)/24) * ((np.log(f/K))**2) + (((1-beta)**4)/1920) * ((np.log(f/K))**4)\n",
    "    DEN = (f*K)**((1-beta)/2) * squareDEN\n",
    "    z = zfun(beta,nu,alpha,f,K)\n",
    "    sigmaB = (NUM/DEN) * (z/chi(z,rho))\n",
    "        \n",
    "    if (type(K) is np.float64) | (type(K) is float):\n",
    "        if (f==K):\n",
    "            sigmaB = sabrATM(beta,nu,rho,alpha,f,K,T)\n",
    "    else:\n",
    "        mask = f==K\n",
    "        sigmaB[mask] = sabrATM(beta,nu,rho,alpha,f,K[mask],T)\n",
    "        \n",
    "    return sigmaB\n"
   ]
  },
  {
   "cell_type": "code",
   "execution_count": 17,
   "id": "a158719a",
   "metadata": {},
   "outputs": [],
   "source": [
    "def obj_fun(xargs):\n",
    "    nu = xargs[0]\n",
    "    rho = xargs[1]\n",
    "    alpha = xargs[2]\n",
    "    \n",
    "    ivolSABR = np.zeros(len(strikes))\n",
    "    \n",
    "    for i,strike in enumerate(strikes):\n",
    "         ivolSABR[i] = sabr(BETA,nu,rho,alpha,F,strike,Topt)\n",
    "    \n",
    "    error = ((ivolSABR - volatility.values)**2).sum()\n",
    "    \n",
    "    return error\n",
    "\n",
    "\n",
    "def obj_fun_slim(xargs):\n",
    "    nu = xargs[0]\n",
    "    rho = xargs[1]\n",
    "    ivolSABR = np.zeros(len(strikes))\n",
    "    \n",
    "    for i,strike in enumerate(strikes):\n",
    "         ivolSABR[i] = sabr_slim(BETA,nu,rho,F,strike,Topt,volATM)\n",
    "    \n",
    "    error = ((ivolSABR - volatility.values)**2).sum()\n",
    "    \n",
    "    return error"
   ]
  },
  {
   "cell_type": "code",
   "execution_count": 18,
   "id": "2b72a21a",
   "metadata": {},
   "outputs": [],
   "source": [
    "if not doSLIM:\n",
    "    x0 = np.array([.6,0,.1])\n",
    "    fun = obj_fun\n",
    "else:\n",
    "    fun = obj_fun_slim\n",
    "    x0 = np.array([.6,0,.1])\n",
    "\n",
    "optim = minimize(fun,x0)\n",
    "xstar = optim.x\n",
    "nustar = xstar[0]\n",
    "rhostar = xstar[1]\n",
    "   \n",
    "if doSLIM:\n",
    "    alphastar = solve_alpha(BETA,nustar,rhostar,Topt,volATM,F)\n",
    "    ivolSABR = sabr_slim(BETA,nustar,rhostar,F,strikes,Topt,volATM)\n",
    "else:\n",
    "    alphastar = xstar[2]\n",
    "    ivolSABR = sabr(BETA,nustar,rhostar,alphastar,F,strikes,Topt)\n",
    "    \n",
    "error = optim.fun"
   ]
  },
  {
   "cell_type": "code",
   "execution_count": 22,
   "id": "6d334f98",
   "metadata": {},
   "outputs": [
    {
     "data": {
      "text/html": [
       "<style type=\"text/css\">\n",
       "</style>\n",
       "<table id=\"T_fdcff\">\n",
       "  <thead>\n",
       "    <tr>\n",
       "      <th class=\"blank level0\" >&nbsp;</th>\n",
       "      <th id=\"T_fdcff_level0_col0\" class=\"col_heading level0 col0\" >SABR Parameters</th>\n",
       "    </tr>\n",
       "  </thead>\n",
       "  <tbody>\n",
       "    <tr>\n",
       "      <th id=\"T_fdcff_level0_row0\" class=\"row_heading level0 row0\" >beta ($\\beta$)</th>\n",
       "      <td id=\"T_fdcff_row0_col0\" class=\"data row0 col0\" >0.7500</td>\n",
       "    </tr>\n",
       "    <tr>\n",
       "      <th id=\"T_fdcff_level0_row1\" class=\"row_heading level0 row1\" >alpha ($\\alpha$)</th>\n",
       "      <td id=\"T_fdcff_row1_col0\" class=\"data row1 col0\" >0.1415</td>\n",
       "    </tr>\n",
       "    <tr>\n",
       "      <th id=\"T_fdcff_level0_row2\" class=\"row_heading level0 row2\" >nu ($\\nu$)</th>\n",
       "      <td id=\"T_fdcff_row2_col0\" class=\"data row2 col0\" >0.7930</td>\n",
       "    </tr>\n",
       "    <tr>\n",
       "      <th id=\"T_fdcff_level0_row3\" class=\"row_heading level0 row3\" >rho ($\\rho$)</th>\n",
       "      <td id=\"T_fdcff_row3_col0\" class=\"data row3 col0\" >-0.4282</td>\n",
       "    </tr>\n",
       "    <tr>\n",
       "      <th id=\"T_fdcff_level0_row4\" class=\"row_heading level0 row4\" >fit error</th>\n",
       "      <td id=\"T_fdcff_row4_col0\" class=\"data row4 col0\" >0.0001</td>\n",
       "    </tr>\n",
       "  </tbody>\n",
       "</table>\n"
      ],
      "text/plain": [
       "<pandas.io.formats.style.Styler at 0x7fcb6b34b280>"
      ]
     },
     "execution_count": 22,
     "metadata": {},
     "output_type": "execute_result"
    }
   ],
   "source": [
    "param = pd.DataFrame([BETA,alphastar,nustar,rhostar,error],index=['beta ($\\\\beta$)','alpha ($\\\\alpha$)','nu ($\\\\nu$)','rho ($\\\\rho$)','fit error'],columns=['SABR Parameters']).style.format('{:.4f}')\n",
    "param"
   ]
  },
  {
   "cell_type": "markdown",
   "id": "69767d05",
   "metadata": {},
   "source": [
    "## 1.2\n",
    "Create a grid of strikes of `[.0025, .09]`, with grid spacing of `10bps`, (.0010).\n",
    "\n",
    "Use the SABR model parameterized above to calculate the volatility for each of these strikes.\n",
    "\n",
    "* Plot the SABR curve, and also include the market quotes in the plot.\n",
    "\n",
    "* Conceptually, does the SABR curve fit these points well? Perfectly?"
   ]
  },
  {
   "cell_type": "code",
   "execution_count": 24,
   "id": "1a85f2cb",
   "metadata": {},
   "outputs": [
    {
     "data": {
      "image/png": "[encoded data removed]",
      "text/plain": [
       "<Figure size 1200x600 with 1 Axes>"
      ]
     },
     "metadata": {},
     "output_type": "display_data"
    }
   ],
   "source": [
    "strikegrid = np.arange(.0025,.09,.0010)\n",
    "if doSLIM:\n",
    "    ivolgrid = sabr_slim(BETA,nustar,rhostar,F,strikegrid,Topt,volATM)\n",
    "else:\n",
    "    ivolgrid = sabr(BETA,nustar,rhostar,alphastar,F,strikegrid,Topt)\n",
    "    \n",
    "sabrcurve = pd.DataFrame(ivolgrid,index=strikegrid,columns=['SABR'])\n",
    "\n",
    "volquotes = volatility.copy()\n",
    "volquotes.loc['strike'] = strikes\n",
    "volquotes = volquotes.T.set_index('strike').rename(columns={'implied vol':'market quotes'})\n",
    "\n",
    "fig, ax = plt.subplots()\n",
    "sabrcurve.plot(ax=ax)\n",
    "volquotes.plot(linestyle='',marker='o',markersize=8,ax=ax)\n",
    "plt.legend();"
   ]
  },
  {
   "cell_type": "markdown",
   "id": "4a0568ef",
   "metadata": {},
   "source": [
    "## 1.3\n",
    "Suppose we want to price the `1y4y` swaption but with a far out-of-the-money strike of `5%`. \n",
    "\n",
    "* Use the SABR vol at this strike to price the swaption.\n",
    "\n",
    "(Note that this strike is far outside the range for which we have market quotes, and even if we do have quotes, they likely are not liquid on a given day.)\n",
    "\n"
   ]
  },
  {
   "cell_type": "code",
   "execution_count": 27,
   "id": "e9220400",
   "metadata": {},
   "outputs": [
    {
     "data": {
      "text/plain": [
       "'Price of the OTM swaption at strike 5.00% is $0.3624.'"
      ]
     },
     "metadata": {},
     "output_type": "display_data"
    }
   ],
   "source": [
    "NEWSTRIKE = .05\n",
    "N = 100\n",
    "\n",
    "if doSLIM:\n",
    "    newvol = sabr_slim(BETA,nustar,rhostar,F,NEWSTRIKE,Topt,volATM)\n",
    "else:\n",
    "    newvol = sabr(BETA,nustar,rhostar,alphastar,F,NEWSTRIKE,Topt)\n",
    "\n",
    "newprice = N * blacks_formula(Topt,newvol,NEWSTRIKE,fwdswap,discount,isCall=True)\n",
    "display(f'Price of the OTM swaption at strike {NEWSTRIKE:.2%} is ${newprice:.4f}.')"
   ]
  },
  {
   "cell_type": "markdown",
   "id": "4cd6d4e2",
   "metadata": {},
   "source": [
    "## 1.4\n",
    "\n",
    "Use the ATM implied volatility to fit $\\alpha$, (sometimes denoted $\\sigma_0$.) That is, for any choice of $(\\rho,\\nu)$, solve a quadratic equation to get $\\alpha$ as a function of those two parameters, along with $\\beta$, which is at its selected (not estimated) value.\n",
    "\n",
    "Recall that we have a simple relationship between ATM vol and $\\alpha$.\n",
    "$$\\sigma_\\text{ATM} = \\alpha\\frac{B}{F^{1-\\beta}}$$\n",
    "where $B$ is defined in the discussion note. It is a quadratic expression of $\\alpha$ along with $(\\beta,\\rho,\\nu)$.\n",
    "\n",
    "This decouples the optimization. We solve for $(\\rho,\\nu)$ and $\\alpha$ as a function of the other two parameters.\n",
    "\n",
    "Consider using the function `sabrATM` in `cmds/volskew.py`."
   ]
  },
  {
   "cell_type": "code",
   "execution_count": 28,
   "id": "c6f92f5b",
   "metadata": {},
   "outputs": [
    {
     "data": {
      "text/html": [
       "<style type=\"text/css\">\n",
       "</style>\n",
       "<table id=\"T_a782a\">\n",
       "  <thead>\n",
       "    <tr>\n",
       "      <th class=\"blank level0\" >&nbsp;</th>\n",
       "      <th id=\"T_a782a_level0_col0\" class=\"col_heading level0 col0\" >SABR Parameters</th>\n",
       "    </tr>\n",
       "  </thead>\n",
       "  <tbody>\n",
       "    <tr>\n",
       "      <th id=\"T_a782a_level0_row0\" class=\"row_heading level0 row0\" >beta ($\\beta$)</th>\n",
       "      <td id=\"T_a782a_row0_col0\" class=\"data row0 col0\" >0.7500</td>\n",
       "    </tr>\n",
       "    <tr>\n",
       "      <th id=\"T_a782a_level0_row1\" class=\"row_heading level0 row1\" >alpha ($\\alpha$)</th>\n",
       "      <td id=\"T_a782a_row1_col0\" class=\"data row1 col0\" >0.1415</td>\n",
       "    </tr>\n",
       "    <tr>\n",
       "      <th id=\"T_a782a_level0_row2\" class=\"row_heading level0 row2\" >nu ($\\nu$)</th>\n",
       "      <td id=\"T_a782a_row2_col0\" class=\"data row2 col0\" >0.7930</td>\n",
       "    </tr>\n",
       "    <tr>\n",
       "      <th id=\"T_a782a_level0_row3\" class=\"row_heading level0 row3\" >rho ($\\rho$)</th>\n",
       "      <td id=\"T_a782a_row3_col0\" class=\"data row3 col0\" >-0.4282</td>\n",
       "    </tr>\n",
       "    <tr>\n",
       "      <th id=\"T_a782a_level0_row4\" class=\"row_heading level0 row4\" >fit error</th>\n",
       "      <td id=\"T_a782a_row4_col0\" class=\"data row4 col0\" >0.0001</td>\n",
       "    </tr>\n",
       "  </tbody>\n",
       "</table>\n"
      ],
      "text/plain": [
       "<pandas.io.formats.style.Styler at 0x7fcb6710a260>"
      ]
     },
     "metadata": {},
     "output_type": "display_data"
    }
   ],
   "source": [
    "doSLIM = True\n",
    "BETA = 0.75\n",
    "F = fwdswap-1e-8\n",
    "\n",
    "param = pd.DataFrame([BETA,alphastar,nustar,rhostar,error],index=['beta ($\\\\beta$)','alpha ($\\\\alpha$)','nu ($\\\\nu$)','rho ($\\\\rho$)','fit error'],columns=['SABR Parameters']).style.format('{:.4f}')\n",
    "display(param)"
   ]
  },
  {
   "cell_type": "code",
   "execution_count": 30,
   "id": "5e2d463d",
   "metadata": {},
   "outputs": [
    {
     "data": {
      "image/png": "[encoded data removed]",
      "text/plain": [
       "<Figure size 1200x600 with 1 Axes>"
      ]
     },
     "metadata": {},
     "output_type": "display_data"
    }
   ],
   "source": [
    "strikegrid = np.arange(.0025,.09,.0010)\n",
    "if doSLIM:\n",
    "    ivolgrid = sabr_slim(BETA,nustar,rhostar,F,strikegrid,Topt,volATM)\n",
    "else:\n",
    "    ivolgrid = sabr(BETA,nustar,rhostar,alphastar,F,strikegrid,Topt)\n",
    "    \n",
    "sabrcurve = pd.DataFrame(ivolgrid,index=strikegrid,columns=['SABR'])\n",
    "\n",
    "volquotes = volatility.copy()\n",
    "volquotes.loc['strike'] = strikes\n",
    "volquotes = volquotes.T.set_index('strike').rename(columns={'implied vol':'market quotes'})\n",
    "\n",
    "fig, ax = plt.subplots()\n",
    "sabrcurve.plot(ax=ax)\n",
    "volquotes.plot(linestyle='',marker='o',markersize=8,ax=ax)\n",
    "plt.legend();"
   ]
  },
  {
   "cell_type": "code",
   "execution_count": 31,
   "id": "0a90b975",
   "metadata": {},
   "outputs": [
    {
     "data": {
      "text/plain": [
       "'Price of the OTM swaption at strike 5.00% is $0.3641.'"
      ]
     },
     "metadata": {},
     "output_type": "display_data"
    }
   ],
   "source": [
    "NEWSTRIKE = .05\n",
    "N = 100\n",
    "\n",
    "if doSLIM:\n",
    "    newvol = sabr_slim(BETA,nustar,rhostar,F,NEWSTRIKE,Topt,volATM)\n",
    "else:\n",
    "    newvol = sabr(BETA,nustar,rhostar,alphastar,F,NEWSTRIKE,Topt)\n",
    "\n",
    "newprice = N * blacks_formula(Topt,newvol,NEWSTRIKE,fwdswap,discount,isCall=True)\n",
    "display(f'Price of the OTM swaption at strike {NEWSTRIKE:.2%} is ${newprice:.4f}.')"
   ]
  },
  {
   "cell_type": "markdown",
   "id": "dffcd7d1",
   "metadata": {},
   "source": [
    "***"
   ]
  },
  {
   "cell_type": "markdown",
   "id": "b2d70615",
   "metadata": {},
   "source": [
    "# 2. SABR and Risk Management"
   ]
  },
  {
   "cell_type": "markdown",
   "id": "e4207d40",
   "metadata": {},
   "source": [
    "Consider how an **increase** of `50bps` in the underlying rate impacts the price of the `1y4y` ATM swaption.\n",
    "\n",
    "Here, we are assuming that\n",
    "* the rate change will impact the forward swap rate directly, one-for-one with other rates.\n",
    "* the shift happens on `Feb 21, 2024`.\n",
    "\n",
    "Of course, in reality, a rate change\n",
    "* may price in early to some degree if it is expected\n",
    "* may not impact the forward swap rate one-for-one. We would need to model how the discount curve changes and what that change (level, slope, curvature?) would do to the forward swap rate."
   ]
  },
  {
   "cell_type": "markdown",
   "id": "6f99f98e",
   "metadata": {},
   "source": [
    "## 2.1\n",
    "\n",
    "Use Black's equation to re-price the `1y4y` swaption with\n",
    "* the same ATM volatility\n",
    "* an underlying (forward swap) rate increased `50bps`.\n",
    "* the same time-to-maturities. (We should decrease these all by 1/365, but we focus here on the delta effects rather than the theta. And it would be a small impact anyone.)\n",
    "\n",
    "Report \n",
    "* the new price\n",
    "* the change in price divided by `50bps`, (a numerical delta.)"
   ]
  },
  {
   "cell_type": "code",
   "execution_count": 32,
   "id": "4b715110",
   "metadata": {},
   "outputs": [],
   "source": [
    "doSLIM = False"
   ]
  },
  {
   "cell_type": "code",
   "execution_count": 33,
   "id": "19434e6d",
   "metadata": {},
   "outputs": [
    {
     "data": {
      "image/png": "[encoded data removed]",
      "text/plain": [
       "<Figure size 1200x600 with 1 Axes>"
      ]
     },
     "metadata": {},
     "output_type": "display_data"
    }
   ],
   "source": [
    "warnings.filterwarnings('ignore')\n",
    "DATE = '2023-02-21'\n",
    "\n",
    "SHIFT = 50/100/100\n",
    "\n",
    "sabrcurve.rename(columns={'SABR':f'SABR: underlying at {DATE}'},inplace=True)\n",
    "if doSLIM:\n",
    "    sabrcurve[f'SABR: underlying + {SHIFT*100*100:.0f}bps'] = sabr_slim(BETA,nustar,rhostar,F+SHIFT,strikegrid,Topt,volATM)\n",
    "else:\n",
    "    sabrcurve[f'SABR: underlying + {SHIFT*100*100:.0f}bps'] = sabr(BETA,nustar,rhostar,alphastar,F+SHIFT,strikegrid,Topt)\n",
    "\n",
    "fig, ax = plt.subplots()\n",
    "sabrcurve.plot(ax=ax)\n",
    "plt.xlim([F-.005,F+.005])\n",
    "plt.ylim([volATM-.05,volATM+.05])\n",
    "plt.axvline(F,color='k',linestyle='--',label=f'underlying at {DATE}')\n",
    "plt.axvline(F+SHIFT,color='k',linestyle=':',label=f'underlying + {SHIFT*100*100:.0f}bps')\n",
    "plt.ylabel('swaption implied volatility');\n",
    "plt.xlabel('strike')\n",
    "plt.legend();"
   ]
  },
  {
   "cell_type": "markdown",
   "id": "8e590904",
   "metadata": {},
   "source": [
    "## 2.2\n",
    "\n",
    "Now, we consider how the volatility may change with the underlying shift of `50bps`.\n",
    "\n",
    "Using the same SABR parameters from `1.1`, and the strike grid from `1.2`, plot the new SABR curve accounting for the underlying rate shifting up `50bps`."
   ]
  },
  {
   "cell_type": "code",
   "execution_count": 34,
   "id": "21a39c8d",
   "metadata": {},
   "outputs": [],
   "source": [
    "idloc = (sabrcurve.index.to_series()-fwdswap).abs().idxmin()\n",
    "\n",
    "newvols = sabrcurve.loc[idloc]\n",
    "strikeATM = strikes[idstrikeATM]\n",
    "\n",
    "Frange = F + [0,SHIFT]"
   ]
  },
  {
   "cell_type": "code",
   "execution_count": 37,
   "id": "cbe3c4c1",
   "metadata": {},
   "outputs": [
    {
     "data": {
      "text/html": [
       "<style type=\"text/css\">\n",
       "</style>\n",
       "<table id=\"T_4f415\">\n",
       "  <thead>\n",
       "    <tr>\n",
       "      <th class=\"blank level0\" >&nbsp;</th>\n",
       "      <th id=\"T_4f415_level0_col0\" class=\"col_heading level0 col0\" >2023-02-21</th>\n",
       "      <th id=\"T_4f415_level0_col1\" class=\"col_heading level0 col1\" >shift</th>\n",
       "    </tr>\n",
       "  </thead>\n",
       "  <tbody>\n",
       "    <tr>\n",
       "      <th id=\"T_4f415_level0_row0\" class=\"row_heading level0 row0\" >static</th>\n",
       "      <td id=\"T_4f415_row0_col0\" class=\"data row0 col0\" >1.69</td>\n",
       "      <td id=\"T_4f415_row0_col1\" class=\"data row0 col1\" >2.80</td>\n",
       "    </tr>\n",
       "    <tr>\n",
       "      <th id=\"T_4f415_level0_row1\" class=\"row_heading level0 row1\" >dynamic</th>\n",
       "      <td id=\"T_4f415_row1_col0\" class=\"data row1 col0\" >1.69</td>\n",
       "      <td id=\"T_4f415_row1_col1\" class=\"data row1 col1\" >2.90</td>\n",
       "    </tr>\n",
       "  </tbody>\n",
       "</table>\n"
      ],
      "text/plain": [
       "<pandas.io.formats.style.Styler at 0x7fcb6dfe7c40>"
      ]
     },
     "execution_count": 37,
     "metadata": {},
     "output_type": "execute_result"
    }
   ],
   "source": [
    "period_fwd = curves.index.get_loc(Topt)\n",
    "period_swap = curves.index.get_loc(Tswap)+1\n",
    "step = round(freqcurve/freqswap)\n",
    "\n",
    "discount = curves['discounts'].iloc[period_fwd+step : period_swap : step].sum()/freqswap\n",
    "\n",
    "blackprices = pd.Series(N * blacks_formula(Topt-np.array([0,1/365]), newvols[0],strikeATM,Frange,discount,isCall=True), index=[DATE,'shift'], name='static').to_frame().T\n",
    "blackprices.loc['dynamic'] = N * blacks_formula(Topt-np.array([0,1/365]), newvols,strikeATM,Frange,discount,isCall=True)\n",
    "blackprices.style.format('{:.2f}')"
   ]
  },
  {
   "cell_type": "markdown",
   "id": "3eac1381",
   "metadata": {},
   "source": [
    "## 2.3\n",
    "\n",
    "Calculate the new volatility specifically for the pre-shift ATM strike.\n",
    "\n",
    "Use this in Black's formula similar to `2.1`, where the only change is the volatility now reflects the shift in the underlying (not the strike).\n",
    "\n",
    "Report\n",
    "* the new price\n",
    "* the change in price divided by `50bps`"
   ]
  },
  {
   "cell_type": "code",
   "execution_count": 38,
   "id": "c379e286",
   "metadata": {},
   "outputs": [
    {
     "data": {
      "text/html": [
       "<style type=\"text/css\">\n",
       "</style>\n",
       "<table id=\"T_43878\">\n",
       "  <thead>\n",
       "    <tr>\n",
       "      <th class=\"blank level0\" >&nbsp;</th>\n",
       "      <th id=\"T_43878_level0_col0\" class=\"col_heading level0 col0\" >delta</th>\n",
       "    </tr>\n",
       "  </thead>\n",
       "  <tbody>\n",
       "    <tr>\n",
       "      <th id=\"T_43878_level0_row0\" class=\"row_heading level0 row0\" >static</th>\n",
       "      <td id=\"T_43878_row0_col0\" class=\"data row0 col0\" >221.91</td>\n",
       "    </tr>\n",
       "    <tr>\n",
       "      <th id=\"T_43878_level0_row1\" class=\"row_heading level0 row1\" >dynamic</th>\n",
       "      <td id=\"T_43878_row1_col0\" class=\"data row1 col0\" >241.79</td>\n",
       "    </tr>\n",
       "  </tbody>\n",
       "</table>\n"
      ],
      "text/plain": [
       "<pandas.io.formats.style.Styler at 0x7fcb6dfe79d0>"
      ]
     },
     "execution_count": 38,
     "metadata": {},
     "output_type": "execute_result"
    }
   ],
   "source": [
    "delta = (blackprices.diff(axis=1) / SHIFT)['shift'].rename('delta')\n",
    "delta.to_frame().style.format('{:.2f}')"
   ]
  },
  {
   "cell_type": "markdown",
   "id": "651dee83",
   "metadata": {},
   "source": [
    "## 2.4\n",
    "\n",
    "How much different is the (dynamic) delta which accounts for the shift in volatility from the (static) delta in `2.1`?"
   ]
  },
  {
   "cell_type": "code",
   "execution_count": 39,
   "id": "2960a100",
   "metadata": {},
   "outputs": [
    {
     "data": {
      "text/plain": [
       "'Relative change to delta: 8.96%.'"
      ]
     },
     "metadata": {},
     "output_type": "display_data"
    }
   ],
   "source": [
    "delta_relative_change = delta.pct_change().loc['dynamic']\n",
    "display(f'Relative change to delta: {delta_relative_change:.2%}.')"
   ]
  },
  {
   "cell_type": "markdown",
   "id": "efcd09ea",
   "metadata": {},
   "source": [
    "***"
   ]
  }
 ],
 "metadata": {
  "hide_input": false,
  "kernelspec": {
   "display_name": "Python 3 (ipykernel)",
   "language": "python",
   "name": "python3"
  },
  "language_info": {
   "codemirror_mode": {
    "name": "ipython",
    "version": 3
   },
   "file_extension": ".py",
   "mimetype": "text/x-python",
   "name": "python",
   "nbconvert_exporter": "python",
   "pygments_lexer": "ipython3",
   "version": "3.10.9"
  }
 },
 "nbformat": 4,
 "nbformat_minor": 5
}
